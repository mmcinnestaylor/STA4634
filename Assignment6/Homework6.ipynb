{
 "cells": [
  {
   "cell_type": "markdown",
   "metadata": {},
   "source": [
    "# NAMES: Timothy Barao, Marlan McInnes-Taylor\n",
    "# FSUIDS: tjb13b, mm05f"
   ]
  },
  {
   "cell_type": "code",
   "execution_count": 1,
   "metadata": {},
   "outputs": [],
   "source": [
    "import numpy as np\n",
    "import pandas as pd\n",
    "import matplotlib.pyplot as plt\n",
    "from numpy import linalg as LA"
   ]
  },
  {
   "cell_type": "code",
   "execution_count": 2,
   "metadata": {},
   "outputs": [],
   "source": [
    "class FSA:\n",
    "    def __init__(self, xt, yt, xv, yv):\n",
    "        self.load_data(xt, yt, xv, yv)\n",
    "        \n",
    "        self.s = 0.001\n",
    "        self.u = 50 #100\n",
    "        self.N_iter = 500\n",
    "        self.lr = 0.0001       #Try 20\n",
    "\n",
    "        #self.B_0 = 0\n",
    " \n",
    "        self.M = self.x_t.shape[1]\n",
    "        self.N = self.x_t.shape[0]\n",
    "        self.B = np.zeros(self.M)\n",
    "        # self.k = [10, 30, 100, 300, 500]\n",
    "        \n",
    "        self.losses = []\n",
    "    \n",
    "    \n",
    "    def load_data(self, x_train_file, y_train_file, x_valid_file, y_valid_file):\n",
    "        with open(x_train_file) as file:\n",
    "            \n",
    "            if \"dexter\" in x_train_file:\n",
    "                self.x_t = pd.read_csv(file, delim_whitespace=False, header=None)\n",
    "            else:    \n",
    "                self.x_t = pd.read_csv(file, delim_whitespace=True, header=None)\n",
    "            self.x_t = self.x_t.to_numpy(dtype=np.float64)\n",
    "\n",
    "        with open(y_train_file) as file:\n",
    "            self.y_t = pd.read_csv(file, header=None)\n",
    "            self.y_t = self.y_t.to_numpy(dtype=np.float64)\n",
    "\n",
    "        with open(x_valid_file) as file:\n",
    "            \n",
    "            if \"dexter\" in x_valid_file:\n",
    "                self.x_v = pd.read_csv(file, delim_whitespace=False, header=None)\n",
    "            else:    \n",
    "                self.x_v = pd.read_csv(file, delim_whitespace=True, header=None)\n",
    "            self.x_v = self.x_v.to_numpy(dtype=np.float64)\n",
    "            \n",
    "        with open(y_valid_file) as file:\n",
    "            self.y_v = pd.read_csv(file, header=None)\n",
    "            self.y_v = self.y_v.to_numpy(dtype=np.float64)\n",
    "\n",
    "        self.N = self.x_t.shape[0]   # Rows\n",
    "        self.M = self.x_t.shape[1]   # Columns \n",
    "\n",
    "        # Standardize data\n",
    "        for i in range(0, self.M):\n",
    "            if (not np.any(self.x_v[:, i])):\n",
    "                self.x_v[:, i].fill(0)\n",
    "            else:  \n",
    "                self.x_v[:, i] = (self.x_v[:, i] - np.mean(self.x_v[:, i]))/(np.std(self.x_v[:, i]))\n",
    "\n",
    "            if(not np.any(self.x_t[:, i])):\n",
    "                self.x_t[:, i].fill(0)\n",
    "            else:\n",
    "                self.x_t[:, i] = (self.x_t[:, i] - np.mean(self.x_t[:, i]))/(np.std(self.x_t[:, i]))  \n",
    "        \n",
    "        self.x_v = np.insert(self.x_v, 0, 1, axis=1)\n",
    "        self.x_t = np.insert(self.x_t, 0, 1, axis=1)\n",
    "\n",
    "                \n",
    "    def gradient_update(self):\n",
    "        loss = self.loss()\n",
    "        self.B = self.B - self.lr * loss\n",
    "\n",
    "        \n",
    "        return self.B, LA.norm(loss)\n",
    "    \n",
    "    def loss(self):\n",
    "    \n",
    "        Bx=np.sum(self.x_t*self.B, axis=1)\n",
    "        yBx=np.sum(Bx*self.y_t.flatten())\n",
    "        \n",
    "        temp=2.*(yBx-1.)/(1.+(yBx-1.)*(yBx-1.))\n",
    "        temp=temp*self.y_t.flatten()\n",
    "        temp[yBx>1.]=0.\n",
    "        \n",
    "        grad=np.sum((self.x_t).T*temp, axis=1)+2.*self.s*self.B\n",
    "        return grad\n",
    "\n",
    "    def predict(self):\n",
    "        xB = np.matmul(self.x_t, self.B)\n",
    "        yPred = np.sign(xB)\n",
    "        trainAcc = 1- np.mean(yPred == self.y_t.flatten())\n",
    "        \n",
    "        xB = np.matmul(self.x_v, self.B)\n",
    "        yPred = np.sign(xB)\n",
    "        testAcc = 1 - np.mean(yPred == self.y_v.flatten())\n",
    "        return trainAcc, testAcc\n",
    "    \n",
    "    def train(self, k):\n",
    "        mPrev = self.M\n",
    "        for i in range(0, self.N_iter):\n",
    "            if k == 30:\n",
    "                B, loss = self.gradient_update()\n",
    "                self.losses.append(loss)\n",
    "            else:\n",
    "                self.gradient_update()\n",
    "            \n",
    "            temp = (self.N_iter - 2 * i)/(2 * i * self.u + self.N_iter)\n",
    "            temp = max(0., temp)\n",
    "            mi = k + (self.M - k) * temp\n",
    "            mi = int(mi)\n",
    "            \n",
    "            if mi < mPrev:\n",
    "                indc = np.absolute(self.B)\n",
    "                sort = np.argsort(indc)\n",
    "                sort = sort[-mi:]\n",
    "                self.B=self.B[sort]\n",
    "                self.x_t=(self.x_t.T[sort]).T\n",
    "                self.x_v=(self.x_v.T[sort]).T\n",
    "                mPrev = mi\n",
    "                \n",
    "            #print(\"Iteration: \", i, \"M_i: \", int(mi))\n",
    "            #print('Non-zero count: ', np.count_nonzero(self.B))\n",
    "            \n",
    "        return 0\n",
    "    \n",
    "    \n",
    "    def print_features(self):\n",
    "        print(\"X_train Objs: \", self.x_t.shape[0], \"X_train Feats: \", self.x_t.shape[1])\n",
    "        print(\"Y_train Objs: \", self.y_t.shape[0])\n",
    "\n",
    "        print(\"\\nX_valid Objs: \", self.x_v.shape[0], \"X_valid Feats: \", self.x_v.shape[1])\n",
    "        print(\"Y_valid Objs: \", self.y_v.shape[0])\n",
    "\n",
    "                \n",
    "        #self.x_t, self.y_t, self.x_v, self.y_v = x_train, y_train, x_valid, y_valid \n"
   ]
  },
  {
   "cell_type": "code",
   "execution_count": null,
   "metadata": {},
   "outputs": [],
   "source": [
    "# Select k = [10, 30, 100, 300] features\n",
    "# Plot the training loss vs iteration number k = 10\n",
    "# Report in Table the misclassification errors on the training and testing set for models obtained for all k\n",
    "# Plot the misclassification error on the training set and testing set vs k"
   ]
  },
  {
   "cell_type": "code",
   "execution_count": 3,
   "metadata": {},
   "outputs": [],
   "source": [
    "K = [10, 30, 100, 300, 500]\n",
    "trainErrors = []\n",
    "testErrors = []\n",
    "losses = []"
   ]
  },
  {
   "cell_type": "markdown",
   "metadata": {},
   "source": [
    "# Madelon"
   ]
  },
  {
   "cell_type": "code",
   "execution_count": 4,
   "metadata": {},
   "outputs": [],
   "source": [
    "x_train_file = \"../data/MADELON/madelon_train.data\"\n",
    "y_train_file = \"../data/MADELON/madelon_train.labels\"\n",
    "\n",
    "x_valid_file = \"../data/MADELON/madelon_valid.data\"\n",
    "y_valid_file = \"../data/MADELON/madelon_valid.labels\""
   ]
  },
  {
   "cell_type": "code",
   "execution_count": 5,
   "metadata": {},
   "outputs": [
    {
     "name": "stdout",
     "output_type": "stream",
     "text": [
      "Train Errors:  [40.6, 38.3, 36.85, 34.9, 34.8]\n",
      "Test Errors:  [40.17, 40.17, 40.17, 42.0, 41.83]\n"
     ]
    }
   ],
   "source": [
    "#model = FSA(x_train_file, y_train_file, x_valid_file, y_valid_file)\n",
    "#iterations = np.arange(0, model.N_iter)\n",
    "for k in K:\n",
    "    #model.print_features()\n",
    "    model = FSA(x_train_file, y_train_file, x_valid_file, y_valid_file)\n",
    "    model.train(k)\n",
    "    if k == 30:\n",
    "        xVals = np.arange(0, model.N_iter)\n",
    "        losses = model.losses\n",
    "    trainAccuracy, testAccuracy = model.predict()\n",
    "    #print(trainAccuracy, testAccuracy)\n",
    "    trainErrors.append(round((trainAccuracy) * 100, 2))\n",
    "    testErrors.append(round((testAccuracy) * 100, 2))\n",
    "print(\"Train Errors: \", trainErrors)\n",
    "print(\"Test Errors: \", testErrors)"
   ]
  },
  {
   "cell_type": "code",
   "execution_count": 6,
   "metadata": {},
   "outputs": [
    {
     "data": {
      "image/png": "[encoded data removed]",
      "text/plain": [
       "<Figure size 432x288 with 1 Axes>"
      ]
     },
     "metadata": {
      "needs_background": "light"
     },
     "output_type": "display_data"
    }
   ],
   "source": [
    "plt.plot(K, trainErrors, linestyle='-', marker='o', color='r', label='Train')\n",
    "plt.plot(K, testErrors, linestyle='-', marker='o', color='b', label='Test')\n",
    "plt.grid(True)\n",
    "plt.xticks(K)\n",
    "plt.title('Misclassification Error vs Number of Features')\n",
    "plt.xlabel('Number of Features (k)')\n",
    "plt.ylabel('Misclassification Error (%)')\n",
    "plt.legend()\n",
    "plt.show()\n"
   ]
  },
  {
   "cell_type": "code",
   "execution_count": 22,
   "metadata": {},
   "outputs": [
    {
     "data": {
      "image/png": "[encoded data removed]",
      "text/plain": [
       "<Figure size 432x288 with 1 Axes>"
      ]
     },
     "metadata": {
      "needs_background": "light"
     },
     "output_type": "display_data"
    }
   ],
   "source": [
    "\n",
    "#print(xVals)\n",
    "plt.plot(xVals[1:], losses[1:], linestyle='-', marker='o', color='g')\n",
    "plt.grid(True)\n",
    "#plt.xticks(xVals)\n",
    "plt.title('Training Loss vs Iteration Number k=30')\n",
    "plt.xlabel('Iteration Number (i)')\n",
    "plt.ylabel('Training Loss (L_i)')\n",
    "plt.show()"
   ]
  },
  {
   "cell_type": "code",
   "execution_count": 9,
   "metadata": {},
   "outputs": [
    {
     "data": {
      "text/html": [
       "<div>\n",
       "<style scoped>\n",
       "    .dataframe tbody tr th:only-of-type {\n",
       "        vertical-align: middle;\n",
       "    }\n",
       "\n",
       "    .dataframe tbody tr th {\n",
       "        vertical-align: top;\n",
       "    }\n",
       "\n",
       "    .dataframe thead th {\n",
       "        text-align: right;\n",
       "    }\n",
       "</style>\n",
       "<table border=\"1\" class=\"dataframe\">\n",
       "  <thead>\n",
       "    <tr style=\"text-align: right;\">\n",
       "      <th></th>\n",
       "      <th>Training Error (%)</th>\n",
       "      <th>Test Error (%)</th>\n",
       "    </tr>\n",
       "    <tr>\n",
       "      <th>N Features</th>\n",
       "      <th></th>\n",
       "      <th></th>\n",
       "    </tr>\n",
       "  </thead>\n",
       "  <tbody>\n",
       "    <tr>\n",
       "      <td>10</td>\n",
       "      <td>40.60</td>\n",
       "      <td>40.17</td>\n",
       "    </tr>\n",
       "    <tr>\n",
       "      <td>30</td>\n",
       "      <td>38.30</td>\n",
       "      <td>40.17</td>\n",
       "    </tr>\n",
       "    <tr>\n",
       "      <td>100</td>\n",
       "      <td>36.85</td>\n",
       "      <td>40.17</td>\n",
       "    </tr>\n",
       "    <tr>\n",
       "      <td>300</td>\n",
       "      <td>34.90</td>\n",
       "      <td>42.00</td>\n",
       "    </tr>\n",
       "    <tr>\n",
       "      <td>500</td>\n",
       "      <td>34.80</td>\n",
       "      <td>41.83</td>\n",
       "    </tr>\n",
       "  </tbody>\n",
       "</table>\n",
       "</div>"
      ],
      "text/plain": [
       "            Training Error (%)  Test Error (%)\n",
       "N Features                                    \n",
       "10                       40.60           40.17\n",
       "30                       38.30           40.17\n",
       "100                      36.85           40.17\n",
       "300                      34.90           42.00\n",
       "500                      34.80           41.83"
      ]
     },
     "execution_count": 9,
     "metadata": {},
     "output_type": "execute_result"
    }
   ],
   "source": [
    "errorTableMadelon = pd.DataFrame({\"Training Error (%)\":[0, 0, 0, 0, 0], \"Test Error (%)\":[0, 0, 0, 0, 0]}, index=K)\n",
    "errorTableMadelon.index.name = \"N Features\"\n",
    "for k, trainErr, testErr in zip(K, trainErrors, testErrors):\n",
    "    errorTableMadelon.loc[k, 'Training Error (%)'] = trainErr\n",
    "    errorTableMadelon.loc[k, 'Test Error (%)'] = testErr\n",
    "    \n",
    "errorTableMadelon"
   ]
  },
  {
   "cell_type": "code",
   "execution_count": 10,
   "metadata": {},
   "outputs": [],
   "source": [
    "trainErrors.clear()\n",
    "testErrors.clear()"
   ]
  },
  {
   "cell_type": "markdown",
   "metadata": {},
   "source": [
    "# Dexter"
   ]
  },
  {
   "cell_type": "code",
   "execution_count": 11,
   "metadata": {},
   "outputs": [],
   "source": [
    "x_train_file = \"../data/dexter/dexter_train.csv\"\n",
    "y_train_file = \"../data/dexter/dexter_train.labels\"\n",
    "\n",
    "x_valid_file = \"../data/dexter/dexter_valid.csv\"\n",
    "y_valid_file = \"../data/dexter/dexter_valid.labels\""
   ]
  },
  {
   "cell_type": "code",
   "execution_count": 12,
   "metadata": {},
   "outputs": [
    {
     "name": "stdout",
     "output_type": "stream",
     "text": [
      "Train Errors:  [28.0, 18.33, 5.33, 2.33, 1.67]\n",
      "Test Errors:  [27.67, 20.0, 10.67, 8.33, 10.67]\n"
     ]
    }
   ],
   "source": [
    "#model = FSA(x_train_file, y_train_file, x_valid_file, y_valid_file)\n",
    "#iterations = np.arange(0, model.N_iter)\n",
    "for k in K:\n",
    "    #model.print_features()\n",
    "    model = FSA(x_train_file, y_train_file, x_valid_file, y_valid_file)\n",
    "    model.train(k)\n",
    "    if k == 30:\n",
    "        xVals = np.arange(0, model.N_iter)\n",
    "        losses = model.losses\n",
    "    trainAccuracy, testAccuracy = model.predict()\n",
    "    #print(trainAccuracy, testAccuracy)\n",
    "    trainErrors.append(round((trainAccuracy) * 100, 2))\n",
    "    testErrors.append(round((testAccuracy) * 100, 2))\n",
    "print(\"Train Errors: \", trainErrors)\n",
    "print(\"Test Errors: \", testErrors)"
   ]
  },
  {
   "cell_type": "code",
   "execution_count": 23,
   "metadata": {},
   "outputs": [
    {
     "data": {
      "image/png": "[encoded data removed]",
      "text/plain": [
       "<Figure size 432x288 with 1 Axes>"
      ]
     },
     "metadata": {
      "needs_background": "light"
     },
     "output_type": "display_data"
    }
   ],
   "source": [
    "plt.plot(xVals[1:], losses[1:], linestyle='-', marker='o', color='g')\n",
    "plt.grid(True)\n",
    "#plt.xticks(xVals)\n",
    "plt.title('Training Loss vs Iteration Number k=30')\n",
    "plt.xlabel('Iteration Number (i)')\n",
    "plt.ylabel('Training Loss (L_i)')\n",
    "plt.show()"
   ]
  },
  {
   "cell_type": "code",
   "execution_count": 15,
   "metadata": {},
   "outputs": [
    {
     "data": {
      "image/png": "[encoded data removed]",
      "text/plain": [
       "<Figure size 432x288 with 1 Axes>"
      ]
     },
     "metadata": {
      "needs_background": "light"
     },
     "output_type": "display_data"
    }
   ],
   "source": [
    "plt.plot(K, trainErrors, linestyle='-', marker='o', color='r', label='Train')\n",
    "plt.plot(K, testErrors, linestyle='-', marker='o', color='b', label='Test')\n",
    "plt.grid(True)\n",
    "# plt.xticks(k)\n",
    "plt.title('Misclassification Error vs Number of Features')\n",
    "plt.xlabel('Number of Features (k)')\n",
    "plt.ylabel('Misclassification Error (%)')\n",
    "plt.legend()\n",
    "plt.show()"
   ]
  },
  {
   "cell_type": "code",
   "execution_count": 16,
   "metadata": {},
   "outputs": [
    {
     "data": {
      "text/html": [
       "<div>\n",
       "<style scoped>\n",
       "    .dataframe tbody tr th:only-of-type {\n",
       "        vertical-align: middle;\n",
       "    }\n",
       "\n",
       "    .dataframe tbody tr th {\n",
       "        vertical-align: top;\n",
       "    }\n",
       "\n",
       "    .dataframe thead th {\n",
       "        text-align: right;\n",
       "    }\n",
       "</style>\n",
       "<table border=\"1\" class=\"dataframe\">\n",
       "  <thead>\n",
       "    <tr style=\"text-align: right;\">\n",
       "      <th></th>\n",
       "      <th>Training Error (%)</th>\n",
       "      <th>Test Error (%)</th>\n",
       "    </tr>\n",
       "    <tr>\n",
       "      <th>N Features</th>\n",
       "      <th></th>\n",
       "      <th></th>\n",
       "    </tr>\n",
       "  </thead>\n",
       "  <tbody>\n",
       "    <tr>\n",
       "      <td>10</td>\n",
       "      <td>28.00</td>\n",
       "      <td>27.67</td>\n",
       "    </tr>\n",
       "    <tr>\n",
       "      <td>30</td>\n",
       "      <td>18.33</td>\n",
       "      <td>20.00</td>\n",
       "    </tr>\n",
       "    <tr>\n",
       "      <td>100</td>\n",
       "      <td>5.33</td>\n",
       "      <td>10.67</td>\n",
       "    </tr>\n",
       "    <tr>\n",
       "      <td>300</td>\n",
       "      <td>2.33</td>\n",
       "      <td>8.33</td>\n",
       "    </tr>\n",
       "    <tr>\n",
       "      <td>500</td>\n",
       "      <td>1.67</td>\n",
       "      <td>10.67</td>\n",
       "    </tr>\n",
       "  </tbody>\n",
       "</table>\n",
       "</div>"
      ],
      "text/plain": [
       "            Training Error (%)  Test Error (%)\n",
       "N Features                                    \n",
       "10                       28.00           27.67\n",
       "30                       18.33           20.00\n",
       "100                       5.33           10.67\n",
       "300                       2.33            8.33\n",
       "500                       1.67           10.67"
      ]
     },
     "execution_count": 16,
     "metadata": {},
     "output_type": "execute_result"
    }
   ],
   "source": [
    "errorTableDexter = pd.DataFrame({\"Training Error (%)\":[0, 0, 0, 0, 0], \"Test Error (%)\":[0, 0, 0, 0, 0]}, index=K)\n",
    "errorTableDexter.index.name = \"N Features\"\n",
    "for k, trainErr, testErr in zip(K, trainErrors, testErrors):\n",
    "    errorTableDexter.loc[k, 'Training Error (%)'] = trainErr\n",
    "    errorTableDexter.loc[k, 'Test Error (%)'] = testErr\n",
    "    \n",
    "errorTableDexter"
   ]
  },
  {
   "cell_type": "code",
   "execution_count": 17,
   "metadata": {},
   "outputs": [],
   "source": [
    "trainErrors.clear()\n",
    "testErrors.clear()"
   ]
  },
  {
   "cell_type": "markdown",
   "metadata": {},
   "source": [
    "# Gisette "
   ]
  },
  {
   "cell_type": "code",
   "execution_count": 18,
   "metadata": {},
   "outputs": [],
   "source": [
    "x_train_file = \"../data/Gisette/gisette_train.data\"\n",
    "y_train_file = \"../data/Gisette/gisette_train.labels\"\n",
    "\n",
    "x_valid_file = \"../data/Gisette/gisette_valid.data\"\n",
    "y_valid_file = \"../data/Gisette/gisette_valid.labels\""
   ]
  },
  {
   "cell_type": "code",
   "execution_count": 19,
   "metadata": {},
   "outputs": [
    {
     "name": "stdout",
     "output_type": "stream",
     "text": [
      "Train Errors:  [14.22, 14.73, 14.88, 13.67, 13.3]\n",
      "Test Errors:  [15.0, 16.2, 16.4, 15.0, 13.8]\n"
     ]
    }
   ],
   "source": [
    "#model = FSA(x_train_file, y_train_file, x_valid_file, y_valid_file)\n",
    "#iterations = np.arange(0, model.N_iter)\n",
    "for k in K:\n",
    "    #model.print_features()\n",
    "    model = FSA(x_train_file, y_train_file, x_valid_file, y_valid_file)\n",
    "    model.train(k)\n",
    "    if k == 30:\n",
    "        xVals = np.arange(0, model.N_iter)\n",
    "        losses = model.losses\n",
    "    trainAccuracy, testAccuracy = model.predict()\n",
    "    #print(trainAccuracy, testAccuracy)\n",
    "    trainErrors.append(round((trainAccuracy) * 100, 2))\n",
    "    testErrors.append(round((testAccuracy) * 100, 2))\n",
    "print(\"Train Errors: \", trainErrors)\n",
    "print(\"Test Errors: \", testErrors)"
   ]
  },
  {
   "cell_type": "code",
   "execution_count": 21,
   "metadata": {},
   "outputs": [
    {
     "data": {
      "image/png": "[encoded data removed]",
      "text/plain": [
       "<Figure size 432x288 with 1 Axes>"
      ]
     },
     "metadata": {
      "needs_background": "light"
     },
     "output_type": "display_data"
    }
   ],
   "source": [
    "plt.plot(xVals[1:], losses[1:], linestyle='-', marker='o', color='g')\n",
    "plt.grid(True)\n",
    "# plt.xticks(xVals)\n",
    "plt.title('Training Loss vs Iteration Number k=30')\n",
    "plt.xlabel('Iteration Number (i)')\n",
    "plt.ylabel('Training Loss (L_i)')\n",
    "plt.show()"
   ]
  },
  {
   "cell_type": "code",
   "execution_count": 24,
   "metadata": {},
   "outputs": [
    {
     "data": {
      "image/png": "[encoded data removed]",
      "text/plain": [
       "<Figure size 432x288 with 1 Axes>"
      ]
     },
     "metadata": {
      "needs_background": "light"
     },
     "output_type": "display_data"
    }
   ],
   "source": [
    "plt.plot(K, trainErrors, linestyle='-', marker='o', color='r', label='Train')\n",
    "plt.plot(K, testErrors, linestyle='-', marker='o', color='b', label='Test')\n",
    "plt.grid(True)\n",
    "# plt.xticks(k)\n",
    "plt.title('Misclassification Error vs Number of Features')\n",
    "plt.xlabel('Number of Features (k)')\n",
    "plt.ylabel('Misclassification Error (%)')\n",
    "plt.legend()\n",
    "plt.show()"
   ]
  },
  {
   "cell_type": "code",
   "execution_count": 25,
   "metadata": {},
   "outputs": [
    {
     "data": {
      "text/html": [
       "<div>\n",
       "<style scoped>\n",
       "    .dataframe tbody tr th:only-of-type {\n",
       "        vertical-align: middle;\n",
       "    }\n",
       "\n",
       "    .dataframe tbody tr th {\n",
       "        vertical-align: top;\n",
       "    }\n",
       "\n",
       "    .dataframe thead th {\n",
       "        text-align: right;\n",
       "    }\n",
       "</style>\n",
       "<table border=\"1\" class=\"dataframe\">\n",
       "  <thead>\n",
       "    <tr style=\"text-align: right;\">\n",
       "      <th></th>\n",
       "      <th>Training Error (%)</th>\n",
       "      <th>Test Error (%)</th>\n",
       "    </tr>\n",
       "    <tr>\n",
       "      <th>N Features</th>\n",
       "      <th></th>\n",
       "      <th></th>\n",
       "    </tr>\n",
       "  </thead>\n",
       "  <tbody>\n",
       "    <tr>\n",
       "      <td>10</td>\n",
       "      <td>14.22</td>\n",
       "      <td>15.0</td>\n",
       "    </tr>\n",
       "    <tr>\n",
       "      <td>30</td>\n",
       "      <td>14.73</td>\n",
       "      <td>16.2</td>\n",
       "    </tr>\n",
       "    <tr>\n",
       "      <td>100</td>\n",
       "      <td>14.88</td>\n",
       "      <td>16.4</td>\n",
       "    </tr>\n",
       "    <tr>\n",
       "      <td>300</td>\n",
       "      <td>13.67</td>\n",
       "      <td>15.0</td>\n",
       "    </tr>\n",
       "    <tr>\n",
       "      <td>500</td>\n",
       "      <td>13.30</td>\n",
       "      <td>13.8</td>\n",
       "    </tr>\n",
       "  </tbody>\n",
       "</table>\n",
       "</div>"
      ],
      "text/plain": [
       "            Training Error (%)  Test Error (%)\n",
       "N Features                                    \n",
       "10                       14.22            15.0\n",
       "30                       14.73            16.2\n",
       "100                      14.88            16.4\n",
       "300                      13.67            15.0\n",
       "500                      13.30            13.8"
      ]
     },
     "execution_count": 25,
     "metadata": {},
     "output_type": "execute_result"
    }
   ],
   "source": [
    "errorTableGisette = pd.DataFrame({\"Training Error (%)\":[0, 0, 0, 0, 0], \"Test Error (%)\":[0, 0, 0, 0, 0]}, index=K)\n",
    "errorTableGisette.index.name = \"N Features\"\n",
    "for k, trainErr, testErr in zip(K, trainErrors, testErrors):\n",
    "    errorTableGisette.loc[k, 'Training Error (%)'] = trainErr\n",
    "    errorTableGisette.loc[k, 'Test Error (%)'] = testErr\n",
    "    \n",
    "errorTableGisette"
   ]
  },
  {
   "cell_type": "markdown",
   "metadata": {},
   "source": [
    "# Commented Code\n"
   ]
  },
  {
   "cell_type": "markdown",
   "metadata": {},
   "source": [
    "# In Load Data:    \n",
    "    # x_valid = np.insert(x_valid, 0, 1, axis=1)\n",
    "    # x_train = np.insert(x_train, 0, 1, axis=1)\n",
    "\n",
    "    #y_valid = np.where(y_valid == -1, 0, y_valid)  \n",
    "    #y_train = np.where(y_train == -1, 0, y_train)\n",
    "    \n",
    "                '''\n",
    "                while np.count_nonzero(self.B) > mi:\n",
    "                    minimum = np.amin(self.B, where=np.where(self.B != 0))\n",
    "                    indices = np.where(self.B == minimum)\n",
    "                    for index in indices:\n",
    "                        self.B[index] = 0\n",
    "                        if np.count_nonzero(self.B) == mi:\n",
    "                            break    \n",
    "                mPrev = mi\n",
    "            '''\n",
    "        \n",
    "        \n",
    "         \n",
    "        #temp = np.sum(self.x_t*self.B, axis=1)\n",
    "        #temp = np.dot(self.x_t, self.B)\n",
    "        #temp = np.dot(temp, self.y_t.flatten())\n",
    "        \n",
    "        temp = np.matmul(self.x_t, self.B)\n",
    "        # print((self.y_t.T).shape, temp.shape)\n",
    "        temp = np.matmul(self.y_t.T, temp)\n",
    "        temp = LA.norm(temp)\n",
    "        \n",
    "        \n",
    "        if temp > 1:\n",
    "            temp = 0\n",
    "        else:\n",
    "            var = (temp - 1)**2\n",
    "            temp = np.log(1 + var)\n",
    "            \n",
    "        temp += self.s * LA.norm(self.B, 2)        \n",
    "        temp /= self.N \n",
    "        return temp\n",
    "        \n",
    "        losses[0][:-1]"
   ]
  },
  {
   "cell_type": "code",
   "execution_count": null,
   "metadata": {},
   "outputs": [],
   "source": []
  }
 ],
 "metadata": {
  "kernelspec": {
   "display_name": "Python 3",
   "language": "python",
   "name": "python3"
  },
  "language_info": {
   "codemirror_mode": {
    "name": "ipython",
    "version": 3
   },
   "file_extension": ".py",
   "mimetype": "text/x-python",
   "name": "python",
   "nbconvert_exporter": "python",
   "pygments_lexer": "ipython3",
   "version": "3.7.4"
  }
 },
 "nbformat": 4,
 "nbformat_minor": 2
}
