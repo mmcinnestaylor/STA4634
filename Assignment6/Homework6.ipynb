{
 "cells": [
  {
   "cell_type": "markdown",
   "metadata": {},
   "source": [
    "# NAMES: Timothy Barao, Marlan McInnes-Taylor\n",
    "# FSUIDS: tjb13b, mm05f"
   ]
  },
  {
   "cell_type": "code",
   "execution_count": 1,
   "metadata": {},
   "outputs": [],
   "source": [
    "import numpy as np\n",
    "import pandas as pd\n",
    "import matplotlib.pyplot as plt"
   ]
  },
  {
   "cell_type": "code",
   "execution_count": 2,
   "metadata": {},
   "outputs": [],
   "source": [
    "class FSA:\n",
    "    def __init__(self, xt, yt, xv, yv):\n",
    "        self.load_data(xt, yt, xv, yv)\n",
    "        \n",
    "        self.s = 0.001\n",
    "        self.u = 100\n",
    "        self.N_iter = 500\n",
    "        self.lr = 0.01\n",
    "\n",
    "        #self.B_0 = 0\n",
    "        self.B = np.zeros(len(self.x_t + 1))\n",
    "    \n",
    "    \n",
    "    def load_data(self, x_train_file, y_train_file, x_valid_file, y_valid_file):\n",
    "        with open(x_train_file) as file:\n",
    "            \n",
    "            if \"Dexter\" in x_train_file:\n",
    "                self.x_t = pd.read_csv(file, delim_whitespace=False, header=None)\n",
    "            else:    \n",
    "                self.x_t = pd.read_csv(file, delim_whitespace=True, header=None)\n",
    "            self.x_t = self.x_t.to_numpy(dtype=np.float64)\n",
    "\n",
    "        with open(y_train_file) as file:\n",
    "            self.y_t = pd.read_csv(file, header=None)\n",
    "            self.y_t = self.y_t.to_numpy(dtype=np.float64)\n",
    "\n",
    "        with open(x_valid_file) as file:\n",
    "            \n",
    "            if \"Dexter\" in x_valid_file:\n",
    "                self.x_v = pd.read_csv(file, delim_whitespace=False, header=None)\n",
    "            else:    \n",
    "                self.x_v = pd.read_csv(file, delim_whitespace=True, header=None)\n",
    "            self.x_v = self.x_v.to_numpy(dtype=np.float64)\n",
    "            \n",
    "        with open(y_valid_file) as file:\n",
    "            self.y_v = pd.read_csv(file, header=None)\n",
    "            self.y_v = self.y_v.to_numpy(dtype=np.float64)\n",
    "\n",
    "        self.N = self.x_t.shape[0]   # Rows\n",
    "        self.M = self.x_t.shape[1]   # Columns \n",
    "\n",
    "        # Standardize data\n",
    "        for i in range(0, self.M):\n",
    "            if (not np.any(self.x_v[:, i])):\n",
    "                self.x_v[:, i].fill(0)\n",
    "            else:  \n",
    "                self.x_v[:, i] = (self.x_v[:, i] - np.mean(self.x_v[:, i]))/(np.std(self.x_v[:, i]))\n",
    "\n",
    "            if(not np.any(self.x_t[:, i])):\n",
    "                self.x_t[:, i].fill(0)\n",
    "            else:\n",
    "                self.x_t[:, i] = (self.x_t[:, i] - np.mean(self.x_t[:, i]))/(np.std(self.x_t[:, i]))  \n",
    "        \n",
    "        self.x_v = np.insert(self.x_v, 0, 1, axis=1)\n",
    "        self.x_t = np.insert(self.x_t, 0, 1, axis=1)\n",
    "\n",
    "                \n",
    "    def gradient_update(self):\n",
    "        #B = B - n * L(B)\n",
    "        return B\n",
    "    \n",
    "    def loss(self):\n",
    "        return 0\n",
    "    \n",
    "    def predict(self):\n",
    "        return 0\n",
    "    \n",
    "    def train(self):\n",
    "        return 0\n",
    "    \n",
    "    \n",
    "    def print_features(self):\n",
    "        print(\"X_train Objs: \", self.x_t.shape[0], \"X_train Feats: \", self.x_t.shape[1])\n",
    "        print(\"Y_train Objs: \", self.y_t.shape[0])\n",
    "\n",
    "        print(\"\\nX_valid Objs: \", self.x_v.shape[0], \"X_valid Feats: \", self.x_v.shape[1])\n",
    "        print(\"Y_valid Objs: \", self.y_v.shape[0])\n",
    "\n",
    "                \n",
    "        #self.x_t, self.y_t, self.x_v, self.y_v = x_train, y_train, x_valid, y_valid \n"
   ]
  },
  {
   "cell_type": "code",
   "execution_count": 3,
   "metadata": {},
   "outputs": [],
   "source": [
    "# Select k = [10, 30, 100, 300] features\n",
    "# Plot the training loss vs iteration number k = 10\n",
    "# Report in Table the misclassification errors on the training and testing set for models obtained for all k\n",
    "# Plot the misclassification error on the training set and testing set vs k"
   ]
  },
  {
   "cell_type": "markdown",
   "metadata": {},
   "source": [
    "# Madelon"
   ]
  },
  {
   "cell_type": "code",
   "execution_count": 4,
   "metadata": {},
   "outputs": [],
   "source": [
    "x_train_file = \"Data/Madelon/madelon_train.data\"\n",
    "y_train_file = \"Data/Madelon/madelon_train.labels\"\n",
    "\n",
    "x_valid_file = \"Data/Madelon/madelon_valid.data\"\n",
    "y_valid_file = \"Data/Madelon/madelon_valid.labels\""
   ]
  },
  {
   "cell_type": "code",
   "execution_count": 5,
   "metadata": {},
   "outputs": [
    {
     "name": "stdout",
     "output_type": "stream",
     "text": [
      "X_train Objs:  2000 X_train Feats:  501\n",
      "Y_train Objs:  2000\n",
      "\n",
      "X_valid Objs:  600 X_valid Feats:  501\n",
      "Y_valid Objs:  600\n"
     ]
    }
   ],
   "source": [
    "model = FSA(x_train_file, y_train_file, x_valid_file, y_valid_file)\n",
    "model.print_features()"
   ]
  },
  {
   "cell_type": "markdown",
   "metadata": {},
   "source": [
    "# Dexter"
   ]
  },
  {
   "cell_type": "code",
   "execution_count": 6,
   "metadata": {},
   "outputs": [],
   "source": [
    "x_train_file = \"Data/Dexter/dexter_train.csv\"\n",
    "y_train_file = \"Data/Dexter/dexter_train.labels\"\n",
    "\n",
    "x_valid_file = \"Data/Dexter/dexter_valid.csv\"\n",
    "y_valid_file = \"Data/Dexter/dexter_valid.labels\""
   ]
  },
  {
   "cell_type": "code",
   "execution_count": 7,
   "metadata": {},
   "outputs": [
    {
     "name": "stdout",
     "output_type": "stream",
     "text": [
      "X_train Objs:  300 X_train Feats:  20001\n",
      "Y_train Objs:  300\n",
      "\n",
      "X_valid Objs:  300 X_valid Feats:  20001\n",
      "Y_valid Objs:  300\n"
     ]
    }
   ],
   "source": [
    "model = FSA(x_train_file, y_train_file, x_valid_file, y_valid_file)\n",
    "model.print_features()"
   ]
  },
  {
   "cell_type": "markdown",
   "metadata": {},
   "source": [
    "# Gisette "
   ]
  },
  {
   "cell_type": "code",
   "execution_count": 8,
   "metadata": {},
   "outputs": [],
   "source": [
    "x_train_file = \"Data/Gisette/gisette_train.data\"\n",
    "y_train_file = \"Data/Gisette/gisette_train.labels\"\n",
    "\n",
    "x_valid_file = \"Data/Gisette/gisette_valid.data\"\n",
    "y_valid_file = \"Data/Gisette/gisette_valid.labels\""
   ]
  },
  {
   "cell_type": "code",
   "execution_count": 9,
   "metadata": {},
   "outputs": [
    {
     "name": "stdout",
     "output_type": "stream",
     "text": [
      "X_train Objs:  6000 X_train Feats:  5001\n",
      "Y_train Objs:  6000\n",
      "\n",
      "X_valid Objs:  1000 X_valid Feats:  5001\n",
      "Y_valid Objs:  1000\n"
     ]
    }
   ],
   "source": [
    "model = FSA(x_train_file, y_train_file, x_valid_file, y_valid_file)\n",
    "model.print_features()"
   ]
  },
  {
   "cell_type": "markdown",
   "metadata": {},
   "source": [
    "# Commented Code\n"
   ]
  },
  {
   "cell_type": "code",
   "execution_count": 10,
   "metadata": {},
   "outputs": [],
   "source": [
    "# In Load Data:    \n",
    "    # x_valid = np.insert(x_valid, 0, 1, axis=1)\n",
    "    # x_train = np.insert(x_train, 0, 1, axis=1)\n",
    "\n",
    "    #y_valid = np.where(y_valid == -1, 0, y_valid)  \n",
    "    #y_train = np.where(y_train == -1, 0, y_train)\n",
    "    \n",
    "    "
   ]
  }
 ],
 "metadata": {
  "kernelspec": {
   "display_name": "Python 3",
   "language": "python",
   "name": "python3"
  },
  "language_info": {
   "codemirror_mode": {
    "name": "ipython",
    "version": 3
   },
   "file_extension": ".py",
   "mimetype": "text/x-python",
   "name": "python",
   "nbconvert_exporter": "python",
   "pygments_lexer": "ipython3",
   "version": "3.7.3"
  }
 },
 "nbformat": 4,
 "nbformat_minor": 2
}
