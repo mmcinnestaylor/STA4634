{
 "cells": [
  {
   "cell_type": "code",
   "execution_count": null,
   "metadata": {},
   "outputs": [],
   "source": [
    "import numpy as np\n",
    "import matplotlib.pyplot as plt\n",
    "import pandas as pd"
   ]
  },
  {
   "cell_type": "code",
   "execution_count": null,
   "metadata": {},
   "outputs": [],
   "source": [
    "class fsaClassifier:\n",
    "    def __init__(self, xTrain, yTrain, xValid, yValid, nIter=500, eta=0.0001, k=10, s=0.001, miu=100.):\n",
    "        self.xTrain=xTrain\n",
    "        self.yTrain=yTrain\n",
    "        self.xValid=xValid\n",
    "        self.yValid=yValid\n",
    "        self.s=s\n",
    "        self.miu=miu\n",
    "        self.nIter=nIter\n",
    "        self.k=k\n",
    "        self.eta=eta\n",
    "        self.preProcess()\n",
    "        self.M=self.xTrain.shape[1]\n",
    "        self.w=np.zeros(self.xTrain.shape[1])\n",
    "\n",
    "    def preProcess(self):\n",
    "        xStd=np.std(self.xTrain, axis=0)\n",
    "        mask=(xStd!=0.)\n",
    "        self.xTrain=self.xTrain[:, mask]\n",
    "        meanX=np.mean(self.xTrain, axis=0)\n",
    "        stdX=np.std(self.xTrain, axis=0)\n",
    "        self.xTrain=(self.xTrain-meanX)/stdX\n",
    "        self.xValid=self.xValid[:, mask]\n",
    "        self.xValid=(self.xValid-meanX)/stdX\n",
    "\n",
    "        self.xTrain=np.insert(self.xTrain, 0, 1., axis=1)\n",
    "        self.xValid=np.insert(self.xValid, 0, 1., axis=1)\n",
    "\n",
    "        self.yTrain[self.yTrain==0.]=-1.\n",
    "        self.yValid[self.yValid==0.]=-1.\n",
    "        \n",
    "    def gradient(self):\n",
    "        wx=np.sum(self.xTrain*self.w, axis=1)\n",
    "        ywx=wx*self.yTrain\n",
    "        temp=2.*(ywx-1.)/(1.+(ywx-1.)*(ywx-1.))\n",
    "        temp=temp*self.yTrain\n",
    "        temp[ywx>1.]=0.\n",
    "        grad=np.sum((self.xTrain).T*temp, axis=1)+2.*self.s*self.w\n",
    "        return grad\n",
    "\n",
    "    def update(self, i):\n",
    "        grad=self.gradient()\n",
    "        self.w-=self.eta*grad\n",
    "        self.fsa(i)\n",
    "\n",
    "    def fsa(self, i):\n",
    "        mi=self.k+(self.M-self.k)*max(0.,\n",
    "                (self.nIter-2*i)/(2*i*self.miu+self.nIter))\n",
    "        mi=int(mi)\n",
    "        #print(i, 'Num Features:', mi)\n",
    "        wAbs=np.absolute(self.w)\n",
    "        wAbsSort=np.argsort(wAbs)\n",
    "        wAbsSort=wAbsSort[-mi:]\n",
    "        self.w=self.w[wAbsSort]\n",
    "        self.xTrain=(self.xTrain.T[wAbsSort]).T\n",
    "        self.xValid=(self.xValid.T[wAbsSort]).T\n",
    "\n",
    "    def train(self):\n",
    "        losses=np.zeros(self.nIter)\n",
    "        \n",
    "        for i in range(self.nIter):\n",
    "            self.update(i)\n",
    "            wx = np.sum(self.xTrain*self.w, axis=1)\n",
    "            ywx = wx*self.yTrain\n",
    "            temp = np.log(1.+(ywx-1.)*(ywx-1.))\n",
    "            temp[ywx>1.]=0.\n",
    "            losses[i]=np.sum(temp)+self.s*np.sum(self.w*self.w)\n",
    "        \n",
    "        wx = np.sum(self.xTrain*self.w, axis=1)\n",
    "        pred=np.ones(self.yTrain.shape[0])\n",
    "        pred[wx<0.]=-1\n",
    "        trainError = 1. - np.mean(pred==self.yTrain)\n",
    "\n",
    "        wx=np.sum(self.xValid*self.w, axis=1)\n",
    "        pred=np.ones(self.yValid.shape[0])\n",
    "        pred[wx<0.]=-1\n",
    "        testError = 1.-np.mean(pred==self.yValid)  \n",
    "        \n",
    "        return losses, trainError, testError"
   ]
  },
  {
   "cell_type": "code",
   "execution_count": null,
   "metadata": {},
   "outputs": [],
   "source": [
    "def graphLosses(losses):\n",
    "    itrs = [x for x in range(len(losses))]\n",
    "    plt.plot(itrs, losses, linestyle='-', marker='o', color='r', label='loss')\n",
    "    plt.title('Training Loss vs Iteration Number, k = 30')\n",
    "    plt.xlabel('Iteration')\n",
    "    plt.ylabel('Training Loss')\n",
    "    plt.legend()\n",
    "    plt.show()"
   ]
  },
  {
   "cell_type": "code",
   "execution_count": null,
   "metadata": {},
   "outputs": [],
   "source": [
    "def graphErrors(trainErrors, testErrors, K):\n",
    "    plt.plot(K, trainErrors, linestyle='-', marker='o', color='r', label='Train')\n",
    "    plt.plot(K, testErrors, linestyle='-', marker='o', color='b', label='Test')\n",
    "    plt.grid(True)\n",
    "    plt.xticks(K)\n",
    "    plt.title('Misclassification Error vs Number of Features')\n",
    "    plt.xlabel('Number of Features (k)')\n",
    "    plt.ylabel('Misclassification Error (%)')\n",
    "    plt.legend()\n",
    "    plt.show()"
   ]
  },
  {
   "cell_type": "code",
   "execution_count": null,
   "metadata": {},
   "outputs": [],
   "source": [
    "def genTable(trainErrors, testErrors, K):\n",
    "    trainErrors = trainErrors * 100\n",
    "    testErrors = testErrors * 100\n",
    "    \n",
    "    errorTable = pd.DataFrame({\"Training Error (%)\":[0, 0, 0, 0, 0], \"Test Error (%)\":[0, 0, 0, 0, 0]}, index=K)\n",
    "    errorTable.index.name = \"k\"\n",
    "\n",
    "    for (k, train, test) in zip(K, trainErrors, testErrors):\n",
    "        errorTable.loc[k, 'Training Error (%)'] = round(train, 2)\n",
    "        errorTable.loc[k, 'Test Error (%)'] = round(test, 2)\n",
    "    \n",
    "    return errorTable"
   ]
  },
  {
   "cell_type": "code",
   "execution_count": null,
   "metadata": {},
   "outputs": [],
   "source": [
    "K = [10, 30, 100, 300, 500]\n",
    "etas=[0.0001, 0.0001, 0.0001, 0.0001, 0.0001]"
   ]
  },
  {
   "cell_type": "markdown",
   "metadata": {},
   "source": [
    "# Part A"
   ]
  },
  {
   "cell_type": "code",
   "execution_count": null,
   "metadata": {},
   "outputs": [],
   "source": [
    "xTrain = np.loadtxt('../data/Gisette/gisette_train.data')\n",
    "yTrain = np.loadtxt('../data/Gisette/gisette_train.labels')\n",
    "xValid = np.loadtxt('../data/Gisette/gisette_valid.data')\n",
    "yValid = np.loadtxt('../data/Gisette/gisette_valid.labels')"
   ]
  },
  {
   "cell_type": "code",
   "execution_count": null,
   "metadata": {},
   "outputs": [],
   "source": [
    "#etas=[0.005, 0.0001, 0.0001, 0.0001, 0.0001]\n",
    "\n",
    "trainErrors=np.zeros(len(K))\n",
    "testErrors=np.zeros(len(K))\n",
    "figureIndex=0\n",
    "\n",
    "for i in range(len(K)):\n",
    "    model = fsaClassifier(xTrain, yTrain, xValid, yValid, eta=etas[i],\n",
    "            k=K[i])\n",
    "    losses, misclassTr, misclassVal=model.train()\n",
    "    \n",
    "    if K[i] == 30:\n",
    "        graphLosses(losses)\n",
    "        \n",
    "    trainErrors[i] = misclassTr\n",
    "    testErrors[i] = misclassVal"
   ]
  },
  {
   "cell_type": "code",
   "execution_count": null,
   "metadata": {},
   "outputs": [],
   "source": [
    "graphErrors(trainErrors, testErrors, K)\n",
    "errorGis = genTable(trainErrors, testErrors, K)"
   ]
  },
  {
   "cell_type": "markdown",
   "metadata": {},
   "source": [
    "# Part B"
   ]
  },
  {
   "cell_type": "code",
   "execution_count": null,
   "metadata": {},
   "outputs": [],
   "source": [
    "xTrain=np.genfromtxt('../data/dexter/dexter_train.csv', delimiter=',')\n",
    "yTrain=np.loadtxt('../data/dexter/dexter_train.labels')\n",
    "xValid=np.genfromtxt('../data/dexter/dexter_valid.csv', delimiter=',')\n",
    "yValid=np.loadtxt('../data/dexter/dexter_valid.labels')"
   ]
  },
  {
   "cell_type": "code",
   "execution_count": null,
   "metadata": {},
   "outputs": [],
   "source": [
    "#etas=[0.0005, 0.001, 0.001, 0.001, 0.0001]\n",
    "\n",
    "trainErrors=np.zeros(len(K))\n",
    "testErrors=np.zeros(len(K))\n",
    "\n",
    "for i in range(len(K)):\n",
    "    model = fsaClassifier(xTrain, yTrain, xValid, yValid, eta=etas[i],\n",
    "            k=K[i])\n",
    "    losses, misclassTr, misclassVal=model.train()\n",
    "    \n",
    "    if K[i] == 30:\n",
    "        graphLosses(losses)\n",
    "        \n",
    "    trainErrors[i] = misclassTr\n",
    "    testErrors[i] = misclassVal"
   ]
  },
  {
   "cell_type": "code",
   "execution_count": null,
   "metadata": {},
   "outputs": [],
   "source": [
    "graphErrors(trainErrors, testErrors, K)\n",
    "errorDex = genTable(trainErrors, testErrors, K)"
   ]
  },
  {
   "cell_type": "markdown",
   "metadata": {},
   "source": [
    "# Part C"
   ]
  },
  {
   "cell_type": "code",
   "execution_count": null,
   "metadata": {},
   "outputs": [],
   "source": [
    "xTrain=np.loadtxt('../data/MADELON/madelon_train.data')\n",
    "yTrain=np.loadtxt('../data/MADELON/madelon_train.labels')\n",
    "xValid=np.loadtxt('../data/MADELON/madelon_valid.data')\n",
    "yValid=np.loadtxt('../data/MADELON/madelon_valid.labels')"
   ]
  },
  {
   "cell_type": "code",
   "execution_count": null,
   "metadata": {},
   "outputs": [],
   "source": [
    "#etas=[0.001, 0.0001, 0.0005, 0.0001, 0.0001]\n",
    "\n",
    "trainErrors=np.zeros(len(K))\n",
    "testErrors=np.zeros(len(K))\n",
    "\n",
    "for i in range(len(K)):\n",
    "    model = fsaClassifier(xTrain, yTrain, xValid, yValid, eta=etas[i],\n",
    "            k=K[i])\n",
    "    losses, misclassTr, misclassVal=model.train()\n",
    "    \n",
    "    if K[i] == 30:\n",
    "        graphLosses(losses)\n",
    "        \n",
    "    trainErrors[i] = misclassTr\n",
    "    testErrors[i] = misclassVal"
   ]
  },
  {
   "cell_type": "code",
   "execution_count": null,
   "metadata": {},
   "outputs": [],
   "source": [
    "graphErrors(trainErrors, testErrors, K)\n",
    "errorMad = genTable(trainErrors, testErrors, K)"
   ]
  },
  {
   "cell_type": "code",
   "execution_count": null,
   "metadata": {},
   "outputs": [],
   "source": [
    "errorTableFull = pd.concat([errorGis, errorDex, errorMad])\n",
    "errorTableFull"
   ]
  }
 ],
 "metadata": {
  "kernelspec": {
   "display_name": "Python 3",
   "language": "python",
   "name": "python3"
  },
  "language_info": {
   "codemirror_mode": {
    "name": "ipython",
    "version": 3
   },
   "file_extension": ".py",
   "mimetype": "text/x-python",
   "name": "python",
   "nbconvert_exporter": "python",
   "pygments_lexer": "ipython3",
   "version": "3.7.4"
  }
 },
 "nbformat": 4,
 "nbformat_minor": 2
}
