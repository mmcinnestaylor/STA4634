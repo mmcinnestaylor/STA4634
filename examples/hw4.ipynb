{
 "cells": [
  {
   "cell_type": "code",
   "execution_count": 68,
   "metadata": {},
   "outputs": [],
   "source": [
    "import numpy as np\n",
    "import matplotlib.pyplot as plt\n",
    "\n",
    "#y = np.loadtxt(\"d:/datasets/uci/gisette/gisette_train.labels\", delimiter=',')\n",
    "#x = np.loadtxt(\"d:/datasets/uci/gisette/gisette_train.data\")\n",
    "y = np.loadtxt(\"d:/datasets/uci/madelon/madelon_train.labels\", delimiter=',')\n",
    "x = np.loadtxt(\"d:/datasets/uci/madelon/madelon_train.data\")\n",
    "#y = np.loadtxt(\"d:/datasets/uci/dexter/dexter_train.labels\", delimiter=',')\n",
    "#x = np.loadtxt(\"d:/datasets/uci/dexter/dexter_train.csv\", delimiter=',')\n",
    "mx=np.mean(x,axis=0)\n",
    "sx=np.std(x,axis=0)\n",
    "sx[sx==0]=0.00001\n",
    "x=(x-mx)/sx\n",
    "n,d=x.shape"
   ]
  },
  {
   "cell_type": "code",
   "execution_count": 69,
   "metadata": {},
   "outputs": [
    {
     "data": {
      "text/plain": [
       "(600, 1)"
      ]
     },
     "execution_count": 69,
     "metadata": {},
     "output_type": "execute_result"
    }
   ],
   "source": [
    "#yt = np.loadtxt(\"d:/datasets/uci/gisette/gisette_valid.labels\", delimiter=',')\n",
    "#xt = np.loadtxt(\"d:/datasets/uci/gisette/gisette_valid.data\")\n",
    "yt = np.loadtxt(\"d:/datasets/uci/madelon/madelon_valid.labels\", delimiter=',')\n",
    "xt = np.loadtxt(\"d:/datasets/uci/madelon/madelon_valid.data\")\n",
    "#yt = np.loadtxt(\"d:/datasets/uci/dexter/dexter_valid.labels\", delimiter=',')\n",
    "#xt = np.loadtxt(\"d:/datasets/uci/dexter/dexter_valid.csv\", delimiter=',')\n",
    "xt=(xt-mx)/sx\n",
    "#yt[yt<0]=0\n",
    "yt=yt[:, np.newaxis]\n",
    "yt.shape"
   ]
  },
  {
   "cell_type": "code",
   "execution_count": 70,
   "metadata": {},
   "outputs": [
    {
     "data": {
      "text/plain": [
       "(2000, 1)"
      ]
     },
     "execution_count": 70,
     "metadata": {},
     "output_type": "execute_result"
    }
   ],
   "source": [
    "ys=y.copy()\n",
    "y[y<0]=0\n",
    "y=y[:, np.newaxis]\n",
    "ys=ys[:, np.newaxis]\n",
    "y.shape"
   ]
  },
  {
   "cell_type": "code",
   "execution_count": 50,
   "metadata": {},
   "outputs": [
    {
     "data": {
      "text/plain": [
       "(6000, 1)"
      ]
     },
     "execution_count": 50,
     "metadata": {},
     "output_type": "execute_result"
    }
   ],
   "source": [
    "ys=ys[:, np.newaxis]\n",
    "ys.shape"
   ]
  },
  {
   "cell_type": "code",
   "execution_count": 71,
   "metadata": {},
   "outputs": [],
   "source": [
    "def err(x,y,w):\n",
    "    xw=np.matmul(x,w)\n",
    "    yxw=y*xw\n",
    "    return np.mean(yxw<=0)\n",
    "def loss(x,y,w):\n",
    "    xw=np.matmul(x,w)\n",
    "    yxw=y*xw\n",
    "    l=np.log(1+np.exp(-yxw))\n",
    "    #print(l.shape)\n",
    "    l[yxw<0]=-yxw[yxw<0]+np.log(1+np.exp(yxw[yxw<0]))\n",
    "    lo=np.mean(l)\n",
    "    #print(lo.shape)\n",
    "    return lo\n",
    "def gradloss(x,y,w):\n",
    "    xw=np.matmul(x,w)\n",
    "    N,d=x.shape\n",
    "    yd=1/(1+np.exp(-xw))\n",
    "    yd=y-yd\n",
    "    #yd1 = yd[:, np.newaxis]\n",
    "    ydx=np.matmul(yd.T,x)\n",
    "    g=ydx.T/N\n",
    "    #print(g.shape)\n",
    "    return g"
   ]
  },
  {
   "cell_type": "code",
   "execution_count": 95,
   "metadata": {
    "scrolled": false
   },
   "outputs": [
    {
     "name": "stdout",
     "output_type": "stream",
     "text": [
      "29\n",
      "train err=0.3595, test err=0.433333\n",
      "\n"
     ]
    },
    {
     "data": {
      "image/png": "[encoded data removed]",
      "text/plain": [
       "<Figure size 432x288 with 1 Axes>"
      ]
     },
     "metadata": {
      "needs_background": "light"
     },
     "output_type": "display_data"
    }
   ],
   "source": [
    "w=np.zeros((d,1))\n",
    "la=0.0024\n",
    "eta=0.1\n",
    "lg=[loss(x,y,w)];\n",
    "for i in range(0,300):\n",
    "    g=gradloss(x,y,w)\n",
    "    w=w+eta*g;\n",
    "    #print(w.shape)\n",
    "    w[np.abs(w)<la]=0\n",
    "    lg.append(loss(x,ys,w)) \n",
    "print(np.sum(np.abs(w)>0))\n",
    "print(\"train err=%g, test err=%g\\n\"%(err(x,ys,w),err(xt,yt,w)))\n",
    "plt.plot(lg,'k')\n",
    "plt.savefig('c:/tmp/loss.png', dpi = 300)\n",
    "plt.show()\n",
    "plt.close()"
   ]
  },
  {
   "cell_type": "code",
   "execution_count": 43,
   "metadata": {},
   "outputs": [
    {
     "data": {
      "text/plain": [
       "0.0"
      ]
     },
     "execution_count": 43,
     "metadata": {},
     "output_type": "execute_result"
    }
   ],
   "source": [
    "xw=np.matmul(x,w)\n",
    "py=np.sign(xw)\n",
    "py[py<0]=0\n",
    "1-np.mean(py==y)"
   ]
  },
  {
   "cell_type": "code",
   "execution_count": 44,
   "metadata": {},
   "outputs": [
    {
     "data": {
      "text/plain": [
       "0.14"
      ]
     },
     "execution_count": 44,
     "metadata": {},
     "output_type": "execute_result"
    }
   ],
   "source": [
    "xw=np.matmul(xt,w)\n",
    "py=np.sign(xw)\n",
    "py[py<0]=0\n",
    "1-np.mean(py==yt)"
   ]
  },
  {
   "cell_type": "code",
   "execution_count": 25,
   "metadata": {},
   "outputs": [
    {
     "data": {
      "text/plain": [
       "array([[1.],\n",
       "       [1.],\n",
       "       [0.],\n",
       "       [1.],\n",
       "       [1.],\n",
       "       [0.],\n",
       "       [0.],\n",
       "       [0.],\n",
       "       [0.],\n",
       "       [0.]])"
      ]
     },
     "execution_count": 25,
     "metadata": {},
     "output_type": "execute_result"
    }
   ],
   "source": [
    "py[0:10]"
   ]
  },
  {
   "cell_type": "code",
   "execution_count": 26,
   "metadata": {},
   "outputs": [
    {
     "data": {
      "text/plain": [
       "array([1., 1., 0., 1., 1., 0., 0., 0., 0., 0.])"
      ]
     },
     "execution_count": 26,
     "metadata": {},
     "output_type": "execute_result"
    }
   ],
   "source": [
    "yt[0:10]"
   ]
  },
  {
   "cell_type": "code",
   "execution_count": null,
   "metadata": {},
   "outputs": [],
   "source": []
  }
 ],
 "metadata": {
  "kernelspec": {
   "display_name": "Python 3",
   "language": "python",
   "name": "python3"
  },
  "language_info": {
   "codemirror_mode": {
    "name": "ipython",
    "version": 3
   },
   "file_extension": ".py",
   "mimetype": "text/x-python",
   "name": "python",
   "nbconvert_exporter": "python",
   "pygments_lexer": "ipython3",
   "version": "3.6.5"
  }
 },
 "nbformat": 4,
 "nbformat_minor": 1
}
