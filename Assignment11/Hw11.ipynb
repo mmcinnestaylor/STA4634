{
 "cells": [
  {
   "cell_type": "markdown",
   "metadata": {},
   "source": [
    "# NAMES: Timothy Barao, Marlan McInnes-Taylor\n",
    "# FSUIDS: tjb13b, mm05f"
   ]
  },
  {
   "cell_type": "code",
   "execution_count": 1,
   "metadata": {},
   "outputs": [],
   "source": [
    "import numpy as np\n",
    "import pandas as pd\n",
    "import matplotlib.pyplot as plt\n",
    "from numpy import linalg as LA\n",
    "import os"
   ]
  },
  {
   "cell_type": "code",
   "execution_count": 2,
   "metadata": {},
   "outputs": [],
   "source": [
    "def loadData():\n",
    "    pb1_file = '../data/pb/hw11pb1.csv'\n",
    "    pb2_file = '../data/pb/hw11pb2.csv'\n",
    "    \n",
    "    pb1 = np.loadtxt(pb1_file, delimiter=',')\n",
    "    pb2 = np.loadtxt(pb2_file, delimiter=',')\n",
    "    \n",
    "    return pb1, pb2"
   ]
  },
  {
   "cell_type": "code",
   "execution_count": 3,
   "metadata": {},
   "outputs": [],
   "source": [
    "# add log probabilities\n",
    "def viterbi(obs, states, start_p, trans_p, emit_p):\n",
    "    V = [{}]\n",
    "    for st in states:\n",
    "        V[0][st] = {\"prob\": start_p[st] * emit_p[st][obs[0]], \"prev\": None}\n",
    "    # Run Viterbi when t > 0\n",
    "    for t in range(1, len(obs)):\n",
    "        V.append({})\n",
    "        for st in states:\n",
    "            max_tr_prob = V[t-1][states[0]][\"prob\"]*trans_p[states[0]][st]\n",
    "            prev_st_selected = states[0]\n",
    "            for prev_st in states[1:]:\n",
    "                tr_prob = V[t-1][prev_st][\"prob\"]*trans_p[prev_st][st]\n",
    "                if tr_prob > max_tr_prob:\n",
    "                    max_tr_prob = tr_prob\n",
    "                    prev_st_selected = prev_st\n",
    "                    \n",
    "            max_prob = max_tr_prob * emit_p[st][obs[t]]\n",
    "            V[t][st] = {\"prob\": max_prob, \"prev\": prev_st_selected}\n",
    "\n",
    "    opt = []\n",
    "    # The highest probability\n",
    "    max_prob = max(value[\"prob\"] for value in V[-1].values())\n",
    "    previous = None\n",
    "    # Get most probable state and its backtrack\n",
    "    for st, data in V[-1].items():\n",
    "        if data[\"prob\"] == max_prob:\n",
    "            opt.append(st)\n",
    "            previous = st\n",
    "            break\n",
    "    # Follow the backtrack till the first observation\n",
    "    for t in range(len(V) - 2, -1, -1):\n",
    "        opt.insert(0, V[t + 1][previous][\"prev\"])\n",
    "        previous = V[t + 1][previous][\"prev\"]\n",
    "\n",
    "    print(' '.join(opt) )\n",
    "\n",
    "def dptable(V):\n",
    "    # Print a table of steps from dictionary\n",
    "    yield \" \".join((\"%12d\" % i) for i in range(len(V)))\n",
    "    for state in V[0]:\n",
    "        yield \"%.7s: \" % state + \" \".join(\"%.7s\" % (\"%f\" % v[state][\"prob\"]) for v in V)"
   ]
  },
  {
   "cell_type": "markdown",
   "metadata": {},
   "source": [
    "# Part 1"
   ]
  },
  {
   "cell_type": "markdown",
   "metadata": {},
   "source": [
    "# a)"
   ]
  },
  {
   "cell_type": "markdown",
   "metadata": {},
   "source": [
    "References: https://en.wikipedia.org/wiki/Viterbi_algorithm"
   ]
  },
  {
   "cell_type": "code",
   "execution_count": 4,
   "metadata": {},
   "outputs": [],
   "source": [
    "p1 = 1.0/10.0\n",
    "p2 = 1.0/2.0\n",
    "p3 = 1.0/6.0\n",
    "\n",
    "init_F = p2\n",
    "init_L = p2\n",
    "\n",
    "fair = [p3, p3, p3, p3, p3, p3]\n",
    "loaded = [p1, p1, p1, p1, p1, p2]\n",
    "\n",
    "pb1, pb2 = loadData()\n",
    "\n",
    "obs = pb1 \n",
    "states = ('1', '2')\n",
    "start_p = {'1': 0.5, '2': 0.5}\n",
    "trans_p = {\n",
    "   '1' : {'1': 0.95, '2': 0.05},\n",
    "   '2' : {'1': 0.05, '2': 0.95}\n",
    "   }\n",
    "emit_p = {\n",
    "   '1' : {1.: p3, 2.: p3, 3.: p3, 4.: p3, 5.: p3, 6.: p3},\n",
    "   '2' : {1.: p1, 2.: p1, 3.: p1, 4.: p1, 5.: p1, 6.: p2}\n",
    "   }"
   ]
  },
  {
   "cell_type": "code",
   "execution_count": 5,
   "metadata": {},
   "outputs": [
    {
     "name": "stdout",
     "output_type": "stream",
     "text": [
      "1 1 1 1 1 1 1 1 1 1 1 1 1 1 1 1 1 1 1 1 1 1 1 1 1 1 1 1 1 1 1 1 1 1 1 1 1 1 1 1 1 1 1 1 1 1 1 1 1 1 1 1 1 1 1 1 1 1 1 1 1 1 1 1 1 1 1 1 1 1 1 1 1 1 1 2 2 2 2 2 2 2 2 2 2 2 2 2 2 2 2 2 2 2 2 2 2 2 2 2 2 2 2 2 2 2 2 2 2 2 2 2 2 2 2 2 2 2 2 2 2 2 2 1 1 1 1 1 1 1 1 1 1 1 1 1 1 1 1 1 1 1 1 1 1 1 1 1 1 1 1 1 1 1 1 1 1 1 1 1 1 1 1 1 1 1 1 1 1 1 1 1 1 1 1 1 1 1 1 1 1 1 1 1 1 1 1 1 1 1 1 1 1 1 1 1 1 1 1 1 1 1 1 1 1 1 1 2 2 2 2 2 2 2 2 2 2 2 2 2 2 2 2 2 2 2 2 2 2 2 2 2 2 2 2 2 2 2 2 2 2 2 2 2 2 2 2 2 2 2 2 2 2 2 2 2 2 2 2 2 2 2 2 2 2 2 2 2 2 2 2 2 2 2 2\n"
     ]
    }
   ],
   "source": [
    "viterbi(obs,\n",
    "        states,\n",
    "        start_p,\n",
    "        trans_p,\n",
    "        emit_p)"
   ]
  },
  {
   "cell_type": "markdown",
   "metadata": {},
   "source": [
    "# b) \n",
    "Refrences: https://en.wikipedia.org/wiki/Forward–backward_algorithm"
   ]
  },
  {
   "cell_type": "code",
   "execution_count": 6,
   "metadata": {},
   "outputs": [],
   "source": [
    "def fwd_bkw(observations, states, start_prob, trans_prob, emm_prob):\n",
    "    # forward part of the algorithm\n",
    "    fwd = []\n",
    "    miu = []\n",
    "    f_prev = {}\n",
    "    for i, observation_i in enumerate(observations):\n",
    "        f_curr = {}\n",
    "        for st in states:\n",
    "            if i == 0:\n",
    "                # base case for the forward part\n",
    "                prev_f_sum = start_prob[st]\n",
    "            else:\n",
    "                prev_f_sum = sum(f_prev[k]*trans_prob[k][st] for k in states)\n",
    "\n",
    "            f_curr[st] = emm_prob[st][observation_i] * prev_f_sum\n",
    "\n",
    "        miu.append(1/(f_curr['1'] + f_curr['2']))\n",
    "        \n",
    "        for st in states:\n",
    "            f_curr[st] *= miu[i]\n",
    "        \n",
    "        fwd.append(f_curr)\n",
    "        f_prev = f_curr\n",
    "\n",
    "    # backward part of the algorithm\n",
    "    bkw = []\n",
    "    b_prev = {}\n",
    "    for i, observation_i_plus in enumerate(reversed(observations[1:]+(None,))):\n",
    "        b_curr = {}\n",
    "        for st in states:\n",
    "            if i == 0:\n",
    "                b_curr[st] = miu[len(miu)-1] * .1 \n",
    "            else:\n",
    "                b_curr[st] = sum(trans_prob[st][l] * emm_prob[l][observation_i_plus] * b_prev[l] for l in states)\n",
    "           \n",
    "        if i != 0:\n",
    "            for st in states:\n",
    "                b_curr[st] *= miu[len(miu)-i-2]        \n",
    "                \n",
    "        bkw.append(b_curr)\n",
    "        b_prev = b_curr\n",
    "\n",
    "    return fwd, bkw  "
   ]
  },
  {
   "cell_type": "code",
   "execution_count": 7,
   "metadata": {},
   "outputs": [],
   "source": [
    "p1 = 1.0/10.0\n",
    "p2 = 1.0/2.0\n",
    "p3 = 1.0/6.0\n",
    "\n",
    "init_F = p2\n",
    "init_L = p2\n",
    "\n",
    "fair = [p3, p3, p3, p3, p3, p3]\n",
    "loaded = [p1, p1, p1, p1, p1, p2]\n",
    "\n",
    "pb1, pb2 = loadData()\n",
    "\n",
    "obs = tuple(pb1)\n",
    "states = ('1', '2')\n",
    "\n",
    "start_p = {'1': 0.5, '2': 0.5}\n",
    "trans_p = {\n",
    "   '1' : {'1': 0.95, '2': 0.05},\n",
    "   '2' : {'1': 0.05, '2': 0.95}\n",
    "   }\n",
    "emit_p = {\n",
    "   '1' : {1.: p3, 2.: p3, 3.: p3, 4.: p3, 5.: p3, 6.: p3},\n",
    "   '2' : {1.: p1, 2.: p1, 3.: p1, 4.: p1, 5.: p1, 6.: p2}\n",
    "   }"
   ]
  },
  {
   "cell_type": "code",
   "execution_count": 8,
   "metadata": {},
   "outputs": [
    {
     "name": "stdout",
     "output_type": "stream",
     "text": [
      "Alpha_1[115]:  0.24137669730725378\n",
      "Alpha_2[115]:  0.7586233026927464\n",
      "Beta_1[115]:  0.4330503843609442\n",
      "Beta_2[115]:  0.5086857770067409\n"
     ]
    }
   ],
   "source": [
    "t = fwd_bkw(obs,\n",
    "        states,\n",
    "        start_p,\n",
    "        trans_p,\n",
    "        emit_p)\n",
    "\n",
    "\n",
    "print(\"Alpha_1[115]: \", t[0][115]['1'])\n",
    "print(\"Alpha_2[115]: \", t[0][115]['2'])\n",
    "\n",
    "print(\"Beta_1[115]: \", t[1][115]['1'])\n",
    "print(\"Beta_2[115]: \", t[1][115]['2'])\n"
   ]
  },
  {
   "cell_type": "markdown",
   "metadata": {},
   "source": [
    "# Part 2"
   ]
  },
  {
   "cell_type": "code",
   "execution_count": 18,
   "metadata": {},
   "outputs": [],
   "source": [
    "def baum_welch(n_iter=1000):\n",
    "    for n in range(n_iter):\n",
    "        alpha, beta = fwd_bkw(obs,\n",
    "                                states,\n",
    "                                start_p,\n",
    "                                trans_p,\n",
    "                                emit_p)\n",
    "        gammas = {'1':[], '2':[]}\n",
    "        Eps = {'1':{'1':[], '2':[]}, '2':{'1':[], '2':[]} }\n",
    "       \n",
    "        # a = trans_p\n",
    "        # b = emit_p\n",
    "        # pi = start_p\n",
    "    \n",
    "        for t in range(len(obs)-1):\n",
    "            g = {}\n",
    "            E_1 = {}\n",
    "            E_2 = {}\n",
    "            \n",
    "            num1 = alpha[t]['1']*beta[t]['1']\n",
    "            num2 = alpha[t]['2']*beta[t]['2']\n",
    "            denom = alpha[t]['1']*beta[t]['1'] + alpha[t]['2']*beta[t]['2']\n",
    "            \n",
    "            gammas['1'].append(num1/denom)\n",
    "            gammas['2'].append(num2/denom)\n",
    "            \n",
    "            E_1['1']  = alpha[t]['1'] * trans_p['1']['1']*beta[t+1]['1'] * emit_p['1'][obs[t+1]]\n",
    "            E_1['2']  = alpha[t]['1'] * trans_p['1']['2']*beta[t+1]['2'] * emit_p['2'][obs[t+1]]\n",
    "        \n",
    "            E_2['1']  = alpha[t]['2'] * trans_p['2']['1']*beta[t+1]['1'] * emit_p['1'][obs[t+1]]\n",
    "            E_2['2']  = alpha[t]['2'] * trans_p['2']['2']*beta[t+1]['2'] * emit_p['2'][obs[t+1]]\n",
    "            \n",
    "            denom = E_1['1'] + E_1['2'] + E_2['1'] +E_2['2']\n",
    "                        \n",
    "            for st in states:\n",
    "                E_1[st] = E_1[st] / denom\n",
    "                E_2[st] = E_2[st] / denom\n",
    "            \n",
    "                Eps['1'][st].append(E_1[st])\n",
    "                Eps['2'][st].append(E_2[st])\n",
    "                \n",
    "            \n",
    "        for st in states:\n",
    "            start_p[st] = gammas[st][0]\n",
    "            gammas[st].append(gammas[st][-1])\n",
    "        \n",
    "            trans_p['1'][st] = sum(Eps['1'][st]) / sum(gammas['1'])\n",
    "            trans_p['2'][st] = sum(Eps['2'][st]) / sum(gammas['2']) \n",
    "            \n",
    "            V = np.array(obs)\n",
    "            \n",
    "            # emit_p is incorrect, may not be updating properly\n",
    "            for d in range(1, 7):\n",
    "                gammas[st] = np.array(gammas[st])\n",
    "                emit_p[st][d] = (sum(V[np.where(V == d)] * gammas[st][np.where(V == d)])) / sum(gammas[st])\n",
    "        \n",
    "        print(\"\\rIteration:\", n, flush=True, end=\"\")"
   ]
  },
  {
   "cell_type": "code",
   "execution_count": 19,
   "metadata": {},
   "outputs": [],
   "source": [
    "p1 = 1.0/10.0\n",
    "p2 = 1.0/2.0\n",
    "p3 = 1.0/6.0\n",
    "\n",
    "init_F = p2\n",
    "init_L = p2\n",
    "\n",
    "fair = [p3, p3, p3, p3, p3, p3]\n",
    "loaded = [.20, .10, .15, .15, .20, .20]\n",
    "\n",
    "pb1, pb2 = loadData()\n",
    "\n",
    "obs = tuple(pb2)\n",
    "states = ('1', '2')\n",
    "\n",
    "start_p = {'1': 0.63, '2': 0.37}\n",
    "trans_p = {\n",
    "   '1' : {'1': 0.50, '2': 0.50},\n",
    "   '2' : {'1': 0.50, '2': 0.50}\n",
    "   }\n",
    "emit_p = {\n",
    "   '1' : {1: p3, 2: p3, 3: p3, 4: p3, 5: p3, 6: p3},\n",
    "   '2' : {1: .20, 2: .10, 3: .15, 4: .15, 5: .20, 6: .20}\n",
    "   }\n"
   ]
  },
  {
   "cell_type": "code",
   "execution_count": 20,
   "metadata": {},
   "outputs": [
    {
     "name": "stdout",
     "output_type": "stream",
     "text": [
      "\n",
      "=-=-=-=-= Initial Parameters =-=-=-=-=\n",
      "\n",
      "\n",
      "=-=-=-= Pi =-=-=-=\n",
      "pi_1:  0.63\n",
      "pi_2:  0.37\n",
      "\n",
      "=-=-=-= a =-=-=-=\n",
      "a_11:  0.5\n",
      "a_12:  0.5\n",
      "a_21:  0.5\n",
      "a_22:  0.5\n",
      "\n",
      "=-=-=-= b =-=-=-=\n",
      "b_1, dice value: 1:  0.16666666666666666\n",
      "b_1, dice value: 2:  0.16666666666666666\n",
      "b_1, dice value: 3:  0.16666666666666666\n",
      "b_1, dice value: 4:  0.16666666666666666\n",
      "b_1, dice value: 5:  0.16666666666666666\n",
      "b_1, dice value: 6:  0.16666666666666666\n",
      "\n",
      "b_2, dice value: 1:  0.2\n",
      "b_2, dice value: 2:  0.1\n",
      "b_2, dice value: 3:  0.15\n",
      "b_2, dice value: 4:  0.15\n",
      "b_2, dice value: 5:  0.2\n",
      "b_2, dice value: 6:  0.2\n",
      "\n"
     ]
    }
   ],
   "source": [
    "print(\"\\n=-=-=-=-= Initial Parameters =-=-=-=-=\\n\")\n",
    "\n",
    "print(\"\\n=-=-=-= Pi =-=-=-=\")\n",
    "for key, value in start_p.items():\n",
    "    print(\"pi_\"+str(key)+\": \", value)\n",
    "\n",
    "\n",
    "print(\"\\n=-=-=-= a =-=-=-=\")\n",
    "for key, value in trans_p.items():\n",
    "    for k, v in value.items():\n",
    "        print(\"a_\"+str(key)+str(k)+\": \", v)\n",
    "        \n",
    "print(\"\\n=-=-=-= b =-=-=-=\")\n",
    "for key, value in emit_p.items():\n",
    "    for k, v in value.items():\n",
    "        print(\"b_\"+str(key)+\", dice value: \" + str(int(k))+\": \", v)    \n",
    "    print(\"\")\n"
   ]
  },
  {
   "cell_type": "code",
   "execution_count": 21,
   "metadata": {},
   "outputs": [
    {
     "name": "stdout",
     "output_type": "stream",
     "text": [
      "Iteration: 999"
     ]
    }
   ],
   "source": [
    "baum_welch()"
   ]
  },
  {
   "cell_type": "code",
   "execution_count": 22,
   "metadata": {},
   "outputs": [
    {
     "name": "stdout",
     "output_type": "stream",
     "text": [
      "\n",
      "=-=-=-=-= After Baum Welch =-=-=-=-=\n",
      "\n",
      "\n",
      "=-=-=-= Pi =-=-=-=\n",
      "pi_1:  1.5525133626075604e-125\n",
      "pi_2:  1.0\n",
      "\n",
      "=-=-=-= a =-=-=-=\n",
      "a_11:  0.9448803197580593\n",
      "a_12:  0.05502810982619924\n",
      "a_21:  0.1870566177449285\n",
      "a_22:  0.8128255898183105\n",
      "\n",
      "=-=-=-= b =-=-=-=\n",
      "b_1, dice value: 1:  0.20347862801432678\n",
      "b_1, dice value: 2:  0.39865189761689535\n",
      "b_1, dice value: 3:  0.6135995969387137\n",
      "b_1, dice value: 4:  0.8285801096886248\n",
      "b_1, dice value: 5:  0.46485553016469455\n",
      "b_1, dice value: 6:  0.5552765444553702\n",
      "\n",
      "b_2, dice value: 1:  0.173699394999152\n",
      "b_2, dice value: 2:  0.42214667955786417\n",
      "b_2, dice value: 3:  0.4036108894508577\n",
      "b_2, dice value: 4:  0.6221914967511367\n",
      "b_2, dice value: 5:  1.1486182215165623\n",
      "b_2, dice value: 6:  0.5725127014832095\n",
      "\n"
     ]
    }
   ],
   "source": [
    "print(\"\\n=-=-=-=-= After Baum Welch =-=-=-=-=\\n\")\n",
    "\n",
    "print(\"\\n=-=-=-= Pi =-=-=-=\")\n",
    "for key, value in start_p.items():\n",
    "    print(\"pi_\"+str(key)+\": \", value)\n",
    "\n",
    "\n",
    "print(\"\\n=-=-=-= a =-=-=-=\")\n",
    "for key, value in trans_p.items():\n",
    "    for k, v in value.items():\n",
    "        print(\"a_\"+str(key)+str(k)+\": \", v)\n",
    "        \n",
    "print(\"\\n=-=-=-= b =-=-=-=\")\n",
    "for key, value in emit_p.items():\n",
    "    for k, v in value.items():\n",
    "        print(\"b_\"+str(key)+\", dice value: \" + str(int(k))+\": \", v)    \n",
    "    print(\"\")\n"
   ]
  }
 ],
 "metadata": {
  "celltoolbar": "Raw Cell Format",
  "kernelspec": {
   "display_name": "Python 3",
   "language": "python",
   "name": "python3"
  },
  "language_info": {
   "codemirror_mode": {
    "name": "ipython",
    "version": 3
   },
   "file_extension": ".py",
   "mimetype": "text/x-python",
   "name": "python",
   "nbconvert_exporter": "python",
   "pygments_lexer": "ipython3",
   "version": "3.6.8"
  }
 },
 "nbformat": 4,
 "nbformat_minor": 2
}
