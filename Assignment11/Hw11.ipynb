{
 "cells": [
  {
   "cell_type": "code",
   "execution_count": 1,
   "metadata": {},
   "outputs": [],
   "source": [
    "import numpy as np\n",
    "import pandas as pd\n",
    "import matplotlib.pyplot as plt\n",
    "from numpy import linalg as LA\n",
    "import os"
   ]
  },
  {
   "cell_type": "code",
   "execution_count": 2,
   "metadata": {},
   "outputs": [],
   "source": [
    "def loadData():\n",
    "    pb1_file = '../data/pb/hw11pb1.csv'\n",
    "    pb2_file = '../data/pb/hw11pb2.csv'\n",
    "    \n",
    "    pb1 = np.loadtxt(pb1_file, delimiter=',')\n",
    "    pb2 = np.loadtxt(pb2_file, delimiter=',')\n",
    "    \n",
    "    return pb1, pb2"
   ]
  },
  {
   "cell_type": "code",
   "execution_count": 3,
   "metadata": {},
   "outputs": [],
   "source": [
    "# add log probabilities\n",
    "def viterbi(obs, states, start_p, trans_p, emit_p):\n",
    "    V = [{}]\n",
    "    for st in states:\n",
    "        V[0][st] = {\"prob\": start_p[st] * emit_p[st][obs[0]], \"prev\": None}\n",
    "    # Run Viterbi when t > 0\n",
    "    for t in range(1, len(obs)):\n",
    "        V.append({})\n",
    "        for st in states:\n",
    "            max_tr_prob = V[t-1][states[0]][\"prob\"]*trans_p[states[0]][st]\n",
    "            prev_st_selected = states[0]\n",
    "            for prev_st in states[1:]:\n",
    "                tr_prob = V[t-1][prev_st][\"prob\"]*trans_p[prev_st][st]\n",
    "                if tr_prob > max_tr_prob:\n",
    "                    max_tr_prob = tr_prob\n",
    "                    prev_st_selected = prev_st\n",
    "                    \n",
    "            max_prob = max_tr_prob * emit_p[st][obs[t]]\n",
    "            V[t][st] = {\"prob\": max_prob, \"prev\": prev_st_selected}\n",
    "\n",
    "    opt = []\n",
    "    # The highest probability\n",
    "    max_prob = max(value[\"prob\"] for value in V[-1].values())\n",
    "    previous = None\n",
    "    # Get most probable state and its backtrack\n",
    "    for st, data in V[-1].items():\n",
    "        if data[\"prob\"] == max_prob:\n",
    "            opt.append(st)\n",
    "            previous = st\n",
    "            break\n",
    "    # Follow the backtrack till the first observation\n",
    "    for t in range(len(V) - 2, -1, -1):\n",
    "        opt.insert(0, V[t + 1][previous][\"prev\"])\n",
    "        previous = V[t + 1][previous][\"prev\"]\n",
    "\n",
    "    print(' '.join(opt) )\n",
    "\n",
    "def dptable(V):\n",
    "    # Print a table of steps from dictionary\n",
    "    yield \" \".join((\"%12d\" % i) for i in range(len(V)))\n",
    "    for state in V[0]:\n",
    "        yield \"%.7s: \" % state + \" \".join(\"%.7s\" % (\"%f\" % v[state][\"prob\"]) for v in V)"
   ]
  },
  {
   "cell_type": "markdown",
   "metadata": {},
   "source": [
    "# Part 1"
   ]
  },
  {
   "cell_type": "markdown",
   "metadata": {},
   "source": [
    "# a)"
   ]
  },
  {
   "cell_type": "markdown",
   "metadata": {},
   "source": [
    "References: https://en.wikipedia.org/wiki/Viterbi_algorithm"
   ]
  },
  {
   "cell_type": "code",
   "execution_count": 4,
   "metadata": {},
   "outputs": [],
   "source": [
    "p1 = 1.0/10.0\n",
    "p2 = 1.0/2.0\n",
    "p3 = 1.0/6.0\n",
    "\n",
    "init_F = p2\n",
    "init_L = p2\n",
    "\n",
    "fair = [p3, p3, p3, p3, p3, p3]\n",
    "loaded = [p1, p1, p1, p1, p1, p2]\n",
    "\n",
    "pb1, pb2 = loadData()\n",
    "\n",
    "obs = pb1 #('normal', 'cold', 'dizzy')\n",
    "states = ('1', '2')\n",
    "start_p = {'1': 0.5, '2': 0.5}\n",
    "trans_p = {\n",
    "   '1' : {'1': 0.95, '2': 0.05},\n",
    "   '2' : {'1': 0.05, '2': 0.95}\n",
    "   }\n",
    "emit_p = {\n",
    "   '1' : {1.: p3, 2.: p3, 3.: p3, 4.: p3, 5.: p3, 6.: p3},\n",
    "   '2' : {1.: p1, 2.: p1, 3.: p1, 4.: p1, 5.: p1, 6.: p2}\n",
    "   }"
   ]
  },
  {
   "cell_type": "code",
   "execution_count": 5,
   "metadata": {},
   "outputs": [
    {
     "name": "stdout",
     "output_type": "stream",
     "text": [
      "1 1 1 1 1 1 1 1 1 1 1 1 1 1 1 1 1 1 1 1 1 1 1 1 1 1 1 1 1 1 1 1 1 1 1 1 1 1 1 1 1 1 1 1 1 1 1 1 1 1 1 1 1 1 1 1 1 1 1 1 1 1 1 1 1 1 1 1 1 1 1 1 1 1 1 2 2 2 2 2 2 2 2 2 2 2 2 2 2 2 2 2 2 2 2 2 2 2 2 2 2 2 2 2 2 2 2 2 2 2 2 2 2 2 2 2 2 2 2 2 2 2 2 1 1 1 1 1 1 1 1 1 1 1 1 1 1 1 1 1 1 1 1 1 1 1 1 1 1 1 1 1 1 1 1 1 1 1 1 1 1 1 1 1 1 1 1 1 1 1 1 1 1 1 1 1 1 1 1 1 1 1 1 1 1 1 1 1 1 1 1 1 1 1 1 1 1 1 1 1 1 1 1 1 1 1 1 2 2 2 2 2 2 2 2 2 2 2 2 2 2 2 2 2 2 2 2 2 2 2 2 2 2 2 2 2 2 2 2 2 2 2 2 2 2 2 2 2 2 2 2 2 2 2 2 2 2 2 2 2 2 2 2 2 2 2 2 2 2 2 2 2 2 2 2\n"
     ]
    }
   ],
   "source": [
    "viterbi(obs,\n",
    "        states,\n",
    "        start_p,\n",
    "        trans_p,\n",
    "        emit_p)"
   ]
  },
  {
   "cell_type": "markdown",
   "metadata": {},
   "source": [
    "# b) \n",
    "Refrences: https://en.wikipedia.org/wiki/Forward–backward_algorithm"
   ]
  },
  {
   "cell_type": "code",
   "execution_count": 6,
   "metadata": {},
   "outputs": [],
   "source": [
    "def fwd_bkw(observations, states, start_prob, trans_prob, emm_prob, end_st):\n",
    "    # forward part of the algorithm\n",
    "    fwd = []\n",
    "    miu = []\n",
    "    f_prev = {}\n",
    "    for i, observation_i in enumerate(observations):\n",
    "        f_curr = {}\n",
    "        for st in states:\n",
    "            if i == 0:\n",
    "                # base case for the forward part\n",
    "                prev_f_sum = start_prob[st]\n",
    "            else:\n",
    "                prev_f_sum = sum(f_prev[k]*trans_prob[k][st] for k in states)\n",
    "\n",
    "            f_curr[st] = emm_prob[st][observation_i] * prev_f_sum\n",
    "            \n",
    "            #if i == 114:\n",
    "            #    print('alpha_{k}_115 = '.format(k = st), f_curr[st])\n",
    "        \n",
    "        miu.append(1/(f_curr['1'] + f_curr['2']))\n",
    "        \n",
    "        for st in states:\n",
    "            f_curr[st] *= miu[i]\n",
    "        \n",
    "        fwd.append(f_curr)\n",
    "        f_prev = f_curr\n",
    "\n",
    "    #p_fwd = sum(f_curr[k] for k in states)\n",
    "\n",
    "    # backward part of the algorithm\n",
    "    bkw = []\n",
    "    b_prev = {}\n",
    "    for i, observation_i_plus in enumerate(reversed(observations[1:]+(None,))):\n",
    "        b_curr = {}\n",
    "        for st in states:\n",
    "            if i == 0:\n",
    "                # base case for backward part\n",
    "                b_curr[st] = miu[len(miu)-1] * .1 #trans_prob[st][end_st]\n",
    "            else:\n",
    "                b_curr[st] = sum(trans_prob[st][l] * emm_prob[l][observation_i_plus] * b_prev[l] for l in states)\n",
    "           \n",
    "        if i != 0:\n",
    "            for st in states:\n",
    "                b_curr[st] *= miu[len(miu)-i-2]        \n",
    "                \n",
    "        bkw.append(b_curr)\n",
    "        b_prev = b_curr\n",
    "\n",
    "    #p_bkw = sum(start_prob[l] * emm_prob[l][observations[0]] * b_curr[l] for l in states)\n",
    "\n",
    "    # merging the two parts\n",
    "\n",
    "    return fwd, bkw   #, posterior"
   ]
  },
  {
   "cell_type": "code",
   "execution_count": 7,
   "metadata": {},
   "outputs": [],
   "source": [
    "p1 = 1.0/10.0\n",
    "p2 = 1.0/2.0\n",
    "p3 = 1.0/6.0\n",
    "\n",
    "init_F = p2\n",
    "init_L = p2\n",
    "\n",
    "fair = [p3, p3, p3, p3, p3, p3]\n",
    "loaded = [p1, p1, p1, p1, p1, p2]\n",
    "\n",
    "pb1, pb2 = loadData()\n",
    "\n",
    "obs = tuple(pb1)\n",
    "states = ('1', '2')\n",
    "end_state = '2'\n",
    "\n",
    "start_p = {'1': 0.5, '2': 0.5}\n",
    "trans_p = {\n",
    "   '1' : {'1': 0.95, '2': 0.05},\n",
    "   '2' : {'1': 0.05, '2': 0.95}\n",
    "   }\n",
    "emit_p = {\n",
    "   '1' : {1.: p3, 2.: p3, 3.: p3, 4.: p3, 5.: p3, 6.: p3},\n",
    "   '2' : {1.: p1, 2.: p1, 3.: p1, 4.: p1, 5.: p1, 6.: p2}\n",
    "   }"
   ]
  },
  {
   "cell_type": "code",
   "execution_count": 8,
   "metadata": {},
   "outputs": [
    {
     "name": "stdout",
     "output_type": "stream",
     "text": [
      "{'1': 0.24137669730725378, '2': 0.7586233026927464} {'1': 0.4330503843609442, '2': 0.5086857770067409}\n"
     ]
    }
   ],
   "source": [
    "t = fwd_bkw(obs,\n",
    "        states,\n",
    "        start_p,\n",
    "        trans_p,\n",
    "        emit_p, \n",
    "        end_state)\n",
    "\n",
    "print(t[0][115], t[1][115])"
   ]
  },
  {
   "cell_type": "markdown",
   "metadata": {},
   "source": [
    "# Part 2"
   ]
  },
  {
   "cell_type": "code",
   "execution_count": 28,
   "metadata": {},
   "outputs": [],
   "source": [
    "def baum_welch(n_iter=10):\n",
    "    for n in range(n_iter):\n",
    "        #alpha = forward(V, a, b, initial_distribution)\n",
    "        #beta = backward(V, a, b)\n",
    "        \n",
    "        alpha, beta = fwd_bkw(obs,\n",
    "                                states,\n",
    "                                start_p,\n",
    "                                trans_p,\n",
    "                                emit_p, \n",
    "                                end_state)\n",
    "        gammas = {'1':[], '2':[]}\n",
    "        Eps = {'1':{'1':[], '2':[]}, '2':{'1':[], '2':[]} }\n",
    "       \n",
    "        \n",
    "        for t in range(len(obs)-1):\n",
    "            g = {}\n",
    "            E_1 = {}\n",
    "            E_2 = {}\n",
    "            \n",
    "            num1 = alpha[t]['1']*beta[t]['1']\n",
    "            num2 = alpha[t]['2']*beta[t]['2']\n",
    "            denom = alpha[t]['1']*beta[t]['1'] + alpha[t]['2']*beta[t]['2']\n",
    "            \n",
    "            gammas['1'].append(num1/denom)\n",
    "            gammas['2'].append(num2/denom)\n",
    "            \n",
    "            E_1['1']  = alpha[t]['1'] * trans_p['1']['1']*beta[t+1]['1'] * emit_p['1'][obs[t+1]]\n",
    "            E_1['2']  = alpha[t]['1'] * trans_p['1']['2']*beta[t+1]['2'] * emit_p['2'][obs[t+1]]\n",
    "        \n",
    "            E_2['1']  = alpha[t]['2'] * trans_p['2']['1']*beta[t+1]['1'] * emit_p['1'][obs[t+1]]\n",
    "            E_2['2']  = alpha[t]['2'] * trans_p['2']['2']*beta[t+1]['2'] * emit_p['2'][obs[t+1]]\n",
    "            \n",
    "            denom = E_1['1'] + E_1['2'] + E_2['1'] +E_2['2']\n",
    "                        \n",
    "            for st in states:\n",
    "                E_1[st] = E_1[st] / denom\n",
    "                E_2[st] = E_2[st] / denom\n",
    "            \n",
    "                Eps['1'][st].append(E_1[st])\n",
    "                Eps['2'][st].append(E_2[st])\n",
    "                \n",
    "            \n",
    "        for st in states:\n",
    "            start_p[st] = gammas[st][0]\n",
    "        \n",
    "            trans_p['1'][st] = sum(Eps['1'][st]) / sum(gammas['1'])\n",
    "            trans_p['2'][st] = sum(Eps['2'][st]) / sum(gammas['2']) \n",
    "            \n",
    "            V = np.array(obs)\n",
    "            \n",
    "            for d in range(1, 7):\n",
    "                ind = np.where(V == d)[0]\n",
    "                gammas[st] = np.array(gammas[st])\n",
    "                emit_p[st][d] = sum(V[np.where(V == d)] * gammas[st][np.where(V == d)-1])\n",
    "        \n",
    "        print(n)\n",
    "        print(start_p)\n",
    "        print(trans_p)\n",
    "        print(emit_p)\n",
    "            \n",
    "        \n",
    "        #print(len(gammas))        \n"
   ]
  },
  {
   "cell_type": "code",
   "execution_count": 29,
   "metadata": {},
   "outputs": [],
   "source": [
    "p1 = 1.0/10.0\n",
    "p2 = 1.0/2.0\n",
    "p3 = 1.0/6.0\n",
    "\n",
    "init_F = p2\n",
    "init_L = p2\n",
    "\n",
    "fair = [p3, p3, p3, p3, p3, p3]\n",
    "loaded = [p1, p1, p1, p1, p1, p2]\n",
    "\n",
    "pb1, pb2 = loadData()\n",
    "\n",
    "obs = tuple(pb2)\n",
    "states = ('1', '2')\n",
    "end_state = 'E'\n",
    "\n",
    "start_p = {'1': 0.5, '2': 0.5}\n",
    "trans_p = {\n",
    "   '1' : {'1': 0.94, '2': 0.05},\n",
    "   '2' : {'1': 0.05, '2': 0.94}\n",
    "   }\n",
    "emit_p = {\n",
    "   '1' : {1.: p3, 2.: p3, 3.: p3, 4.: p3, 5.: p3, 6.: p3},\n",
    "   '2' : {1.: p1, 2.: p1, 3.: p1, 4.: p1, 5.: p1, 6.: p2}\n",
    "   }\n",
    "\n",
    "initital = np.array((0.5, 0.5))\n",
    "\n"
   ]
  },
  {
   "cell_type": "code",
   "execution_count": 30,
   "metadata": {},
   "outputs": [
    {
     "ename": "TypeError",
     "evalue": "unsupported operand type(s) for -: 'tuple' and 'int'",
     "output_type": "error",
     "traceback": [
      "\u001b[0;31m---------------------------------------------------------------------------\u001b[0m",
      "\u001b[0;31mTypeError\u001b[0m                                 Traceback (most recent call last)",
      "\u001b[0;32m<ipython-input-30-3db44456bfe8>\u001b[0m in \u001b[0;36m<module>\u001b[0;34m\u001b[0m\n\u001b[0;32m----> 1\u001b[0;31m \u001b[0mbaum_welch\u001b[0m\u001b[0;34m(\u001b[0m\u001b[0;34m)\u001b[0m\u001b[0;34m\u001b[0m\u001b[0m\n\u001b[0m",
      "\u001b[0;32m<ipython-input-28-023680565560>\u001b[0m in \u001b[0;36mbaum_welch\u001b[0;34m(n_iter)\u001b[0m\n\u001b[1;32m     53\u001b[0m                 \u001b[0mind\u001b[0m \u001b[0;34m=\u001b[0m \u001b[0mnp\u001b[0m\u001b[0;34m.\u001b[0m\u001b[0mwhere\u001b[0m\u001b[0;34m(\u001b[0m\u001b[0mV\u001b[0m \u001b[0;34m==\u001b[0m \u001b[0md\u001b[0m\u001b[0;34m)\u001b[0m\u001b[0;34m[\u001b[0m\u001b[0;36m0\u001b[0m\u001b[0;34m]\u001b[0m\u001b[0;34m\u001b[0m\u001b[0m\n\u001b[1;32m     54\u001b[0m                 \u001b[0mgammas\u001b[0m\u001b[0;34m[\u001b[0m\u001b[0mst\u001b[0m\u001b[0;34m]\u001b[0m \u001b[0;34m=\u001b[0m \u001b[0mnp\u001b[0m\u001b[0;34m.\u001b[0m\u001b[0marray\u001b[0m\u001b[0;34m(\u001b[0m\u001b[0mgammas\u001b[0m\u001b[0;34m[\u001b[0m\u001b[0mst\u001b[0m\u001b[0;34m]\u001b[0m\u001b[0;34m)\u001b[0m\u001b[0;34m\u001b[0m\u001b[0m\n\u001b[0;32m---> 55\u001b[0;31m                 \u001b[0memit_p\u001b[0m\u001b[0;34m[\u001b[0m\u001b[0mst\u001b[0m\u001b[0;34m]\u001b[0m\u001b[0;34m[\u001b[0m\u001b[0md\u001b[0m\u001b[0;34m]\u001b[0m \u001b[0;34m=\u001b[0m \u001b[0msum\u001b[0m\u001b[0;34m(\u001b[0m\u001b[0mV\u001b[0m\u001b[0;34m[\u001b[0m\u001b[0mnp\u001b[0m\u001b[0;34m.\u001b[0m\u001b[0mwhere\u001b[0m\u001b[0;34m(\u001b[0m\u001b[0mV\u001b[0m \u001b[0;34m==\u001b[0m \u001b[0md\u001b[0m\u001b[0;34m)\u001b[0m\u001b[0;34m]\u001b[0m \u001b[0;34m*\u001b[0m \u001b[0mgammas\u001b[0m\u001b[0;34m[\u001b[0m\u001b[0mst\u001b[0m\u001b[0;34m]\u001b[0m\u001b[0;34m[\u001b[0m\u001b[0mnp\u001b[0m\u001b[0;34m.\u001b[0m\u001b[0mwhere\u001b[0m\u001b[0;34m(\u001b[0m\u001b[0mV\u001b[0m \u001b[0;34m==\u001b[0m \u001b[0md\u001b[0m\u001b[0;34m)\u001b[0m\u001b[0;34m-\u001b[0m\u001b[0;36m1\u001b[0m\u001b[0;34m]\u001b[0m\u001b[0;34m)\u001b[0m\u001b[0;34m\u001b[0m\u001b[0m\n\u001b[0m\u001b[1;32m     56\u001b[0m \u001b[0;34m\u001b[0m\u001b[0m\n\u001b[1;32m     57\u001b[0m         \u001b[0mprint\u001b[0m\u001b[0;34m(\u001b[0m\u001b[0mn\u001b[0m\u001b[0;34m)\u001b[0m\u001b[0;34m\u001b[0m\u001b[0m\n",
      "\u001b[0;31mTypeError\u001b[0m: unsupported operand type(s) for -: 'tuple' and 'int'"
     ]
    }
   ],
   "source": [
    "baum_welch()"
   ]
  },
  {
   "cell_type": "code",
   "execution_count": null,
   "metadata": {},
   "outputs": [],
   "source": [
    "print(\"\\n=-=-=-= Pi =-=-=-=\")\n",
    "for key, value in start_p.items():\n",
    "    print(\"pi_\"+str(key)+\": \", value)\n",
    "\n",
    "\n",
    "print(\"\\n=-=-=-= a =-=-=-=\")\n",
    "for key, value in trans_p.items():\n",
    "    for k, v in value.items():\n",
    "        print(\"a_\"+str(key)+str(k)+\": \", v)\n",
    "        \n",
    "print(\"\\n=-=-=-= b =-=-=-=\")\n",
    "for key, value in emit_p.items():\n",
    "    for k, v in value.items():\n",
    "        print(\"b_\"+str(key)+\", dice value: \" + str(int(k))+\": \", v)    \n",
    "    print(\"\")\n"
   ]
  },
  {
   "cell_type": "code",
   "execution_count": null,
   "metadata": {},
   "outputs": [],
   "source": []
  }
 ],
 "metadata": {
  "celltoolbar": "Raw Cell Format",
  "kernelspec": {
   "display_name": "Python 3",
   "language": "python",
   "name": "python3"
  },
  "language_info": {
   "codemirror_mode": {
    "name": "ipython",
    "version": 3
   },
   "file_extension": ".py",
   "mimetype": "text/x-python",
   "name": "python",
   "nbconvert_exporter": "python",
   "pygments_lexer": "ipython3",
   "version": "3.5.3"
  }
 },
 "nbformat": 4,
 "nbformat_minor": 2
}
