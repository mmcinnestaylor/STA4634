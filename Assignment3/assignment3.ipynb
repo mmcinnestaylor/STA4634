{
 "cells": [
  {
   "cell_type": "markdown",
   "metadata": {},
   "source": [
    "'''\n",
    "Names: Marlan Mc-Innes Taylor, Timothy Barao\n",
    "FSUID: mm05f, tjb13b\n",
    "\n",
    "'''"
   ]
  },
  {
   "cell_type": "code",
   "execution_count": 2,
   "metadata": {},
   "outputs": [],
   "source": [
    "import csv\n",
    "import numpy as np\n",
    "import pandas as pd\n",
    "import matplotlib.pyplot as plt\n",
    "from IPython.display import display, HTML"
   ]
  },
  {
   "cell_type": "code",
   "execution_count": 3,
   "metadata": {},
   "outputs": [],
   "source": [
    "#Fairly certain this is working\n",
    "def predict(samples, W):\n",
    "    prod = np.exp(W[0] + np.dot(samples, W))\n",
    "    pred_1 = prod / (1 + prod)\n",
    "    pred_0 = 1  / (1 + prod)\n",
    "   \n",
    "    return np.round(pred_1)\n",
    "\n",
    "#Gradient may be right\n",
    "def gradient(X, Y, W):\n",
    "    prod = W[0] + np.dot(X, W) \n",
    "    #preds = predict(X, W)\n",
    "    d = (Y.flatten() - (np.exp(prod) / (1 + np.exp(prod)))) \n",
    "    gw = np.dot(X.T, d)    \n",
    "    return gw\n",
    "\n",
    "#Loss is wrong\n",
    "def loss(X, Y, W):\n",
    "    prod = np.exp(W[0] + np.dot(X, W))\n",
    "    #print(prod)\n",
    "    #prods = (1/(1 + prod))\n",
    "    prods = np.zeros(len(Y))\n",
    "    \n",
    "    \n",
    "    #for i in range(0, len(prods)):\n",
    "    #    if Y[i] == 1:\n",
    "    #        prods[i] = (prod[i]) / (1+prod[i])\n",
    "    #    else:\n",
    "    #        prods[i] = 1 / (1+prod[i])\n",
    "    \n",
    "    pred_1 = np.where(Y == 1)    \n",
    "    pred_0 = np.where(Y == 0)     \n",
    "\n",
    "    #print(\"DASDSADSADSA\", len(pred_0) + len(pred_1))\n",
    "    \n",
    "    for i in pred_1:\n",
    "        prods[i] =  (prod[i])/(1+prod[i])           #prods[i] * prod[i]       #(np.exp(W[0] + np.dot(X[i], W[i])))\n",
    "    for i in pred_0:\n",
    "        prods[i] = (1)/(1+prod[i])\n",
    "      \n",
    "    prods = np.log(prods+0.00000000001).sum()\n",
    "    \n",
    "    return prods\n",
    "\n"
   ]
  },
  {
   "cell_type": "code",
   "execution_count": 4,
   "metadata": {},
   "outputs": [],
   "source": [
    "learning_rates = [0.0001, 0.001, 0.01, 0.1, 1.0]\n",
    "#learning_rates = [1.0, 0.1, 0.001]\n",
    "shrinkage = 0.0001\n",
    "iterations = 1000"
   ]
  },
  {
   "cell_type": "code",
   "execution_count": 5,
   "metadata": {},
   "outputs": [],
   "source": [
    "x_train_file = \"data/Gisette/gisette_train.data\"\n",
    "y_train_file = \"data/Gisette/gisette_train.labels\"\n",
    "\n",
    "x_valid_file = \"data/Gisette/gisette_valid.data\"\n",
    "y_valid_file = \"data/Gisette/gisette_valid.labels\""
   ]
  },
  {
   "cell_type": "code",
   "execution_count": 6,
   "metadata": {},
   "outputs": [
    {
     "name": "stdout",
     "output_type": "stream",
     "text": [
      "mean:  0.00019996000799843533\n",
      "std:  0.9999999800079977\n",
      "6000\n",
      "5000\n"
     ]
    }
   ],
   "source": [
    "with open(x_train_file) as file:\n",
    "    x_train = pd.read_csv(file, delim_whitespace=True, header=None)\n",
    "    x_train = x_train.to_numpy()\n",
    "    #print(x_train)\n",
    "\n",
    "with open(y_train_file) as file:\n",
    "    y_train = pd.read_csv(file, header=None)\n",
    "    y_train = y_train.to_numpy()\n",
    "    #print(y_train)\n",
    "    \n",
    "with open(x_valid_file) as file:\n",
    "    x_valid = pd.read_csv(file, delim_whitespace=True, header=None)\n",
    "    x_valid = x_valid.to_numpy()\n",
    "    #print(x_train)\n",
    "\n",
    "with open(y_valid_file) as file:\n",
    "    y_valid = pd.read_csv(file, header=None)\n",
    "    y_valid = y_valid.to_numpy()\n",
    "    #print(y_train)\n",
    "\n",
    "N = x_train.shape[0]   \n",
    "M = x_train.shape[1]    \n",
    "    \n",
    "x_valid = (x_valid - x_valid.mean())/(x_valid.std())\n",
    "x_valid = np.insert(x_valid, 0, 1, axis=1)\n",
    "\n",
    "x_train = (x_train - x_train.mean())/(x_train.std())\n",
    "x_train = np.insert(x_train, 0, 1, axis=1)\n",
    "\n",
    "y_valid = np.where(y_valid == -1, 0, y_valid)  \n",
    "y_train = np.where(y_train == -1, 0, y_train)\n",
    "\n",
    "print(\"mean: \", x_train.mean())\n",
    "print(\"std: \", x_train.std())\n",
    "print(N)\n",
    "print(M)"
   ]
  },
  {
   "cell_type": "code",
   "execution_count": 7,
   "metadata": {},
   "outputs": [
    {
     "name": "stdout",
     "output_type": "stream",
     "text": [
      "Lr: 0.0001 Iteration: 999  Loss: -1634.4657521432705"
     ]
    },
    {
     "data": {
      "image/png": "[encoded data removed]",
      "text/plain": [
       "<Figure size 432x288 with 1 Axes>"
      ]
     },
     "metadata": {
      "needs_background": "light"
     },
     "output_type": "display_data"
    },
    {
     "data": {
      "text/html": [
       "<div>\n",
       "<style scoped>\n",
       "    .dataframe tbody tr th:only-of-type {\n",
       "        vertical-align: middle;\n",
       "    }\n",
       "\n",
       "    .dataframe tbody tr th {\n",
       "        vertical-align: top;\n",
       "    }\n",
       "\n",
       "    .dataframe thead th {\n",
       "        text-align: right;\n",
       "    }\n",
       "</style>\n",
       "<table border=\"1\" class=\"dataframe\">\n",
       "  <thead>\n",
       "    <tr style=\"text-align: right;\">\n",
       "      <th></th>\n",
       "      <th>Training</th>\n",
       "      <th>Validation</th>\n",
       "    </tr>\n",
       "  </thead>\n",
       "  <tbody>\n",
       "    <tr>\n",
       "      <th>Error (%)</th>\n",
       "      <td>6.616667</td>\n",
       "      <td>7.1</td>\n",
       "    </tr>\n",
       "  </tbody>\n",
       "</table>\n",
       "</div>"
      ],
      "text/plain": [
       "           Training  Validation\n",
       "Error (%)  6.616667         7.1"
      ]
     },
     "metadata": {},
     "output_type": "display_data"
    },
    {
     "name": "stdout",
     "output_type": "stream",
     "text": [
      "\n",
      "\n",
      "\n",
      "Lr: 0.001 Iteration: 999  Loss: -714.83594804047816"
     ]
    },
    {
     "data": {
      "image/png": "[encoded data removed]",
      "text/plain": [
       "<Figure size 432x288 with 1 Axes>"
      ]
     },
     "metadata": {
      "needs_background": "light"
     },
     "output_type": "display_data"
    },
    {
     "data": {
      "text/html": [
       "<div>\n",
       "<style scoped>\n",
       "    .dataframe tbody tr th:only-of-type {\n",
       "        vertical-align: middle;\n",
       "    }\n",
       "\n",
       "    .dataframe tbody tr th {\n",
       "        vertical-align: top;\n",
       "    }\n",
       "\n",
       "    .dataframe thead th {\n",
       "        text-align: right;\n",
       "    }\n",
       "</style>\n",
       "<table border=\"1\" class=\"dataframe\">\n",
       "  <thead>\n",
       "    <tr style=\"text-align: right;\">\n",
       "      <th></th>\n",
       "      <th>Training</th>\n",
       "      <th>Validation</th>\n",
       "    </tr>\n",
       "  </thead>\n",
       "  <tbody>\n",
       "    <tr>\n",
       "      <th>Error (%)</th>\n",
       "      <td>3.166667</td>\n",
       "      <td>3.3</td>\n",
       "    </tr>\n",
       "  </tbody>\n",
       "</table>\n",
       "</div>"
      ],
      "text/plain": [
       "           Training  Validation\n",
       "Error (%)  3.166667         3.3"
      ]
     },
     "metadata": {},
     "output_type": "display_data"
    },
    {
     "name": "stdout",
     "output_type": "stream",
     "text": [
      "\n",
      "\n",
      "\n",
      "Lr: 0.01 Iteration: 999  Loss: -205.62857376732074"
     ]
    },
    {
     "data": {
      "image/png": "[encoded data removed]",
      "text/plain": [
       "<Figure size 432x288 with 1 Axes>"
      ]
     },
     "metadata": {
      "needs_background": "light"
     },
     "output_type": "display_data"
    },
    {
     "data": {
      "text/html": [
       "<div>\n",
       "<style scoped>\n",
       "    .dataframe tbody tr th:only-of-type {\n",
       "        vertical-align: middle;\n",
       "    }\n",
       "\n",
       "    .dataframe tbody tr th {\n",
       "        vertical-align: top;\n",
       "    }\n",
       "\n",
       "    .dataframe thead th {\n",
       "        text-align: right;\n",
       "    }\n",
       "</style>\n",
       "<table border=\"1\" class=\"dataframe\">\n",
       "  <thead>\n",
       "    <tr style=\"text-align: right;\">\n",
       "      <th></th>\n",
       "      <th>Training</th>\n",
       "      <th>Validation</th>\n",
       "    </tr>\n",
       "  </thead>\n",
       "  <tbody>\n",
       "    <tr>\n",
       "      <th>Error (%)</th>\n",
       "      <td>0.35</td>\n",
       "      <td>2.1</td>\n",
       "    </tr>\n",
       "  </tbody>\n",
       "</table>\n",
       "</div>"
      ],
      "text/plain": [
       "           Training  Validation\n",
       "Error (%)      0.35         2.1"
      ]
     },
     "metadata": {},
     "output_type": "display_data"
    },
    {
     "name": "stdout",
     "output_type": "stream",
     "text": [
      "\n",
      "\n",
      "\n",
      "Lr: 0.1 Iteration: 999  Loss: -37.225951924000764"
     ]
    },
    {
     "data": {
      "image/png": "[encoded data removed]",
      "text/plain": [
       "<Figure size 432x288 with 1 Axes>"
      ]
     },
     "metadata": {
      "needs_background": "light"
     },
     "output_type": "display_data"
    },
    {
     "data": {
      "text/html": [
       "<div>\n",
       "<style scoped>\n",
       "    .dataframe tbody tr th:only-of-type {\n",
       "        vertical-align: middle;\n",
       "    }\n",
       "\n",
       "    .dataframe tbody tr th {\n",
       "        vertical-align: top;\n",
       "    }\n",
       "\n",
       "    .dataframe thead th {\n",
       "        text-align: right;\n",
       "    }\n",
       "</style>\n",
       "<table border=\"1\" class=\"dataframe\">\n",
       "  <thead>\n",
       "    <tr style=\"text-align: right;\">\n",
       "      <th></th>\n",
       "      <th>Training</th>\n",
       "      <th>Validation</th>\n",
       "    </tr>\n",
       "  </thead>\n",
       "  <tbody>\n",
       "    <tr>\n",
       "      <th>Error (%)</th>\n",
       "      <td>0.0</td>\n",
       "      <td>2.2</td>\n",
       "    </tr>\n",
       "  </tbody>\n",
       "</table>\n",
       "</div>"
      ],
      "text/plain": [
       "           Training  Validation\n",
       "Error (%)       0.0         2.2"
      ]
     },
     "metadata": {},
     "output_type": "display_data"
    },
    {
     "name": "stdout",
     "output_type": "stream",
     "text": [
      "\n",
      "\n",
      "\n",
      "Lr: 1.0 Iteration: 999  Loss: -25.990804954623787"
     ]
    },
    {
     "data": {
      "image/png": "[encoded data removed]",
      "text/plain": [
       "<Figure size 432x288 with 1 Axes>"
      ]
     },
     "metadata": {
      "needs_background": "light"
     },
     "output_type": "display_data"
    },
    {
     "data": {
      "text/html": [
       "<div>\n",
       "<style scoped>\n",
       "    .dataframe tbody tr th:only-of-type {\n",
       "        vertical-align: middle;\n",
       "    }\n",
       "\n",
       "    .dataframe tbody tr th {\n",
       "        vertical-align: top;\n",
       "    }\n",
       "\n",
       "    .dataframe thead th {\n",
       "        text-align: right;\n",
       "    }\n",
       "</style>\n",
       "<table border=\"1\" class=\"dataframe\">\n",
       "  <thead>\n",
       "    <tr style=\"text-align: right;\">\n",
       "      <th></th>\n",
       "      <th>Training</th>\n",
       "      <th>Validation</th>\n",
       "    </tr>\n",
       "  </thead>\n",
       "  <tbody>\n",
       "    <tr>\n",
       "      <th>Error (%)</th>\n",
       "      <td>0.0</td>\n",
       "      <td>2.9</td>\n",
       "    </tr>\n",
       "  </tbody>\n",
       "</table>\n",
       "</div>"
      ],
      "text/plain": [
       "           Training  Validation\n",
       "Error (%)       0.0         2.9"
      ]
     },
     "metadata": {},
     "output_type": "display_data"
    },
    {
     "name": "stdout",
     "output_type": "stream",
     "text": [
      "\n",
      "\n",
      "\n"
     ]
    }
   ],
   "source": [
    "Error = pd.DataFrame({\"Training\":[0],\n",
    "                     \"Validation\":[0]}, index=[\"Error (%)\"])\n",
    "\n",
    "for lr in learning_rates:\n",
    "    \n",
    "    W = np.zeros(M+1)\n",
    "    L_i = [] \n",
    "\n",
    "    for i in range(0, iterations):\n",
    "        gw = gradient(x_train, y_train, W)\n",
    "        W = W - (lr*shrinkage*W) + ((lr/N) * gw)\n",
    "        l = loss(x_train, y_train, W)    \n",
    "        L_i.append(l)\n",
    "        print(\"\\rLr: \" + str(lr) + \" Iteration: \" + str(i) + \"  Loss: \" + str(l), sep='', end='', flush=True)\n",
    "\n",
    "    plt.plot(L_i)\n",
    "    plt.title(lr)\n",
    "    plt.show()\n",
    "    \n",
    "    preds = predict(x_train, W)    \n",
    "\n",
    "    missed = 0\n",
    "    for i in range(0, len(preds)):\n",
    "        if preds[i] != y_train[i][0]:\n",
    "            missed += 1        \n",
    "\n",
    "    Error.loc['Error (%)', 'Training'] = 100 - (((N-missed)/N) * 100)\n",
    "\n",
    "    preds = predict(x_valid, W)    \n",
    "\n",
    "    missed = 0\n",
    "    for i in range(0, len(preds)):\n",
    "        if preds[i] != y_valid[i][0]:\n",
    "            missed += 1        \n",
    "\n",
    "    Error.loc['Error (%)', 'Validation'] = 100 - (((x_valid.shape[0]-missed)/x_valid.shape[0]) * 100)\n",
    "\n",
    "    display(Error)\n",
    "    \n",
    "    print(\"\\n\\n\")\n",
    "\n",
    "#plt.legend()    \n",
    "#plt.show()\n"
   ]
  },
  {
   "cell_type": "code",
   "execution_count": 8,
   "metadata": {},
   "outputs": [],
   "source": [
    "x_train_file = \"data/MADELON/madelon_train.data\"\n",
    "y_train_file = \"data/MADELON/madelon_train.labels\"\n",
    "\n",
    "x_valid_file = \"data/MADELON/madelon_valid.data\"\n",
    "y_valid_file = \"data/MADELON/madelon_valid.labels\""
   ]
  },
  {
   "cell_type": "code",
   "execution_count": 9,
   "metadata": {},
   "outputs": [
    {
     "name": "stdout",
     "output_type": "stream",
     "text": [
      "mean:  0.0019960079840323345\n",
      "std:  0.9999980079740799\n"
     ]
    }
   ],
   "source": [
    "with open(x_train_file) as file:\n",
    "    x_train = pd.read_csv(file, delim_whitespace=True, header=None)\n",
    "    x_train = x_train.to_numpy()\n",
    "    #print(x_train)\n",
    "\n",
    "with open(y_train_file) as file:\n",
    "    y_train = pd.read_csv(file, header=None)\n",
    "    y_train = y_train.to_numpy()\n",
    "    #print(y_train)\n",
    "    \n",
    "with open(x_valid_file) as file:\n",
    "    x_valid = pd.read_csv(file, delim_whitespace=True, header=None)\n",
    "    x_valid = x_valid.to_numpy()\n",
    "    #print(x_train)\n",
    "\n",
    "with open(y_valid_file) as file:\n",
    "    y_valid = pd.read_csv(file, header=None)\n",
    "    y_valid = y_valid.to_numpy()\n",
    "    #print(y_train)\n",
    "\n",
    "N = x_train.shape[0]   \n",
    "M = x_train.shape[1]\n",
    "    \n",
    "x_valid = (x_valid - x_valid.mean())/(x_valid.std())\n",
    "x_valid = np.insert(x_valid, 0, 1, axis=1)\n",
    "\n",
    "x_train = (x_train - x_train.mean())/(x_train.std())\n",
    "x_train = np.insert(x_train, 0, 1, axis=1)\n",
    "\n",
    "y_valid = np.where(y_valid == -1, 0, y_valid)\n",
    "y_train = np.where(y_train == -1, 0, y_train)\n",
    "\n",
    "\n",
    "print(\"mean: \", x_train.mean())\n",
    "print(\"std: \", x_train.std())"
   ]
  },
  {
   "cell_type": "code",
   "execution_count": 10,
   "metadata": {},
   "outputs": [
    {
     "name": "stdout",
     "output_type": "stream",
     "text": [
      "LR: 0.0001 Iteration: 999  Loss: -0.6688667092507896"
     ]
    },
    {
     "data": {
      "image/png": "[encoded data removed]",
      "text/plain": [
       "<Figure size 432x288 with 1 Axes>"
      ]
     },
     "metadata": {
      "needs_background": "light"
     },
     "output_type": "display_data"
    },
    {
     "data": {
      "text/html": [
       "<div>\n",
       "<style scoped>\n",
       "    .dataframe tbody tr th:only-of-type {\n",
       "        vertical-align: middle;\n",
       "    }\n",
       "\n",
       "    .dataframe tbody tr th {\n",
       "        vertical-align: top;\n",
       "    }\n",
       "\n",
       "    .dataframe thead th {\n",
       "        text-align: right;\n",
       "    }\n",
       "</style>\n",
       "<table border=\"1\" class=\"dataframe\">\n",
       "  <thead>\n",
       "    <tr style=\"text-align: right;\">\n",
       "      <th></th>\n",
       "      <th>Training</th>\n",
       "      <th>Validation</th>\n",
       "    </tr>\n",
       "  </thead>\n",
       "  <tbody>\n",
       "    <tr>\n",
       "      <th>Error (%)</th>\n",
       "      <td>39.1</td>\n",
       "      <td>40.5</td>\n",
       "    </tr>\n",
       "  </tbody>\n",
       "</table>\n",
       "</div>"
      ],
      "text/plain": [
       "           Training  Validation\n",
       "Error (%)      39.1        40.5"
      ]
     },
     "metadata": {},
     "output_type": "display_data"
    },
    {
     "name": "stdout",
     "output_type": "stream",
     "text": [
      "\n",
      "\n",
      "\n",
      "LR: 0.001 Iteration: 999  Loss: -0.6340659774315841"
     ]
    },
    {
     "data": {
      "image/png": "[encoded data removed]",
      "text/plain": [
       "<Figure size 432x288 with 1 Axes>"
      ]
     },
     "metadata": {
      "needs_background": "light"
     },
     "output_type": "display_data"
    },
    {
     "data": {
      "text/html": [
       "<div>\n",
       "<style scoped>\n",
       "    .dataframe tbody tr th:only-of-type {\n",
       "        vertical-align: middle;\n",
       "    }\n",
       "\n",
       "    .dataframe tbody tr th {\n",
       "        vertical-align: top;\n",
       "    }\n",
       "\n",
       "    .dataframe thead th {\n",
       "        text-align: right;\n",
       "    }\n",
       "</style>\n",
       "<table border=\"1\" class=\"dataframe\">\n",
       "  <thead>\n",
       "    <tr style=\"text-align: right;\">\n",
       "      <th></th>\n",
       "      <th>Training</th>\n",
       "      <th>Validation</th>\n",
       "    </tr>\n",
       "  </thead>\n",
       "  <tbody>\n",
       "    <tr>\n",
       "      <th>Error (%)</th>\n",
       "      <td>35.9</td>\n",
       "      <td>41.666667</td>\n",
       "    </tr>\n",
       "  </tbody>\n",
       "</table>\n",
       "</div>"
      ],
      "text/plain": [
       "           Training  Validation\n",
       "Error (%)      35.9   41.666667"
      ]
     },
     "metadata": {},
     "output_type": "display_data"
    },
    {
     "name": "stdout",
     "output_type": "stream",
     "text": [
      "\n",
      "\n",
      "\n",
      "LR: 0.01 Iteration: 999  Loss: -0.5732757940920655"
     ]
    },
    {
     "data": {
      "image/png": "[encoded data removed]",
      "text/plain": [
       "<Figure size 432x288 with 1 Axes>"
      ]
     },
     "metadata": {
      "needs_background": "light"
     },
     "output_type": "display_data"
    },
    {
     "data": {
      "text/html": [
       "<div>\n",
       "<style scoped>\n",
       "    .dataframe tbody tr th:only-of-type {\n",
       "        vertical-align: middle;\n",
       "    }\n",
       "\n",
       "    .dataframe tbody tr th {\n",
       "        vertical-align: top;\n",
       "    }\n",
       "\n",
       "    .dataframe thead th {\n",
       "        text-align: right;\n",
       "    }\n",
       "</style>\n",
       "<table border=\"1\" class=\"dataframe\">\n",
       "  <thead>\n",
       "    <tr style=\"text-align: right;\">\n",
       "      <th></th>\n",
       "      <th>Training</th>\n",
       "      <th>Validation</th>\n",
       "    </tr>\n",
       "  </thead>\n",
       "  <tbody>\n",
       "    <tr>\n",
       "      <th>Error (%)</th>\n",
       "      <td>29.7</td>\n",
       "      <td>43.333333</td>\n",
       "    </tr>\n",
       "  </tbody>\n",
       "</table>\n",
       "</div>"
      ],
      "text/plain": [
       "           Training  Validation\n",
       "Error (%)      29.7   43.333333"
      ]
     },
     "metadata": {},
     "output_type": "display_data"
    },
    {
     "name": "stdout",
     "output_type": "stream",
     "text": [
      "\n",
      "\n",
      "\n",
      "LR: 0.1 Iteration: 999  Loss: -0.5346298514726417"
     ]
    },
    {
     "data": {
      "image/png": "[encoded data removed]",
      "text/plain": [
       "<Figure size 432x288 with 1 Axes>"
      ]
     },
     "metadata": {
      "needs_background": "light"
     },
     "output_type": "display_data"
    },
    {
     "data": {
      "text/html": [
       "<div>\n",
       "<style scoped>\n",
       "    .dataframe tbody tr th:only-of-type {\n",
       "        vertical-align: middle;\n",
       "    }\n",
       "\n",
       "    .dataframe tbody tr th {\n",
       "        vertical-align: top;\n",
       "    }\n",
       "\n",
       "    .dataframe thead th {\n",
       "        text-align: right;\n",
       "    }\n",
       "</style>\n",
       "<table border=\"1\" class=\"dataframe\">\n",
       "  <thead>\n",
       "    <tr style=\"text-align: right;\">\n",
       "      <th></th>\n",
       "      <th>Training</th>\n",
       "      <th>Validation</th>\n",
       "    </tr>\n",
       "  </thead>\n",
       "  <tbody>\n",
       "    <tr>\n",
       "      <th>Error (%)</th>\n",
       "      <td>26.95</td>\n",
       "      <td>41.333333</td>\n",
       "    </tr>\n",
       "  </tbody>\n",
       "</table>\n",
       "</div>"
      ],
      "text/plain": [
       "           Training  Validation\n",
       "Error (%)     26.95   41.333333"
      ]
     },
     "metadata": {},
     "output_type": "display_data"
    },
    {
     "name": "stdout",
     "output_type": "stream",
     "text": [
      "\n",
      "\n",
      "\n",
      "LR: 1.0 Iteration: 999  Loss: -2.5956636121557603"
     ]
    },
    {
     "data": {
      "image/png": "[encoded data removed]",
      "text/plain": [
       "<Figure size 432x288 with 1 Axes>"
      ]
     },
     "metadata": {
      "needs_background": "light"
     },
     "output_type": "display_data"
    },
    {
     "data": {
      "text/html": [
       "<div>\n",
       "<style scoped>\n",
       "    .dataframe tbody tr th:only-of-type {\n",
       "        vertical-align: middle;\n",
       "    }\n",
       "\n",
       "    .dataframe tbody tr th {\n",
       "        vertical-align: top;\n",
       "    }\n",
       "\n",
       "    .dataframe thead th {\n",
       "        text-align: right;\n",
       "    }\n",
       "</style>\n",
       "<table border=\"1\" class=\"dataframe\">\n",
       "  <thead>\n",
       "    <tr style=\"text-align: right;\">\n",
       "      <th></th>\n",
       "      <th>Training</th>\n",
       "      <th>Validation</th>\n",
       "    </tr>\n",
       "  </thead>\n",
       "  <tbody>\n",
       "    <tr>\n",
       "      <th>Error (%)</th>\n",
       "      <td>36.4</td>\n",
       "      <td>45.5</td>\n",
       "    </tr>\n",
       "  </tbody>\n",
       "</table>\n",
       "</div>"
      ],
      "text/plain": [
       "           Training  Validation\n",
       "Error (%)      36.4        45.5"
      ]
     },
     "metadata": {},
     "output_type": "display_data"
    },
    {
     "name": "stdout",
     "output_type": "stream",
     "text": [
      "\n",
      "\n",
      "\n"
     ]
    }
   ],
   "source": [
    "Error = pd.DataFrame({\"Training\":[0],\n",
    "                     \"Validation\":[0]}, index=[\"Error (%)\"])\n",
    "\n",
    "for lr in learning_rates:\n",
    "    W = np.zeros(M+1)\n",
    "    L_i = [] \n",
    "\n",
    "    for i in range(0, iterations):\n",
    "        gw = gradient(x_train, y_train, W)\n",
    "        W = W - (lr*shrinkage*W) + ((lr/N) * gw)\n",
    "        l = loss(x_train, y_train, W)/N    \n",
    "        L_i.append(l)\n",
    "        print(\"\\rLR: \" + str(lr) + \" Iteration: \" + str(i) + \"  Loss: \" + str(l), sep='', end='', flush=True)\n",
    "\n",
    "    plt.plot(L_i)\n",
    "    plt.title(lr)\n",
    "    plt.show()\n",
    "    \n",
    "    preds = predict(x_train, W)    \n",
    "\n",
    "    missed = 0\n",
    "    for i in range(0, len(preds)):\n",
    "        if preds[i] != y_train[i][0]:\n",
    "            missed += 1        \n",
    "\n",
    "    Error.loc['Error (%)', 'Training'] = 100 - (((N-missed)/N) * 100)\n",
    "\n",
    "    preds = predict(x_valid, W)    \n",
    "\n",
    "    missed = 0\n",
    "    for i in range(0, len(preds)):\n",
    "        if preds[i] != y_valid[i][0]:\n",
    "            missed += 1        \n",
    "\n",
    "    Error.loc['Error (%)', 'Validation'] = 100 - (((x_valid.shape[0]-missed)/x_valid.shape[0]) * 100)\n",
    "\n",
    "    display(Error)\n",
    "    \n",
    "    print(\"\\n\\n\")\n"
   ]
  },
  {
   "cell_type": "code",
   "execution_count": 11,
   "metadata": {},
   "outputs": [],
   "source": [
    "x_train_file = \"data/dexter/dexter_train.data\"\n",
    "y_train_file = \"data/dexter/dexter_train.labels\"\n",
    "\n",
    "x_valid_file = \"data/dexter/dexter_valid.data\"\n",
    "y_valid_file = \"data/dexter/dexter_valid.labels\""
   ]
  },
  {
   "cell_type": "code",
   "execution_count": 12,
   "metadata": {},
   "outputs": [
    {
     "name": "stdout",
     "output_type": "stream",
     "text": [
      "mean:  4.999750012500777e-05\n",
      "std:  0.9999999987501252\n"
     ]
    }
   ],
   "source": [
    "with open(x_train_file) as file:\n",
    "    x_train = np.zeros((300, 20000))\n",
    "    trainingData = csv.reader(file, delimiter=' ')\n",
    "    \n",
    "    for i,row in enumerate(trainingData):\n",
    "        for value in row:\n",
    "            if value != '':\n",
    "                indx_Val = value.split(':')\n",
    "                x_train[i,int(indx_Val[0])] = int(indx_Val[1])\n",
    "\n",
    "with open(y_train_file) as file:\n",
    "    y_train = pd.read_csv(file, header=None)\n",
    "    y_train = y_train.to_numpy()\n",
    "\n",
    "with open(x_valid_file) as file:\n",
    "    x_valid = np.zeros((300, 20000))\n",
    "    trainingData = csv.reader(file, delimiter=' ')\n",
    "\n",
    "    for i,row in enumerate(trainingData):\n",
    "        for value in row:\n",
    "            if value != '':\n",
    "                indx_Val = value.split(':')\n",
    "                x_valid[i,int(indx_Val[0])] = int(indx_Val[1])\n",
    "\n",
    "with open(y_valid_file) as file:\n",
    "    y_valid = pd.read_csv(file, header=None)\n",
    "    y_valid = y_valid.to_numpy()\n",
    "\n",
    "N = x_train.shape[0]   \n",
    "M = x_train.shape[1]\n",
    "    \n",
    "x_valid = (x_valid - x_valid.mean())/(x_valid.std())\n",
    "x_valid = np.insert(x_valid, 0, 1, axis=1)\n",
    "\n",
    "x_train = (x_train - x_train.mean())/(x_train.std())\n",
    "x_train = np.insert(x_train, 0, 1, axis=1)\n",
    "\n",
    "y_valid = np.where(y_valid == -1, 0, y_valid)\n",
    "y_train = np.where(y_train == -1, 0, y_train)\n",
    "\n",
    "print(\"mean: \", x_train.mean())\n",
    "print(\"std: \", x_train.std())"
   ]
  },
  {
   "cell_type": "code",
   "execution_count": 13,
   "metadata": {},
   "outputs": [
    {
     "name": "stdout",
     "output_type": "stream",
     "text": [
      "LR: 0.0001 Iteration: 999  Loss: -0.09628476486862123"
     ]
    },
    {
     "data": {
      "image/png": "[encoded data removed]",
      "text/plain": [
       "<Figure size 432x288 with 1 Axes>"
      ]
     },
     "metadata": {
      "needs_background": "light"
     },
     "output_type": "display_data"
    },
    {
     "data": {
      "text/html": [
       "<div>\n",
       "<style scoped>\n",
       "    .dataframe tbody tr th:only-of-type {\n",
       "        vertical-align: middle;\n",
       "    }\n",
       "\n",
       "    .dataframe tbody tr th {\n",
       "        vertical-align: top;\n",
       "    }\n",
       "\n",
       "    .dataframe thead th {\n",
       "        text-align: right;\n",
       "    }\n",
       "</style>\n",
       "<table border=\"1\" class=\"dataframe\">\n",
       "  <thead>\n",
       "    <tr style=\"text-align: right;\">\n",
       "      <th></th>\n",
       "      <th>Training</th>\n",
       "      <th>Validation</th>\n",
       "    </tr>\n",
       "  </thead>\n",
       "  <tbody>\n",
       "    <tr>\n",
       "      <th>Error (%)</th>\n",
       "      <td>0.0</td>\n",
       "      <td>8.0</td>\n",
       "    </tr>\n",
       "  </tbody>\n",
       "</table>\n",
       "</div>"
      ],
      "text/plain": [
       "           Training  Validation\n",
       "Error (%)       0.0         8.0"
      ]
     },
     "metadata": {},
     "output_type": "display_data"
    },
    {
     "name": "stdout",
     "output_type": "stream",
     "text": [
      "\n",
      "\n",
      "\n",
      "LR: 0.001 Iteration: 999  Loss: -0.022065472718805764"
     ]
    },
    {
     "data": {
      "image/png": "[encoded data removed]",
      "text/plain": [
       "<Figure size 432x288 with 1 Axes>"
      ]
     },
     "metadata": {
      "needs_background": "light"
     },
     "output_type": "display_data"
    },
    {
     "data": {
      "text/html": [
       "<div>\n",
       "<style scoped>\n",
       "    .dataframe tbody tr th:only-of-type {\n",
       "        vertical-align: middle;\n",
       "    }\n",
       "\n",
       "    .dataframe tbody tr th {\n",
       "        vertical-align: top;\n",
       "    }\n",
       "\n",
       "    .dataframe thead th {\n",
       "        text-align: right;\n",
       "    }\n",
       "</style>\n",
       "<table border=\"1\" class=\"dataframe\">\n",
       "  <thead>\n",
       "    <tr style=\"text-align: right;\">\n",
       "      <th></th>\n",
       "      <th>Training</th>\n",
       "      <th>Validation</th>\n",
       "    </tr>\n",
       "  </thead>\n",
       "  <tbody>\n",
       "    <tr>\n",
       "      <th>Error (%)</th>\n",
       "      <td>0.0</td>\n",
       "      <td>8.0</td>\n",
       "    </tr>\n",
       "  </tbody>\n",
       "</table>\n",
       "</div>"
      ],
      "text/plain": [
       "           Training  Validation\n",
       "Error (%)       0.0         8.0"
      ]
     },
     "metadata": {},
     "output_type": "display_data"
    },
    {
     "name": "stdout",
     "output_type": "stream",
     "text": [
      "\n",
      "\n",
      "\n",
      "LR: 0.01 Iteration: 999  Loss: -0.021673176556860782"
     ]
    },
    {
     "data": {
      "image/png": "[encoded data removed]",
      "text/plain": [
       "<Figure size 432x288 with 1 Axes>"
      ]
     },
     "metadata": {
      "needs_background": "light"
     },
     "output_type": "display_data"
    },
    {
     "data": {
      "text/html": [
       "<div>\n",
       "<style scoped>\n",
       "    .dataframe tbody tr th:only-of-type {\n",
       "        vertical-align: middle;\n",
       "    }\n",
       "\n",
       "    .dataframe tbody tr th {\n",
       "        vertical-align: top;\n",
       "    }\n",
       "\n",
       "    .dataframe thead th {\n",
       "        text-align: right;\n",
       "    }\n",
       "</style>\n",
       "<table border=\"1\" class=\"dataframe\">\n",
       "  <thead>\n",
       "    <tr style=\"text-align: right;\">\n",
       "      <th></th>\n",
       "      <th>Training</th>\n",
       "      <th>Validation</th>\n",
       "    </tr>\n",
       "  </thead>\n",
       "  <tbody>\n",
       "    <tr>\n",
       "      <th>Error (%)</th>\n",
       "      <td>0.0</td>\n",
       "      <td>7.0</td>\n",
       "    </tr>\n",
       "  </tbody>\n",
       "</table>\n",
       "</div>"
      ],
      "text/plain": [
       "           Training  Validation\n",
       "Error (%)       0.0         7.0"
      ]
     },
     "metadata": {},
     "output_type": "display_data"
    },
    {
     "name": "stdout",
     "output_type": "stream",
     "text": [
      "\n",
      "\n",
      "\n",
      "LR: 0.1 Iteration: 999  Loss: -0.046641295942895014"
     ]
    },
    {
     "data": {
      "image/png": "[encoded data removed]",
      "text/plain": [
       "<Figure size 432x288 with 1 Axes>"
      ]
     },
     "metadata": {
      "needs_background": "light"
     },
     "output_type": "display_data"
    },
    {
     "data": {
      "text/html": [
       "<div>\n",
       "<style scoped>\n",
       "    .dataframe tbody tr th:only-of-type {\n",
       "        vertical-align: middle;\n",
       "    }\n",
       "\n",
       "    .dataframe tbody tr th {\n",
       "        vertical-align: top;\n",
       "    }\n",
       "\n",
       "    .dataframe thead th {\n",
       "        text-align: right;\n",
       "    }\n",
       "</style>\n",
       "<table border=\"1\" class=\"dataframe\">\n",
       "  <thead>\n",
       "    <tr style=\"text-align: right;\">\n",
       "      <th></th>\n",
       "      <th>Training</th>\n",
       "      <th>Validation</th>\n",
       "    </tr>\n",
       "  </thead>\n",
       "  <tbody>\n",
       "    <tr>\n",
       "      <th>Error (%)</th>\n",
       "      <td>0.0</td>\n",
       "      <td>9.666667</td>\n",
       "    </tr>\n",
       "  </tbody>\n",
       "</table>\n",
       "</div>"
      ],
      "text/plain": [
       "           Training  Validation\n",
       "Error (%)       0.0    9.666667"
      ]
     },
     "metadata": {},
     "output_type": "display_data"
    },
    {
     "name": "stdout",
     "output_type": "stream",
     "text": [
      "\n",
      "\n",
      "\n",
      "LR: 1.0 Iteration: 999  Loss: -0.045035046764194576"
     ]
    },
    {
     "data": {
      "image/png": "[encoded data removed]",
      "text/plain": [
       "<Figure size 432x288 with 1 Axes>"
      ]
     },
     "metadata": {
      "needs_background": "light"
     },
     "output_type": "display_data"
    },
    {
     "data": {
      "text/html": [
       "<div>\n",
       "<style scoped>\n",
       "    .dataframe tbody tr th:only-of-type {\n",
       "        vertical-align: middle;\n",
       "    }\n",
       "\n",
       "    .dataframe tbody tr th {\n",
       "        vertical-align: top;\n",
       "    }\n",
       "\n",
       "    .dataframe thead th {\n",
       "        text-align: right;\n",
       "    }\n",
       "</style>\n",
       "<table border=\"1\" class=\"dataframe\">\n",
       "  <thead>\n",
       "    <tr style=\"text-align: right;\">\n",
       "      <th></th>\n",
       "      <th>Training</th>\n",
       "      <th>Validation</th>\n",
       "    </tr>\n",
       "  </thead>\n",
       "  <tbody>\n",
       "    <tr>\n",
       "      <th>Error (%)</th>\n",
       "      <td>0.0</td>\n",
       "      <td>9.0</td>\n",
       "    </tr>\n",
       "  </tbody>\n",
       "</table>\n",
       "</div>"
      ],
      "text/plain": [
       "           Training  Validation\n",
       "Error (%)       0.0         9.0"
      ]
     },
     "metadata": {},
     "output_type": "display_data"
    },
    {
     "name": "stdout",
     "output_type": "stream",
     "text": [
      "\n",
      "\n",
      "\n"
     ]
    }
   ],
   "source": [
    "Error = pd.DataFrame({\"Training\":[0],\n",
    "                     \"Validation\":[0]}, index=[\"Error (%)\"])\n",
    "\n",
    "for lr in learning_rates:\n",
    "    W = np.zeros(M+1)\n",
    "    L_i = [] \n",
    "\n",
    "    for i in range(0, iterations):\n",
    "        gw = gradient(x_train, y_train, W)\n",
    "        W = W - (lr*shrinkage*W) + ((lr/N) * gw)\n",
    "        l = loss(x_train, y_train, W)/N    \n",
    "        L_i.append(l)\n",
    "        print(\"\\rLR: \" + str(lr) + \" Iteration: \" + str(i) + \"  Loss: \" + str(l), sep='', end='', flush=True)\n",
    "\n",
    "    plt.plot(L_i)\n",
    "    plt.title(lr)\n",
    "    plt.show()\n",
    "    \n",
    "    preds = predict(x_train, W)    \n",
    "\n",
    "    missed = 0\n",
    "    for i in range(0, len(preds)):\n",
    "        if preds[i] != y_train[i][0]:\n",
    "            missed += 1        \n",
    "\n",
    "    Error.loc['Error (%)', 'Training'] = 100 - (((N-missed)/N) * 100)\n",
    "\n",
    "    preds = predict(x_valid, W)    \n",
    "\n",
    "    missed = 0\n",
    "    for i in range(0, len(preds)):\n",
    "        if preds[i] != y_valid[i][0]:\n",
    "            missed += 1        \n",
    "\n",
    "    Error.loc['Error (%)', 'Validation'] = 100 - (((x_valid.shape[0]-missed)/x_valid.shape[0]) * 100)\n",
    "\n",
    "    display(Error)\n",
    "    \n",
    "    print(\"\\n\\n\")"
   ]
  },
  {
   "cell_type": "code",
   "execution_count": null,
   "metadata": {},
   "outputs": [],
   "source": []
  }
 ],
 "metadata": {
  "kernelspec": {
   "display_name": "Python 3",
   "language": "python",
   "name": "python3"
  },
  "language_info": {
   "codemirror_mode": {
    "name": "ipython",
    "version": 3
   },
   "file_extension": ".py",
   "mimetype": "text/x-python",
   "name": "python",
   "nbconvert_exporter": "python",
   "pygments_lexer": "ipython3",
   "version": "3.6.5"
  }
 },
 "nbformat": 4,
 "nbformat_minor": 2
}
