{
 "cells": [
  {
   "cell_type": "markdown",
   "metadata": {},
   "source": [
    "# Marlan McInnes-Taylor, mm05f"
   ]
  },
  {
   "cell_type": "code",
   "execution_count": null,
   "metadata": {},
   "outputs": [],
   "source": [
    "import numpy as np\n",
    "import matplotlib.pyplot as plt\n",
    "import pandas as pd"
   ]
  },
  {
   "cell_type": "code",
   "execution_count": null,
   "metadata": {},
   "outputs": [],
   "source": [
    "class tispSelector:\n",
    "    def __init__(self, xTrain, yTrain, xValid, yValid, lambdas, maxItr=100):\n",
    "        self.xTrain = xTrain\n",
    "        self.yTrain = yTrain\n",
    "        self.xValid = xValid\n",
    "        self.yValid = yValid\n",
    "        self.preProcess()\n",
    "        self.w = np.zeros(self.xTrain.shape[1])\n",
    "        self.lam = 0.0\n",
    "        self.lambdas = lambdas\n",
    "        self.eta = 1./self.xTrain.shape[0]\n",
    "        self.maxItr = maxItr\n",
    "\n",
    "    def preProcess(self):\n",
    "        xStd = np.std(self.xTrain, axis=0)\n",
    "        mask = (xStd != 0.)\n",
    "        self.xTrain = self.xTrain[:, mask]\n",
    "        meanX = np.mean(self.xTrain, axis=0)\n",
    "        stdX = np.std(self.xTrain, axis=0)\n",
    "        self.xTrain = (self.xTrain - meanX)/stdX\n",
    "        self.xValid = self.xValid[:, mask]\n",
    "        self.xValid = (self.xValid - meanX)/stdX\n",
    "\n",
    "        self.xTrain = np.insert(self.xTrain, 0, 1., axis=1)\n",
    "        self.xValid = np.insert(self.xValid, 0, 1., axis=1)\n",
    "\n",
    "        self.yTrain[self.yTrain == 0.] =- 1.\n",
    "        self.yValid[self.yValid == 0.] =- 1.\n",
    "\n",
    "    def gradient(self):\n",
    "        wx = np.sum(self.xTrain * self.w, axis=1)\n",
    "        temp = self.yTrain/(1. + np.exp(self.yTrain * wx))\n",
    "        grad = np.sum(temp * (self.xTrain).T, axis=1)\n",
    "        return grad\n",
    "\n",
    "    def update(self):\n",
    "        grad = self.gradient()\n",
    "        self.w += grad * self.eta\n",
    "        self.w[np.absolute(self.w)<=self.lam] = 0.\n",
    "\n",
    "    def train(self):        \n",
    "        testErrors = np.zeros(len(self.lambdas))\n",
    "        trainErrors = np.zeros(len(self.lambdas))\n",
    "        features = np.zeros(len(self.lambdas))\n",
    "        \n",
    "        for j in range(len(self.lambdas)):\n",
    "            self.lam = self.lambdas[j]\n",
    "\n",
    "            for i in range(self.maxItr):\n",
    "                self.update()\n",
    "                # print(i, 'Number of features: ', np.sum(self.w!=0.))\n",
    "\n",
    "            wx = np.sum(self.xTrain * self.w, axis=1)\n",
    "            pred=np.ones(self.yTrain.shape[0])\n",
    "            pred[wx<0.] =- 1.\n",
    "            trainErrors[j] = 1. - np.mean(pred==self.yTrain)\n",
    "            features[j] = np.sum(self.w!=0.)\n",
    "\n",
    "            wx = np.sum(self.xValid * self.w, axis=1)\n",
    "            pred = np.ones(self.yValid.shape[0])\n",
    "            pred[wx<0.] =- 1.\n",
    "            testErrors[j]= 1.- np.mean(pred==self.yValid)\n",
    "            '''print('Lambda:', self.lam, '| Features:', features[j], '| Training Error:',\n",
    "                   trainErrors[j], '| Test Error:', testErrors[j])'''\n",
    "            self.w = np.zeros_like(self.w)\n",
    "            \n",
    "        return trainErrors, testErrors, features "
   ]
  },
  {
   "cell_type": "code",
   "execution_count": null,
   "metadata": {},
   "outputs": [],
   "source": [
    "def graphResults(trainErrors, testErrors, numFeatures):\n",
    "    trainErrors = trainErrors * 100\n",
    "    testErrors = testErrors * 100\n",
    "\n",
    "    plt.plot(numFeatures, trainErrors, linestyle='-', marker='o', color='r', label='Train')\n",
    "    plt.plot(numFeatures, testErrors, linestyle='-', marker='o', color='b', label='Test')\n",
    "    plt.grid(True)\n",
    "    plt.xticks(numFeatures)\n",
    "    plt.title('Misclassification Error vs Number of Features')\n",
    "    plt.xlabel('Number of Features')\n",
    "    plt.ylabel('Misclassification Error (%)')\n",
    "    plt.legend()\n",
    "    plt.show()\n",
    "    \n",
    "def genTable(trainErrors, testErrors, features, lambdas):\n",
    "    lambdas = np.array(lambdas)\n",
    "    trainErrors = trainErrors * 100\n",
    "    testErrors = testErrors * 100\n",
    "    \n",
    "    errorTable = pd.DataFrame({\"Features\":[0, 0, 0, 0, 0], \"Training Error (%)\":[0, 0, 0, 0, 0], \"Test Error (%)\":[0, 0, 0, 0, 0]}, index=lambdas)\n",
    "    errorTable.index.name = \"Lambda\"\n",
    "\n",
    "    for (lam, train, test, numFeatures) in zip(lambdas, trainErrors, testErrors, features):\n",
    "        errorTable.loc[lam, 'Features'] = numFeatures\n",
    "        errorTable.loc[lam, 'Training Error (%)'] = round(train, 2)\n",
    "        errorTable.loc[lam, 'Test Error (%)'] = round(test, 2)\n",
    "    \n",
    "    return errorTable"
   ]
  },
  {
   "cell_type": "markdown",
   "metadata": {},
   "source": [
    "# Part A"
   ]
  },
  {
   "cell_type": "code",
   "execution_count": null,
   "metadata": {},
   "outputs": [],
   "source": [
    "xTrain = np.loadtxt('../data/Gisette/gisette_train.data')\n",
    "yTrain = np.loadtxt('../data/Gisette/gisette_train.labels')\n",
    "xValid = np.loadtxt('../data/Gisette/gisette_valid.data')\n",
    "yValid = np.loadtxt('../data/Gisette/gisette_valid.labels')"
   ]
  },
  {
   "cell_type": "code",
   "execution_count": null,
   "metadata": {},
   "outputs": [],
   "source": [
    "lambdas = [0.188, 0.135, 0.0876, 0.053, 0.03855]\n",
    "\n",
    "model = tispSelector(xTrain, yTrain, xValid, yValid, lambdas)\n",
    "trainErrors, testErrors, features = model.train()"
   ]
  },
  {
   "cell_type": "code",
   "execution_count": null,
   "metadata": {},
   "outputs": [],
   "source": [
    "errorGis = genTable(trainErrors, testErrors, features, lambdas)\n",
    "graphResults(trainErrors, testErrors, features)"
   ]
  },
  {
   "cell_type": "markdown",
   "metadata": {},
   "source": [
    "# Part B"
   ]
  },
  {
   "cell_type": "code",
   "execution_count": null,
   "metadata": {},
   "outputs": [],
   "source": [
    "xTrain = np.loadtxt('../data/dexter/dexter_train.csv', delimiter=',')\n",
    "yTrain = np.loadtxt('../data/dexter/dexter_train.labels')\n",
    "xValid = np.loadtxt('../data/dexter/dexter_valid.csv', delimiter=',')\n",
    "yValid = np.loadtxt('../data/dexter/dexter_valid.labels')"
   ]
  },
  {
   "cell_type": "code",
   "execution_count": null,
   "metadata": {},
   "outputs": [],
   "source": [
    "lambdas = [0.142, 0.099, 0.0712, 0.0523, 0.0466]\n",
    "\n",
    "model = tispSelector(xTrain, yTrain, xValid, yValid, lambdas)\n",
    "trainErrors, testErrors, features = model.train()"
   ]
  },
  {
   "cell_type": "code",
   "execution_count": null,
   "metadata": {},
   "outputs": [],
   "source": [
    "errorDex = genTable(trainErrors, testErrors, features, lambdas)\n",
    "graphResults(trainErrors, testErrors, features)"
   ]
  },
  {
   "cell_type": "markdown",
   "metadata": {},
   "source": [
    "# Part C"
   ]
  },
  {
   "cell_type": "code",
   "execution_count": null,
   "metadata": {},
   "outputs": [],
   "source": [
    "xTrain = np.loadtxt('../data/MADELON/madelon_train.data')\n",
    "yTrain = np.loadtxt('../data/MADELON/madelon_train.labels')\n",
    "xValid = np.loadtxt('../data/MADELON/madelon_valid.data')\n",
    "yValid = np.loadtxt('../data/MADELON/madelon_valid.labels')"
   ]
  },
  {
   "cell_type": "code",
   "execution_count": null,
   "metadata": {},
   "outputs": [],
   "source": [
    "lambdas = [0.0297959738, 0.0246, 0.01775, 0.0075, 0.0001]\n",
    "\n",
    "model = tispSelector(xTrain, yTrain, xValid, yValid, lambdas)\n",
    "trainErrors, testErrors, features = model.train()"
   ]
  },
  {
   "cell_type": "code",
   "execution_count": null,
   "metadata": {},
   "outputs": [],
   "source": [
    "errorMad = genTable(trainErrors, testErrors, features, lambdas)\n",
    "graphResults(trainErrors, testErrors, features)"
   ]
  },
  {
   "cell_type": "code",
   "execution_count": null,
   "metadata": {},
   "outputs": [],
   "source": [
    "errorTableFull = pd.concat([errorGis, errorDex, errorMad])\n",
    "errorTableFull"
   ]
  }
 ],
 "metadata": {
  "kernelspec": {
   "display_name": "Python 3",
   "language": "python",
   "name": "python3"
  },
  "language_info": {
   "codemirror_mode": {
    "name": "ipython",
    "version": 3
   },
   "file_extension": ".py",
   "mimetype": "text/x-python",
   "name": "python",
   "nbconvert_exporter": "python",
   "pygments_lexer": "ipython3",
   "version": "3.7.4"
  }
 },
 "nbformat": 4,
 "nbformat_minor": 2
}
