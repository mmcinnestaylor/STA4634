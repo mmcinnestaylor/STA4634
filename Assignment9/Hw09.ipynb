{
 "cells": [
  {
   "cell_type": "markdown",
   "metadata": {},
   "source": [
    "# NAMES: Timothy Barao, Marlan McInnes-Taylor¶\n",
    "# FSUIDS: tjb13b, mm05f"
   ]
  },
  {
   "cell_type": "markdown",
   "metadata": {},
   "source": [
    "# Sklearn was used for part 1\n",
    "# Part 2 utilizes the code for EM found here: https://people.duke.edu/~ccc14/sta-663/EMAlgorithm.html"
   ]
  },
  {
   "cell_type": "code",
   "execution_count": 1,
   "metadata": {},
   "outputs": [],
   "source": [
    "from sklearn import mixture\n",
    "import matplotlib.pyplot as plt\n",
    "import numpy as np\n",
    "import pandas as pd"
   ]
  },
  {
   "cell_type": "code",
   "execution_count": 2,
   "metadata": {},
   "outputs": [],
   "source": [
    "x1_txt = \"../data/x1.txt\"\n",
    "x2_txt = \"../data/x2.txt\"\n",
    "xeasy_txt = \"../data/xeasy.txt\""
   ]
  },
  {
   "cell_type": "code",
   "execution_count": 3,
   "metadata": {},
   "outputs": [],
   "source": [
    "# Load in datasets\n",
    "x1 = np.genfromtxt(x1_txt, delimiter=',')\n",
    "x2 = np.genfromtxt(x2_txt, delimiter=',')\n",
    "xeasy = np.genfromtxt(xeasy_txt, delimiter=',')"
   ]
  },
  {
   "cell_type": "code",
   "execution_count": 4,
   "metadata": {},
   "outputs": [],
   "source": [
    "# Set k's to use\n",
    "K = [1, 2]"
   ]
  },
  {
   "cell_type": "markdown",
   "metadata": {},
   "source": [
    "# Part 1"
   ]
  },
  {
   "cell_type": "markdown",
   "metadata": {},
   "source": [
    "# xeasy"
   ]
  },
  {
   "cell_type": "code",
   "execution_count": 5,
   "metadata": {},
   "outputs": [
    {
     "name": "stdout",
     "output_type": "stream",
     "text": [
      "k = 1\n",
      "pi_k: \n",
      " [1.]\n",
      "mu_k: \n",
      " [[1.79627 1.15065]]\n",
      "sigma_k: \n",
      " [[[ 3.17198 -2.27654]\n",
      "  [-2.27654  3.49633]]]\n",
      "\n",
      "k = 2\n",
      "pi_k: \n",
      " [0.40719 0.59281]\n",
      "mu_k: \n",
      " [[ 0.02246  3.07758]\n",
      " [ 3.01465 -0.17291]]\n",
      "sigma_k: \n",
      " [[[ 1.01104 -0.04961]\n",
      "  [-0.04961  0.94407]]\n",
      "\n",
      " [[ 1.01065  0.15418]\n",
      "  [ 0.15418  0.94718]]]\n",
      "\n"
     ]
    }
   ],
   "source": [
    "for k in K:\n",
    "    gmm = mixture.GaussianMixture(init_params = \"kmeans\", max_iter = 100,  n_components = k)\n",
    "    gmm.fit(xeasy)\n",
    "\n",
    "    rd = 5\n",
    "    print(\"k =\", k)\n",
    "    print(\"pi_k: \\n\", np.round(gmm.weights_, rd))\n",
    "    print(\"mu_k: \\n\", np.round(gmm.means_, rd))\n",
    "    print(\"sigma_k: \\n\", np.round(gmm.covariances_, rd))\n",
    "    print(\"\")"
   ]
  },
  {
   "cell_type": "markdown",
   "metadata": {},
   "source": [
    "# X1"
   ]
  },
  {
   "cell_type": "code",
   "execution_count": 6,
   "metadata": {},
   "outputs": [
    {
     "name": "stdout",
     "output_type": "stream",
     "text": [
      "k = 1\n",
      "pi_k: \n",
      " [1.]\n",
      "mu_k: \n",
      " [[0.65826 1.33115]]\n",
      "sigma_k: \n",
      " [[[ 2.49394 -0.83207]\n",
      "  [-0.83207  2.57821]]]\n",
      "\n",
      "k = 2\n",
      "pi_k: \n",
      " [0.56407 0.43593]\n",
      "mu_k: \n",
      " [[-0.27931  2.14906]\n",
      " [ 1.87145  0.2728 ]]\n",
      "sigma_k: \n",
      " [[[ 1.57701  0.34995]\n",
      "  [ 0.34995  2.09335]]\n",
      "\n",
      " [[ 1.07115 -0.08532]\n",
      "  [-0.08532  1.21986]]]\n",
      "\n"
     ]
    }
   ],
   "source": [
    "for k in K:\n",
    "    gmm = mixture.GaussianMixture(init_params = \"kmeans\", max_iter = 100,  n_components = k)\n",
    "    gmm.fit(x1)\n",
    "\n",
    "    rd = 5\n",
    "    print(\"k =\", k)\n",
    "    print(\"pi_k: \\n\", np.round(gmm.weights_, rd))\n",
    "    print(\"mu_k: \\n\", np.round(gmm.means_, rd))\n",
    "    print(\"sigma_k: \\n\", np.round(gmm.covariances_, rd))\n",
    "    print(\"\") "
   ]
  },
  {
   "cell_type": "markdown",
   "metadata": {},
   "source": [
    "# x2"
   ]
  },
  {
   "cell_type": "code",
   "execution_count": 7,
   "metadata": {},
   "outputs": [
    {
     "name": "stdout",
     "output_type": "stream",
     "text": [
      "k = 1\n",
      "pi_k: \n",
      " [1.]\n",
      "mu_k: \n",
      " [[ 0.09421 -0.08491]]\n",
      "sigma_k: \n",
      " [[[5.06894 0.40546]\n",
      "  [0.40546 5.05081]]]\n",
      "\n",
      "k = 2\n",
      "pi_k: \n",
      " [0.4385 0.5615]\n",
      "mu_k: \n",
      " [[ 0.17023 -0.14255]\n",
      " [ 0.03484 -0.0399 ]]\n",
      "sigma_k: \n",
      " [[[ 9.86732  0.79962]\n",
      "  [ 0.79962 10.26301]]\n",
      "\n",
      " [[ 1.31366  0.10374]\n",
      "  [ 0.10374  0.97578]]]\n",
      "\n"
     ]
    }
   ],
   "source": [
    "for k in K:\n",
    "    gmm = mixture.GaussianMixture(init_params = \"kmeans\", max_iter = 100,  n_components = k)\n",
    "    gmm.fit(x2)\n",
    "\n",
    "    rd = 5\n",
    "    print(\"k =\", k)\n",
    "    print(\"pi_k: \\n\", np.round(gmm.weights_, rd))\n",
    "    print(\"mu_k: \\n\", np.round(gmm.means_, rd))\n",
    "    print(\"sigma_k: \\n\", np.round(gmm.covariances_, rd))\n",
    "    print(\"\")"
   ]
  },
  {
   "cell_type": "markdown",
   "metadata": {},
   "source": [
    "# Part 2"
   ]
  },
  {
   "cell_type": "markdown",
   "metadata": {},
   "source": [
    "# EM Code from: https://people.duke.edu/~ccc14/sta-663/EMAlgorithm.html\n",
    "\n",
    "# This was done for ease of implementing the two-step EM"
   ]
  },
  {
   "cell_type": "code",
   "execution_count": 8,
   "metadata": {},
   "outputs": [],
   "source": [
    "from scipy.stats import multivariate_normal as mvn\n",
    "\n",
    "def em(xs, pis, mus, sigmas, tol=0.01, max_iter=1000):\n",
    "\n",
    "    n, p = xs.shape\n",
    "    k = len(pis)\n",
    "\n",
    "    ll_old = 0\n",
    "    for i in range(max_iter):\n",
    "        exp_A = []\n",
    "        exp_B = []\n",
    "        ll_new = 0\n",
    "\n",
    "        # E-step\n",
    "        ws = np.zeros((k, n))\n",
    "        for j in range(len(mus)):\n",
    "            for i in range(n):\n",
    "                ws[j, i] = pis[j] * mvn(mus[j], sigmas[j]).pdf(xs[i])\n",
    "        ws /= ws.sum(0)\n",
    "\n",
    "        # M-step\n",
    "        pis = np.zeros(k)\n",
    "        for j in range(len(mus)):\n",
    "            for i in range(n):\n",
    "                pis[j] += ws[j, i]\n",
    "        pis /= n\n",
    "\n",
    "        mus = np.zeros((k, p))\n",
    "        for j in range(k):\n",
    "            for i in range(n):\n",
    "                mus[j] += ws[j, i] * xs[i]\n",
    "            mus[j] /= ws[j, :].sum()\n",
    "\n",
    "        sigmas = np.zeros((k, p, p))\n",
    "        for j in range(k):\n",
    "            for i in range(n):\n",
    "                ys = np.reshape(xs[i]- mus[j], (2,1))\n",
    "                sigmas[j] += ws[j, i] * np.dot(ys, ys.T)\n",
    "            sigmas[j] /= ws[j,:].sum()\n",
    "\n",
    "        # update complete log likelihoood\n",
    "        ll_new = 0.0\n",
    "        for i in range(n):\n",
    "            s = 0\n",
    "            for j in range(k):\n",
    "                s += pis[j] * mvn(mus[j], sigmas[j]).pdf(xs[i])\n",
    "            ll_new += np.log(s)\n",
    "\n",
    "        if np.abs(ll_new - ll_old) < tol:\n",
    "            break\n",
    "        ll_old = ll_new\n",
    "\n",
    "    return pis, mus, sigmas"
   ]
  },
  {
   "cell_type": "code",
   "execution_count": 29,
   "metadata": {},
   "outputs": [],
   "source": [
    "def provableEM(k, data):\n",
    "    # Build S in pruning step\n",
    "    S = [[], [] ,[]]\n",
    "    \n",
    "    # 4 was one of the suggest values by the professor to use here, 3 could have worked also \n",
    "    l = 4\n",
    "    \n",
    "    # Initialize pi\n",
    "    pi = [1/l]*l\n",
    "    \n",
    "    # Initialize mu with random data points\n",
    "    rands = np.random.randint(0, data.shape[0]-1, l)\n",
    "    mu = [data[i] for i in rands]\n",
    "    \n",
    "    # Initialize sigma with equation on slide 19 of LearningGM\n",
    "    sigma = [np.delete(x - mu, i, 0) for i,x in enumerate(mu)]\n",
    "    sigma = [min(np.linalg.norm(i, axis=1)) for i in sigma]\n",
    "    sigma = np.array([x**2 * np.eye(2) for x in sigma]) \n",
    "\n",
    "    # First EM step\n",
    "    pi, mu, sigma = em(data, pi, mu, sigma) \n",
    "    \n",
    "    # Pruning\n",
    "    # Remove all clusters where pi < 1/4 * l\n",
    "    indcs = np.argwhere(pi < 1/(4*l))\n",
    "    \n",
    "    # Keep cluster only where pi >= 1/4 * l\n",
    "    pi = pi[pi >= 1/(4*l)]\n",
    "    mu = np.delete(mu, indcs, axis=0)\n",
    "    sigma = np.delete(sigma, indcs, axis=0)\n",
    " \n",
    "    # Only want to do this step if we end up with more clusters than k\n",
    "    if len(pi) > k:\n",
    "        # Choose random cluster to add to S, as stated in LearningGM slides\n",
    "        rand_c = np.random.randint(0, len(pi) - 1, 1)[0]\n",
    "\n",
    "        S[0].append(pi[rand_c])\n",
    "        S[1].append(mu[rand_c])\n",
    "        S[2].append(sigma[rand_c])\n",
    "        \n",
    "        # Now add to S the center with the maximum distance, but only when k = 2\n",
    "        # Otherwise skip this step, since there would only be one cluster\n",
    "        if k == 2:\n",
    "            # Distance formula, get distance from every mu\n",
    "            dist = [[np.sum((S[0][0] - mu[i])**2), i] for i in range(len(mu))]\n",
    "            \n",
    "            # Sort the distances to determine the max distance\n",
    "            dist.sort(reverse = True, key=lambda x: x[0])\n",
    "            max_d = [x[1] for x in dist[1]]\n",
    "            \n",
    "            # add cluster to S\n",
    "            S[0] += [pi[j] for j in max_d]\n",
    "            S[1] += [mu[j] for j in max_d]\n",
    "            S[2] += [sigma[j] for j in max_d]\n",
    "\n",
    "    # Return the second EM step\n",
    "    return em(data, np.array(S[0]), np.array(S[1]), np.array(S[2])) \n",
    "    \n",
    "    \n",
    "    \n"
   ]
  },
  {
   "cell_type": "markdown",
   "metadata": {},
   "source": [
    "# xeasy"
   ]
  },
  {
   "cell_type": "code",
   "execution_count": 30,
   "metadata": {},
   "outputs": [
    {
     "name": "stdout",
     "output_type": "stream",
     "text": [
      "k = 1\n",
      "pi_k: \n",
      " [1.]\n",
      "mu_k: \n",
      " [[1.79627 1.15065]]\n",
      "sigma_k: \n",
      " [[[ 3.17198 -2.27654]\n",
      "  [-2.27654  3.49633]]]\n",
      "\n",
      "k = 2\n",
      "pi_k: \n",
      " [0.59187 0.40813]\n",
      "mu_k: \n",
      " [[ 3.01705 -0.17528]\n",
      " [ 0.02585  3.07355]]\n",
      "sigma_k: \n",
      " [[[ 1.00756  0.15752]\n",
      "  [ 0.15752  0.94435]]\n",
      "\n",
      " [[ 1.01521 -0.05471]\n",
      "  [-0.05471  0.9501 ]]]\n",
      "\n"
     ]
    }
   ],
   "source": [
    "for k in K:\n",
    "    rd = 5\n",
    "    pi, mu, sigma = provableEM(k, xeasy)\n",
    "    \n",
    "    print(\"k =\", k)\n",
    "    print(\"pi_k: \\n\", np.round(pi, rd))\n",
    "    print(\"mu_k: \\n\", np.round(mu, rd))\n",
    "    print(\"sigma_k: \\n\", np.round(sigma, rd))\n",
    "    print(\"\")"
   ]
  },
  {
   "cell_type": "markdown",
   "metadata": {},
   "source": [
    "# X1"
   ]
  },
  {
   "cell_type": "code",
   "execution_count": 31,
   "metadata": {},
   "outputs": [
    {
     "name": "stdout",
     "output_type": "stream",
     "text": [
      "k = 1\n",
      "pi_k: \n",
      " [1.]\n",
      "mu_k: \n",
      " [[0.65826 1.33115]]\n",
      "sigma_k: \n",
      " [[[ 2.49393 -0.83207]\n",
      "  [-0.83207  2.57821]]]\n",
      "\n",
      "k = 2\n",
      "pi_k: \n",
      " [0.36859 0.63141]\n",
      "mu_k: \n",
      " [[ 2.042    0.17343]\n",
      " [-0.14949  2.00696]]\n",
      "sigma_k: \n",
      " [[[ 0.89157 -0.05856]\n",
      "  [-0.05856  1.11194]]\n",
      "\n",
      " [[ 1.65913  0.19744]\n",
      "  [ 0.19744  2.19501]]]\n",
      "\n"
     ]
    }
   ],
   "source": [
    "for k in K:\n",
    "    rd = 5\n",
    "    pi, mu, sigma = provableEM(k, x1)\n",
    "    \n",
    "    print(\"k =\", k)\n",
    "    print(\"pi_k: \\n\", np.round(pi, rd))\n",
    "    print(\"mu_k: \\n\", np.round(mu, rd))\n",
    "    print(\"sigma_k: \\n\", np.round(sigma, rd))\n",
    "    print(\"\")"
   ]
  },
  {
   "cell_type": "markdown",
   "metadata": {},
   "source": [
    "# X2"
   ]
  },
  {
   "cell_type": "code",
   "execution_count": 32,
   "metadata": {},
   "outputs": [
    {
     "name": "stdout",
     "output_type": "stream",
     "text": [
      "k = 1\n",
      "pi_k: \n",
      " [1.]\n",
      "mu_k: \n",
      " [[ 0.09421 -0.08491]]\n",
      "sigma_k: \n",
      " [[[5.06894 0.40546]\n",
      "  [0.40546 5.05081]]]\n",
      "\n",
      "k = 2\n",
      "pi_k: \n",
      " [0.49607 0.50393]\n",
      "mu_k: \n",
      " [[ 0.17787 -0.12277]\n",
      " [ 0.01185 -0.04764]]\n",
      "sigma_k: \n",
      " [[[9.15992 0.76225]\n",
      "  [0.76225 9.29089]]\n",
      "\n",
      " [[1.02802 0.06042]\n",
      "  [0.06042 0.87399]]]\n",
      "\n"
     ]
    }
   ],
   "source": [
    "for k in K:\n",
    "    rd = 5\n",
    "    pi, mu, sigma = provableEM(k, x2)\n",
    "    \n",
    "    print(\"k =\", k)\n",
    "    print(\"pi_k: \\n\", np.round(pi, rd))\n",
    "    print(\"mu_k: \\n\", np.round(mu, rd))\n",
    "    print(\"sigma_k: \\n\", np.round(sigma, rd))\n",
    "    print(\"\")"
   ]
  }
 ],
 "metadata": {
  "kernelspec": {
   "display_name": "Python 3",
   "language": "python",
   "name": "python3"
  },
  "language_info": {
   "codemirror_mode": {
    "name": "ipython",
    "version": 3
   },
   "file_extension": ".py",
   "mimetype": "text/x-python",
   "name": "python",
   "nbconvert_exporter": "python",
   "pygments_lexer": "ipython3",
   "version": "3.6.8"
  }
 },
 "nbformat": 4,
 "nbformat_minor": 2
}
