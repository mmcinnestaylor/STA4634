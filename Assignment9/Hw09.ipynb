{
 "cells": [
  {
   "cell_type": "code",
   "execution_count": 1,
   "metadata": {},
   "outputs": [],
   "source": [
    "from sklearn import mixture\n",
    "import matplotlib.pyplot as plt\n",
    "import numpy as np\n",
    "import pandas as pd"
   ]
  },
  {
   "cell_type": "code",
   "execution_count": 2,
   "metadata": {},
   "outputs": [],
   "source": [
    "x1_txt = \"../data/x1.txt\"\n",
    "x2_txt = \"../data/x2.txt\"\n",
    "xeasy_txt = \"../data/xeasy.txt\""
   ]
  },
  {
   "cell_type": "code",
   "execution_count": 3,
   "metadata": {},
   "outputs": [],
   "source": [
    "x1 = np.genfromtxt(x1_txt, delimiter=',')\n",
    "x2 = np.genfromtxt(x2_txt, delimiter=',')\n",
    "xeasy = np.genfromtxt(xeasy_txt, delimiter=',')"
   ]
  },
  {
   "cell_type": "code",
   "execution_count": 4,
   "metadata": {},
   "outputs": [],
   "source": [
    "K = [1, 2]"
   ]
  },
  {
   "cell_type": "markdown",
   "metadata": {},
   "source": [
    "# Part 1"
   ]
  },
  {
   "cell_type": "markdown",
   "metadata": {},
   "source": [
    "# xeasy"
   ]
  },
  {
   "cell_type": "code",
   "execution_count": 5,
   "metadata": {},
   "outputs": [
    {
     "name": "stdout",
     "output_type": "stream",
     "text": [
      "k =  1\n",
      "pi_k: \n",
      " [1.]\n",
      "miu_k: \n",
      " [[1.79627 1.15065]]\n",
      "sigma_k: \n",
      " [[[ 3.17198 -2.27654]\n",
      "  [-2.27654  3.49633]]]\n",
      "\n",
      "k =  2\n",
      "pi_k: \n",
      " [0.59281 0.40719]\n",
      "miu_k: \n",
      " [[ 3.01465 -0.17291]\n",
      " [ 0.02246  3.07758]]\n",
      "sigma_k: \n",
      " [[[ 1.01065  0.15418]\n",
      "  [ 0.15418  0.94718]]\n",
      "\n",
      " [[ 1.01104 -0.04961]\n",
      "  [-0.04961  0.94407]]]\n",
      "\n"
     ]
    }
   ],
   "source": [
    "for k in K:\n",
    "    gmm = mixture.GaussianMixture(init_params = \"kmeans\", max_iter = 100,  n_components = k)\n",
    "    gmm.fit(xeasy)\n",
    "\n",
    "    rd = 5\n",
    "    print(\"k = \", k)\n",
    "    print(\"pi_k: \\n\", np.round(gmm.weights_, rd))\n",
    "    print(\"miu_k: \\n\", np.round(gmm.means_, rd))\n",
    "    print(\"sigma_k: \\n\", np.round(gmm.covariances_, rd))\n",
    "    print(\"\")"
   ]
  },
  {
   "cell_type": "markdown",
   "metadata": {},
   "source": [
    "# X1"
   ]
  },
  {
   "cell_type": "code",
   "execution_count": 6,
   "metadata": {},
   "outputs": [
    {
     "name": "stdout",
     "output_type": "stream",
     "text": [
      "k =  1\n",
      "pi_k: \n",
      " [1.]\n",
      "miu_k: \n",
      " [[0.65826 1.33115]]\n",
      "sigma_k: \n",
      " [[[ 2.49394 -0.83207]\n",
      "  [-0.83207  2.57821]]]\n",
      "\n",
      "k =  2\n",
      "pi_k: \n",
      " [0.55437 0.44563]\n",
      "miu_k: \n",
      " [[-0.2869   2.17083]\n",
      " [ 1.83408  0.28655]]\n",
      "sigma_k: \n",
      " [[[ 1.58963  0.36036]\n",
      "  [ 0.36036  2.07693]]\n",
      "\n",
      " [[ 1.12503 -0.09992]\n",
      "  [-0.09992  1.23349]]]\n",
      "\n"
     ]
    }
   ],
   "source": [
    "for k in K:\n",
    "    gmm = mixture.GaussianMixture(init_params = \"kmeans\", max_iter = 100,  n_components = k)\n",
    "    gmm.fit(x1)\n",
    "\n",
    "    rd = 5\n",
    "    print(\"k = \", k)\n",
    "    print(\"pi_k: \\n\", np.round(gmm.weights_, rd))\n",
    "    print(\"miu_k: \\n\", np.round(gmm.means_, rd))\n",
    "    print(\"sigma_k: \\n\", np.round(gmm.covariances_, rd))\n",
    "    print(\"\") "
   ]
  },
  {
   "cell_type": "markdown",
   "metadata": {},
   "source": [
    "# x2"
   ]
  },
  {
   "cell_type": "code",
   "execution_count": 7,
   "metadata": {},
   "outputs": [
    {
     "name": "stdout",
     "output_type": "stream",
     "text": [
      "k =  1\n",
      "pi_k: \n",
      " [1.]\n",
      "miu_k: \n",
      " [[ 0.09421 -0.08491]]\n",
      "sigma_k: \n",
      " [[[5.06894 0.40546]\n",
      "  [0.40546 5.05081]]]\n",
      "\n",
      "k =  2\n",
      "pi_k: \n",
      " [0.5615 0.4385]\n",
      "miu_k: \n",
      " [[ 0.03484 -0.0399 ]\n",
      " [ 0.17023 -0.14255]]\n",
      "sigma_k: \n",
      " [[[ 1.31366  0.10374]\n",
      "  [ 0.10374  0.97578]]\n",
      "\n",
      " [[ 9.86732  0.79962]\n",
      "  [ 0.79962 10.26301]]]\n",
      "\n"
     ]
    }
   ],
   "source": [
    "for k in K:\n",
    "    gmm = mixture.GaussianMixture(init_params = \"kmeans\", max_iter = 100,  n_components = k)\n",
    "    gmm.fit(x2)\n",
    "\n",
    "    rd = 5\n",
    "    print(\"k = \", k)\n",
    "    print(\"pi_k: \\n\", np.round(gmm.weights_, rd))\n",
    "    print(\"miu_k: \\n\", np.round(gmm.means_, rd))\n",
    "    print(\"sigma_k: \\n\", np.round(gmm.covariances_, rd))\n",
    "    print(\"\")"
   ]
  },
  {
   "cell_type": "markdown",
   "metadata": {},
   "source": [
    "# Part 2"
   ]
  },
  {
   "cell_type": "code",
   "execution_count": 9,
   "metadata": {},
   "outputs": [],
   "source": [
    "from scipy.stats import multivariate_normal as mvn\n",
    "\n",
    "def em(xs, pis, mus, sigmas, tol=0.01, max_iter=100):\n",
    "\n",
    "    n, p = xs.shape\n",
    "    k = len(pis)\n",
    "\n",
    "    ll_old = 0\n",
    "    for i in range(max_iter):\n",
    "        exp_A = []\n",
    "        exp_B = []\n",
    "        ll_new = 0\n",
    "\n",
    "        # E-step\n",
    "        ws = np.zeros((k, n))\n",
    "        for j in range(len(mus)):\n",
    "            for i in range(n):\n",
    "                ws[j, i] = pis[j] * mvn(mus[j], sigmas[j]).pdf(xs[i])\n",
    "        ws /= ws.sum(0)\n",
    "\n",
    "        # M-step\n",
    "        pis = np.zeros(k)\n",
    "        for j in range(len(mus)):\n",
    "            for i in range(n):\n",
    "                pis[j] += ws[j, i]\n",
    "        pis /= n\n",
    "\n",
    "        mus = np.zeros((k, p))\n",
    "        for j in range(k):\n",
    "            for i in range(n):\n",
    "                mus[j] += ws[j, i] * xs[i]\n",
    "            mus[j] /= ws[j, :].sum()\n",
    "\n",
    "        sigmas = np.zeros((k, p, p))\n",
    "        for j in range(k):\n",
    "            for i in range(n):\n",
    "                ys = np.reshape(xs[i]- mus[j], (2,1))\n",
    "                sigmas[j] += ws[j, i] * np.dot(ys, ys.T)\n",
    "            sigmas[j] /= ws[j,:].sum()\n",
    "\n",
    "        # update complete log likelihoood\n",
    "        ll_new = 0.0\n",
    "        for i in range(n):\n",
    "            s = 0\n",
    "            for j in range(k):\n",
    "                s += pis[j] * mvn(mus[j], sigmas[j]).pdf(xs[i])\n",
    "            ll_new += np.log(s)\n",
    "\n",
    "        if np.abs(ll_new - ll_old) < tol:\n",
    "            break\n",
    "        ll_old = ll_new\n",
    "\n",
    "    return ll_new, pis, mus, sigmas"
   ]
  },
  {
   "cell_type": "code",
   "execution_count": null,
   "metadata": {},
   "outputs": [],
   "source": [
    "def provableEM(x):\n",
    "\n",
    "    \n"
   ]
  },
  {
   "cell_type": "code",
   "execution_count": null,
   "metadata": {},
   "outputs": [],
   "source": []
  }
 ],
 "metadata": {
  "kernelspec": {
   "display_name": "Python 3",
   "language": "python",
   "name": "python3"
  },
  "language_info": {
   "codemirror_mode": {
    "name": "ipython",
    "version": 3
   },
   "file_extension": ".py",
   "mimetype": "text/x-python",
   "name": "python",
   "nbconvert_exporter": "python",
   "pygments_lexer": "ipython3",
   "version": "3.5.3"
  }
 },
 "nbformat": 4,
 "nbformat_minor": 2
}
