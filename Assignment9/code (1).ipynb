{
 "cells": [
  {
   "cell_type": "code",
   "execution_count": 174,
   "metadata": {},
   "outputs": [],
   "source": [
    "import numpy as np\n",
    "import matplotlib.pyplot as plt\n",
    "import torch\n",
    "import torch.nn as nn\n",
    "import torch.nn.functional as F"
   ]
  },
  {
   "cell_type": "code",
   "execution_count": 175,
   "metadata": {},
   "outputs": [],
   "source": [
    "y = np.loadtxt(\"d:/datasets/uci/gisette/gisette_train.labels\", delimiter=',')\n",
    "x = np.loadtxt(\"d:/datasets/uci/gisette/gisette_train.data\")\n",
    "yt = np.loadtxt(\"d:/datasets/uci/gisette/gisette_valid.labels\", delimiter=',')\n",
    "xt = np.loadtxt(\"d:/datasets/uci/gisette/gisette_valid.data\")"
   ]
  },
  {
   "cell_type": "code",
   "execution_count": 176,
   "metadata": {},
   "outputs": [
    {
     "name": "stdout",
     "output_type": "stream",
     "text": [
      "(6000, 5000) (1000, 1)\n"
     ]
    }
   ],
   "source": [
    "mx=np.mean(x,axis=0)\n",
    "sx=np.std(x,axis=0)\n",
    "sx[sx==0]=0.00001\n",
    "x=(x-mx)/sx\n",
    "n,d=x.shape\n",
    "X=x.copy()\n",
    "xt=(xt-mx)/sx\n",
    "#yt[yt<0]=0\n",
    "yt=yt[:, np.newaxis]\n",
    "print(X.shape,yt.shape)"
   ]
  },
  {
   "cell_type": "code",
   "execution_count": 177,
   "metadata": {},
   "outputs": [
    {
     "name": "stdout",
     "output_type": "stream",
     "text": [
      "[[1.]\n",
      " [0.]\n",
      " [1.]\n",
      " ...\n",
      " [0.]\n",
      " [0.]\n",
      " [0.]]\n",
      "[[ 1.]\n",
      " [-1.]\n",
      " [ 1.]\n",
      " ...\n",
      " [-1.]\n",
      " [-1.]\n",
      " [-1.]]\n"
     ]
    }
   ],
   "source": [
    "y1=y.copy()\n",
    "y1=y1[:, np.newaxis]\n",
    "y=y[:, np.newaxis]\n",
    "y[y<0]=0\n",
    "print(y)\n",
    "print(y1)"
   ]
  },
  {
   "cell_type": "code",
   "execution_count": 178,
   "metadata": {},
   "outputs": [],
   "source": [
    "def hval(x,idx,b,b0):\n",
    "    if not idx:\n",
    "        n=x.shape[0]\n",
    "        h=np.zeros((n))+b0\n",
    "    else:\n",
    "        h=np.matmul(x[:,idx],b)+b0\n",
    "    return h\n",
    "def err(u,y):\n",
    "    y1=torch.argmax(u,1)\n",
    "    return torch.mean((y1!=y).float())\n",
    "def fitRegressors(x,z,w):\n",
    "    sw=np.sum(w)\n",
    "    xbar=np.sum(x*w,axis=0)/sw\n",
    "    ybar=np.sum(z*w)/sw\n",
    "    s1=np.sum((x-xbar)*y*w,axis=0)\n",
    "    s2=np.sum(w*(x-xbar)**2,axis=0)\n",
    "    b1=s1/(s2+0.00001)\n",
    "    b0=ybar-b1*xbar\n",
    "    return b1,b0\n",
    "\n",
    "def losses(x,y,h0,b1,b0):\n",
    "    h= x*b1+b0+h0\n",
    "    yxw=y*h\n",
    "    l=np.log(1+np.exp(-yxw))\n",
    "    l[yxw<0]=-yxw[yxw<0]+np.log(1+np.exp(yxw[yxw<0]))\n",
    "    lo=np.mean(l,axis=0)\n",
    "    return lo\n",
    "def loss(h,y):\n",
    "    yxw=y*h\n",
    "    l=np.log(1+np.exp(-yxw))\n",
    "    #print(l.shape)\n",
    "    l[yxw<0]=-yxw[yxw<0]+np.log(1+np.exp(yxw[yxw<0]))\n",
    "    lo=np.mean(l)\n",
    "    #print(lo.shape)\n",
    "    return lo"
   ]
  },
  {
   "cell_type": "code",
   "execution_count": 179,
   "metadata": {},
   "outputs": [
    {
     "name": "stdout",
     "output_type": "stream",
     "text": [
      "0 3656 0.5944739437106029\n",
      "1 3656 0.5229153184618474\n",
      "2 557 0.47107283310099424\n",
      "3 904 0.4351975378151704\n",
      "4 3975 0.40810475428722254\n",
      "5 3065 0.38689600572264327\n",
      "6 3543 0.37033687995367925\n",
      "7 4507 0.35626878801247547\n",
      "8 3062 0.3455548954505691\n",
      "9 3251 0.33484216069869\n",
      "10 4424 0.32475799071728645\n",
      "11 2740 0.3164529904529219\n",
      "12 467 0.3075191684061645\n",
      "13 4158 0.2995071152452865\n",
      "14 1277 0.29170424448758514\n",
      "15 2488 0.2842086951706291\n",
      "16 4424 0.2781685394563331\n",
      "17 4553 0.27186573642871875\n",
      "18 288 0.2658937192459419\n",
      "19 732 0.2604061592242541\n"
     ]
    }
   ],
   "source": [
    "k=20\n",
    "idx=[]\n",
    "b=[]\n",
    "b00=0\n",
    "for i in range(k):\n",
    "    bb=np.array(b)\n",
    "    h=hval(x,idx,b,b00)\n",
    "    h=h[:, np.newaxis]\n",
    "    #print(h.shape)    \n",
    "    p=1/(1+np.exp(-h))\n",
    "    w=p*(1-p)\n",
    "    z=1/p\n",
    "    z[y==0]=-1/(1-p[y==0])\n",
    "    b1,b0=fitRegressors(x,z,w)\n",
    "    l=losses(x,y1,h,b1,b0)\n",
    "    j=np.argmin(l)\n",
    "    print(i,j,l[j])\n",
    "    idx.append(j)\n",
    "    b.append(b1[j])\n",
    "    b00+=b0[j]"
   ]
  },
  {
   "cell_type": "code",
   "execution_count": null,
   "metadata": {},
   "outputs": [],
   "source": []
  }
 ],
 "metadata": {
  "kernelspec": {
   "display_name": "Python 3",
   "language": "python",
   "name": "python3"
  },
  "language_info": {
   "codemirror_mode": {
    "name": "ipython",
    "version": 3
   },
   "file_extension": ".py",
   "mimetype": "text/x-python",
   "name": "python",
   "nbconvert_exporter": "python",
   "pygments_lexer": "ipython3",
   "version": "3.5.3"
  }
 },
 "nbformat": 4,
 "nbformat_minor": 1
}
