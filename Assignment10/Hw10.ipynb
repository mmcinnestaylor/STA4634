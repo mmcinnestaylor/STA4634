{
 "cells": [
  {
   "cell_type": "code",
   "execution_count": 1,
   "metadata": {},
   "outputs": [],
   "source": [
    "import numpy as np\n",
    "import pandas as pd\n",
    "import matplotlib.pyplot as plt\n",
    "from numpy import linalg as LA\n",
    "import os"
   ]
  },
  {
   "cell_type": "code",
   "execution_count": 2,
   "metadata": {},
   "outputs": [],
   "source": [
    "import tensorflow as tf\n",
    "from tensorflow.keras.models import Sequential\n",
    "from tensorflow.keras.layers import Activation, MaxPooling2D, Dense, Conv2D, Flatten\n",
    "from tensorflow.keras import optimizers\n",
    "import tensorflow.keras.preprocessing.image as img\n",
    "from sklearn.metrics import r2_score"
   ]
  },
  {
   "cell_type": "code",
   "execution_count": 3,
   "metadata": {},
   "outputs": [],
   "source": [
    "def processData():\n",
    "    dataset, labels = [], []\n",
    "    dirPath = '../data/HW10/HW10train/'\n",
    "\n",
    "    for im in os.listdir(dirPath):\n",
    "        label = float(im[:2])\n",
    "        data = img.load_img(dirPath+im)\n",
    "        data = img.img_to_array(data)\n",
    "        \n",
    "        dataset.append(data)\n",
    "        labels.append(label)\n",
    "\n",
    "    print(\"Training set: \", np.array(dataset).shape)\n",
    "    print(\"Training labels: \", np.array(labels).shape)\n",
    "    \n",
    "    np.save(\"../data/HW10/Train.data\", np.array(dataset))\n",
    "    np.save(\"../data/HW10/Train.labels\", np.array(labels))\n",
    "    \n",
    "    dataset, labels = [], []\n",
    "    dirPath = '../data/HW10/HW10test/'\n",
    "\n",
    "    for im in os.listdir(dirPath):\n",
    "        label = float(im[:2])\n",
    "        data = img.load_img(dirPath+im)\n",
    "        data = img.img_to_array(data)\n",
    "        \n",
    "        dataset.append(data)\n",
    "        labels.append(label)\n",
    " \n",
    "    print(\"Testing set: \", np.array(dataset).shape)\n",
    "    print(\"Testing labels: \", np.array(labels).shape)\n",
    "    \n",
    "    np.save(\"../data/HW10/Test.data\", np.array(dataset))\n",
    "    np.save(\"../data/HW10/Test.labels\", np.array(labels))\n",
    "    \n",
    "\n",
    "#processData()"
   ]
  },
  {
   "cell_type": "code",
   "execution_count": 4,
   "metadata": {},
   "outputs": [
    {
     "name": "stdout",
     "output_type": "stream",
     "text": [
      "xtrain:  (18059, 64, 64, 3) \n",
      " ytrain:  (18059,)\n",
      "xtest:  (2261, 64, 64, 3) \n",
      " ytest:  (2261,)\n",
      "xtrain:  float32 \n",
      " ytrain:  float64\n",
      "xtest:  float32 \n",
      " ytest:  float64\n"
     ]
    }
   ],
   "source": [
    "xtrain, ytrain = np.load('../data/HW10/Train.data.npy'), np.load('../data/HW10/Train.labels.npy')\n",
    "xtest, ytest = np.load('../data/HW10/Test.data.npy'), np.load('../data/HW10/Test.labels.npy')\n",
    "\n",
    "print('xtrain: ', xtrain.shape, '\\n ytrain: ', ytrain.shape)\n",
    "print('xtest: ', xtest.shape, '\\n ytest: ', ytest.shape)\n",
    "\n",
    "print('xtrain: ', xtrain.dtype, '\\n ytrain: ', ytrain.dtype)\n",
    "print('xtest: ', xtest.dtype, '\\n ytest: ', ytest.dtype)"
   ]
  },
  {
   "cell_type": "code",
   "execution_count": 5,
   "metadata": {},
   "outputs": [],
   "source": [
    "CNN = Sequential()\n",
    "\n",
    "# First Layer\n",
    "CNN.add(Conv2D(16, (5, 5), strides=1, input_shape=(64, 64, 3)))\n",
    "\n",
    "\n",
    "# Second Layer\n",
    "CNN.add(Conv2D(16, (5, 5), strides=1))\n",
    "\n",
    "# Third Layer\n",
    "CNN.add(Conv2D(32, (5, 5), strides=1))\n",
    "CNN.add(MaxPooling2D(pool_size=(2, 2), strides=2))\n",
    "\n",
    "# Fourth Layer\n",
    "CNN.add(Conv2D(32, (5, 5), strides=1))\n",
    "CNN.add(Activation('relu'))\n",
    "\n",
    "# Final Layer\n",
    "CNN.add(Conv2D(1, (1, 1), strides=1))\n",
    "CNN.add(Flatten())\n",
    "CNN.add(Dense(1))\n"
   ]
  },
  {
   "cell_type": "code",
   "execution_count": 6,
   "metadata": {},
   "outputs": [
    {
     "name": "stdout",
     "output_type": "stream",
     "text": [
      "Model: \"sequential\"\n",
      "_________________________________________________________________\n",
      "Layer (type)                 Output Shape              Param #   \n",
      "=================================================================\n",
      "conv2d (Conv2D)              (None, 60, 60, 16)        1216      \n",
      "_________________________________________________________________\n",
      "conv2d_1 (Conv2D)            (None, 56, 56, 16)        6416      \n",
      "_________________________________________________________________\n",
      "conv2d_2 (Conv2D)            (None, 52, 52, 32)        12832     \n",
      "_________________________________________________________________\n",
      "max_pooling2d (MaxPooling2D) (None, 26, 26, 32)        0         \n",
      "_________________________________________________________________\n",
      "conv2d_3 (Conv2D)            (None, 22, 22, 32)        25632     \n",
      "_________________________________________________________________\n",
      "activation (Activation)      (None, 22, 22, 32)        0         \n",
      "_________________________________________________________________\n",
      "conv2d_4 (Conv2D)            (None, 22, 22, 1)         33        \n",
      "_________________________________________________________________\n",
      "flatten (Flatten)            (None, 484)               0         \n",
      "_________________________________________________________________\n",
      "dense (Dense)                (None, 1)                 485       \n",
      "=================================================================\n",
      "Total params: 46,614\n",
      "Trainable params: 46,614\n",
      "Non-trainable params: 0\n",
      "_________________________________________________________________\n"
     ]
    }
   ],
   "source": [
    "optim = optimizers.Adam(learning_rate=0.001)\n",
    "CNN.compile(optimizer=optim, loss='mean_squared_error', metrics=['accuracy'])\n",
    "CNN.summary()"
   ]
  },
  {
   "cell_type": "code",
   "execution_count": 7,
   "metadata": {},
   "outputs": [
    {
     "name": "stdout",
     "output_type": "stream",
     "text": [
      "Train on 18059 samples\n",
      "Epoch 1/20\n",
      "18059/18059 [==============================] - 4s 213us/sample - loss: 2957.6895 - accuracy: 0.0000e+00\n",
      "Epoch 2/20\n",
      "18059/18059 [==============================] - 2s 98us/sample - loss: 470.2229 - accuracy: 0.0000e+00\n",
      "Epoch 3/20\n",
      "18059/18059 [==============================] - 2s 99us/sample - loss: 388.3148 - accuracy: 0.0000e+00\n",
      "Epoch 4/20\n",
      "18059/18059 [==============================] - 2s 101us/sample - loss: 337.5598 - accuracy: 0.0000e+00\n",
      "Epoch 5/20\n",
      "18059/18059 [==============================] - 2s 99us/sample - loss: 294.5666 - accuracy: 0.0000e+00\n",
      "Epoch 6/20\n",
      "18059/18059 [==============================] - 2s 99us/sample - loss: 264.7538 - accuracy: 0.0000e+00\n",
      "Epoch 7/20\n",
      "18059/18059 [==============================] - 2s 114us/sample - loss: 235.8978 - accuracy: 0.0000e+00\n",
      "Epoch 8/20\n",
      "18059/18059 [==============================] - 2s 111us/sample - loss: 209.5289 - accuracy: 0.0000e+00\n",
      "Epoch 9/20\n",
      "18059/18059 [==============================] - 2s 103us/sample - loss: 191.7102 - accuracy: 0.0000e+00\n",
      "Epoch 10/20\n",
      "18059/18059 [==============================] - 2s 107us/sample - loss: 172.1065 - accuracy: 0.0000e+00\n",
      "Epoch 11/20\n",
      "18059/18059 [==============================] - 2s 102us/sample - loss: 160.6291 - accuracy: 0.0000e+00\n",
      "Epoch 12/20\n",
      "18059/18059 [==============================] - 2s 98us/sample - loss: 141.4312 - accuracy: 0.0000e+00\n",
      "Epoch 13/20\n",
      "18059/18059 [==============================] - 2s 98us/sample - loss: 133.4036 - accuracy: 0.0000e+00\n",
      "Epoch 14/20\n",
      "18059/18059 [==============================] - 2s 99us/sample - loss: 126.4377 - accuracy: 0.0000e+00\n",
      "Epoch 15/20\n",
      "18059/18059 [==============================] - 2s 98us/sample - loss: 123.8504 - accuracy: 0.0000e+00\n",
      "Epoch 16/20\n",
      "18059/18059 [==============================] - 2s 100us/sample - loss: 114.1155 - accuracy: 0.0000e+00\n",
      "Epoch 17/20\n",
      "18059/18059 [==============================] - 2s 99us/sample - loss: 109.7909 - accuracy: 0.0000e+00\n",
      "Epoch 18/20\n",
      "18059/18059 [==============================] - 2s 99us/sample - loss: 101.9837 - accuracy: 0.0000e+00\n",
      "Epoch 19/20\n",
      "18059/18059 [==============================] - 2s 98us/sample - loss: 103.4539 - accuracy: 0.0000e+00\n",
      "Epoch 20/20\n",
      "18059/18059 [==============================] - 2s 98us/sample - loss: 93.3566 - accuracy: 0.0000e+00\n"
     ]
    },
    {
     "data": {
      "text/plain": [
       "<tensorflow.python.keras.callbacks.History at 0x1f4275c2748>"
      ]
     },
     "execution_count": 7,
     "metadata": {},
     "output_type": "execute_result"
    }
   ],
   "source": [
    "CNN.fit(xtrain, ytrain, epochs=20, batch_size = 128, verbose=1)"
   ]
  },
  {
   "cell_type": "code",
   "execution_count": 8,
   "metadata": {},
   "outputs": [
    {
     "data": {
      "text/plain": [
       "0.8462946162967031"
      ]
     },
     "execution_count": 8,
     "metadata": {},
     "output_type": "execute_result"
    }
   ],
   "source": [
    "preds = CNN.predict(xtrain)\n",
    "r2_score(ytrain, preds)"
   ]
  },
  {
   "cell_type": "code",
   "execution_count": 9,
   "metadata": {},
   "outputs": [
    {
     "data": {
      "text/plain": [
       "0.7868757029922637"
      ]
     },
     "execution_count": 9,
     "metadata": {},
     "output_type": "execute_result"
    }
   ],
   "source": [
    "preds = CNN.predict(xtest)\n",
    "r2_score(ytest, preds)"
   ]
  },
  {
   "cell_type": "code",
   "execution_count": 10,
   "metadata": {},
   "outputs": [],
   "source": [
    "#for i in CNN.predict(xtrain):\n",
    "#    print(i)"
   ]
  },
  {
   "cell_type": "code",
   "execution_count": null,
   "metadata": {},
   "outputs": [],
   "source": []
  }
 ],
 "metadata": {
  "celltoolbar": "Raw Cell Format",
  "kernelspec": {
   "display_name": "Python 3",
   "language": "python",
   "name": "python3"
  },
  "language_info": {
   "codemirror_mode": {
    "name": "ipython",
    "version": 3
   },
   "file_extension": ".py",
   "mimetype": "text/x-python",
   "name": "python",
   "nbconvert_exporter": "python",
   "pygments_lexer": "ipython3",
   "version": "3.7.4"
  }
 },
 "nbformat": 4,
 "nbformat_minor": 2
}
