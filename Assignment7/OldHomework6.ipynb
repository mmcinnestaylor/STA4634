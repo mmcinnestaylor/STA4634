{
 "cells": [
  {
   "cell_type": "markdown",
   "metadata": {},
   "source": [
    "# NAMES: Timothy Barao, Marlan McInnes-Taylor\n",
    "# FSUIDS: tjb13b, mm05f"
   ]
  },
  {
   "cell_type": "code",
   "execution_count": 1,
   "metadata": {},
   "outputs": [],
   "source": [
    "import numpy as np\n",
    "import pandas as pd\n",
    "import matplotlib.pyplot as plt\n",
    "from numpy import linalg as LA"
   ]
  },
  {
   "cell_type": "code",
   "execution_count": 2,
   "metadata": {},
   "outputs": [],
   "source": [
    "class FSA:\n",
    "    def __init__(self, xt, yt, xv, yv):\n",
    "        self.load_data(xt, yt, xv, yv)\n",
    "        \n",
    "        self.s = 0.001\n",
    "        self.u = 50 \n",
    "        self.N_iter = 500\n",
    "        self.lr = 0.01      \n",
    "\n",
    "        self.M = self.x_t.shape[1]\n",
    "        self.N = self.x_t.shape[0]\n",
    "        self.B = np.zeros(self.M)\n",
    "        \n",
    "        self.losses = []\n",
    "     \n",
    "    def load_data(self, x_train_file, y_train_file, x_valid_file, y_valid_file):\n",
    "        if \"dexter\" in x_train_file:\n",
    "            self.x_t = np.loadtxt(x_train_file, delimiter=',')\n",
    "            self.x_v = np.loadtxt(x_valid_file, delimiter=',')\n",
    "        else:\n",
    "            self.x_t = np.loadtxt(x_train_file)\n",
    "            self.x_v = np.loadtxt(x_valid_file)\n",
    "        \n",
    "        self.y_t = np.loadtxt(y_train_file) \n",
    "        self.y_v = np.loadtxt(y_valid_file) \n",
    "        \n",
    "        #print(self.y_v.shape)\n",
    "        #print(self.y_t.shape)\n",
    "                              \n",
    "        self.N = self.x_t.shape[0]   # Rows\n",
    "        self.M = self.x_t.shape[1]   # Columns \n",
    "\n",
    "        mx = np.mean(self.x_t, axis = 0)\n",
    "        sx = np.std(self.x_t, axis = 0)\n",
    "        sx[sx == 0] = 0.00001\n",
    "        self.x_t = (self.x_t - mx)/sx\n",
    "        \n",
    "        mx = np.mean(self.x_v, axis = 0)\n",
    "        sx = np.std(self.x_v, axis = 0)\n",
    "        sx[sx == 0] = 0.00001\n",
    "        self.x_v = (self.x_v - mx) / sx\n",
    " \n",
    "        self.print_features()\n",
    "              \n",
    "    def gradient_update(self):  \n",
    "        xw = np.matmul(self.x_t, self.B)\n",
    "        yxw = self.y_t * xw\n",
    "        \n",
    "        N,d=self.x_t.shape\n",
    "        \n",
    "        ly= 2 * (yxw - 1) / (1 + (yxw - 1) ** 2) * self.y_t\n",
    "        ydx=np.matmul(ly.T,self.x_t)\n",
    "        g=ydx.T/N+2*self.s*self.B\n",
    "        \n",
    "        self.B = self.B - self.lr * g\n",
    "        loss = self.loss()\n",
    "        #print(loss)\n",
    "\n",
    "        return loss\n",
    "    \n",
    "    def loss(self):\n",
    "        xB = np.matmul(self.x_t, self.B)\n",
    "        yBx = self.y_t * xB\n",
    "\n",
    "        temp = np.log(1 + (yBx - 1)**2)\n",
    "        temp[yBx > 1] = 0\n",
    "        lo = np.mean(temp)\n",
    "        grad = lo + (self.s * np.sum(self.B ** 2))\n",
    "        \n",
    "        return grad\n",
    "\n",
    "    def predict(self):\n",
    "        xw=np.matmul(self.x_t, self.B)\n",
    "        yxw=self.y_t*xw\n",
    "        \n",
    "        x_w=np.matmul(self.x_v, self.B)\n",
    "        y_xw=self.y_v*x_w\n",
    "        return np.mean(yxw<=0), np.mean(y_xw<=0)\n",
    "        \n",
    "        \n",
    "        xB = np.matmul(self.x_t, self.B)\n",
    "        yPred = np.sign(xB)\n",
    "        trainAcc = 1- np.mean(yPred == self.y_t.flatten())\n",
    "        \n",
    "        xB = np.matmul(self.x_v, self.B)\n",
    "        yPred = np.sign(xB)\n",
    "        testAcc = 1 - np.mean(yPred == self.y_v.flatten())\n",
    "        \n",
    "        return trainAcc, testAcc\n",
    "    \n",
    "    def train(self, k):\n",
    "        mPrev = self.M\n",
    "        for i in range(0, self.N_iter):\n",
    "            if k == 30:\n",
    "                loss = self.gradient_update()\n",
    "                self.losses.append(loss)\n",
    "            else:\n",
    "                self.gradient_update()\n",
    "            \n",
    "            temp = (self.N_iter - 2 * i)/(2 * i * self.u + self.N_iter)\n",
    "            temp = max(0, temp)\n",
    "            mi = k + (self.M - k) * temp\n",
    "            mi = int(mi)\n",
    "            \n",
    "            if mi < mPrev:\n",
    "                indc = np.absolute(self.B)\n",
    "                sort = np.argsort(indc)\n",
    "                sort = sort[-mi:]\n",
    "                self.B=self.B[sort]\n",
    "                self.x_t=(self.x_t.T[sort]).T\n",
    "                self.x_v=(self.x_v.T[sort]).T\n",
    "                mPrev = mi\n",
    "                self.M = mi\n",
    "    \n",
    "    def print_features(self):\n",
    "        print(\"\\n=-=-=-=-=-=-=-=-=-=-=-=-=-=-=-=-=-=-=-=-=-=-=-=-=-=-=\")\n",
    "        print(\"X_train Objs: \", self.x_t.shape[0], \"X_train Feats: \", self.x_t.shape[1])\n",
    "        print(\"Y_train Objs: \", self.y_t.shape[0])\n",
    "        print(\"\\nX_valid Objs: \", self.x_v.shape[0], \"X_valid Feats: \", self.x_v.shape[1])\n",
    "        print(\"Y_valid Objs: \", self.y_v.shape[0])\n",
    "        print(\"=-=-=-=-=-=-=-=-=-=-=-=-=-=-=-=-=-=-=-=-=-=-=-=-=-=-=\")"
   ]
  },
  {
   "cell_type": "code",
   "execution_count": 3,
   "metadata": {},
   "outputs": [],
   "source": [
    "K = [10, 30, 100, 300, 500]\n",
    "trainErrors = []\n",
    "testErrors = []\n",
    "losses = []"
   ]
  },
  {
   "cell_type": "markdown",
   "metadata": {},
   "source": [
    "# Madelon"
   ]
  },
  {
   "cell_type": "code",
   "execution_count": 4,
   "metadata": {},
   "outputs": [],
   "source": [
    "x_train_file = \"../data/MADELON/madelon_train.data\"\n",
    "y_train_file = \"../data/MADELON/madelon_train.labels\"\n",
    "\n",
    "x_valid_file = \"../data/MADELON/madelon_valid.data\"\n",
    "y_valid_file = \"../data/MADELON/madelon_valid.labels\""
   ]
  },
  {
   "cell_type": "code",
   "execution_count": 5,
   "metadata": {},
   "outputs": [
    {
     "name": "stdout",
     "output_type": "stream",
     "text": [
      "\n",
      "=-=-=-=-=-=-=-=-=-=-=-=-=-=-=-=-=-=-=-=-=-=-=-=-=-=-=\n",
      "X_train Objs:  2000 X_train Feats:  500\n",
      "Y_train Objs:  2000\n",
      "\n",
      "X_valid Objs:  600 X_valid Feats:  500\n",
      "Y_valid Objs:  600\n",
      "=-=-=-=-=-=-=-=-=-=-=-=-=-=-=-=-=-=-=-=-=-=-=-=-=-=-=\n",
      "\n",
      "=-=-=-=-=-=-=-=-=-=-=-=-=-=-=-=-=-=-=-=-=-=-=-=-=-=-=\n",
      "X_train Objs:  2000 X_train Feats:  500\n",
      "Y_train Objs:  2000\n",
      "\n",
      "X_valid Objs:  600 X_valid Feats:  500\n",
      "Y_valid Objs:  600\n",
      "=-=-=-=-=-=-=-=-=-=-=-=-=-=-=-=-=-=-=-=-=-=-=-=-=-=-=\n",
      "\n",
      "=-=-=-=-=-=-=-=-=-=-=-=-=-=-=-=-=-=-=-=-=-=-=-=-=-=-=\n",
      "X_train Objs:  2000 X_train Feats:  500\n",
      "Y_train Objs:  2000\n",
      "\n",
      "X_valid Objs:  600 X_valid Feats:  500\n",
      "Y_valid Objs:  600\n",
      "=-=-=-=-=-=-=-=-=-=-=-=-=-=-=-=-=-=-=-=-=-=-=-=-=-=-=\n",
      "\n",
      "=-=-=-=-=-=-=-=-=-=-=-=-=-=-=-=-=-=-=-=-=-=-=-=-=-=-=\n",
      "X_train Objs:  2000 X_train Feats:  500\n",
      "Y_train Objs:  2000\n",
      "\n",
      "X_valid Objs:  600 X_valid Feats:  500\n",
      "Y_valid Objs:  600\n",
      "=-=-=-=-=-=-=-=-=-=-=-=-=-=-=-=-=-=-=-=-=-=-=-=-=-=-=\n",
      "\n",
      "=-=-=-=-=-=-=-=-=-=-=-=-=-=-=-=-=-=-=-=-=-=-=-=-=-=-=\n",
      "X_train Objs:  2000 X_train Feats:  500\n",
      "Y_train Objs:  2000\n",
      "\n",
      "X_valid Objs:  600 X_valid Feats:  500\n",
      "Y_valid Objs:  600\n",
      "=-=-=-=-=-=-=-=-=-=-=-=-=-=-=-=-=-=-=-=-=-=-=-=-=-=-=\n",
      "Train Errors:  [38.05, 36.05, 32.6, 26.3, 24.85]\n",
      "Test Errors:  [38.33, 40.0, 42.17, 41.83, 41.0]\n",
      "(500,)\n"
     ]
    }
   ],
   "source": [
    "for k in K:\n",
    "    model = FSA(x_train_file, y_train_file, x_valid_file, y_valid_file)\n",
    "    model.train(k)\n",
    "    if k == 30:\n",
    "        xVals = np.arange(0, model.N_iter)\n",
    "        losses = model.losses\n",
    "    trainAccuracy, testAccuracy = model.predict()\n",
    "    trainErrors.append(round((trainAccuracy) * 100, 2))\n",
    "    testErrors.append(round((testAccuracy) * 100, 2))\n",
    "print(\"Train Errors: \", trainErrors)\n",
    "print(\"Test Errors: \", testErrors)\n",
    "print(np.array(losses).shape)"
   ]
  },
  {
   "cell_type": "code",
   "execution_count": 6,
   "metadata": {},
   "outputs": [
    {
     "data": {
      "image/png": "[encoded data removed]",
      "text/plain": [
       "<Figure size 432x288 with 1 Axes>"
      ]
     },
     "metadata": {
      "needs_background": "light"
     },
     "output_type": "display_data"
    }
   ],
   "source": [
    "plt.plot(K, trainErrors, linestyle='-', marker='o', color='r', label='Train')\n",
    "plt.plot(K, testErrors, linestyle='-', marker='o', color='b', label='Test')\n",
    "plt.grid(True)\n",
    "plt.xticks(K)\n",
    "plt.title('Misclassification Error vs Number of Features')\n",
    "plt.xlabel('Number of Features (k)')\n",
    "plt.ylabel('Misclassification Error (%)')\n",
    "plt.legend()\n",
    "plt.show()\n"
   ]
  },
  {
   "cell_type": "code",
   "execution_count": 7,
   "metadata": {},
   "outputs": [
    {
     "data": {
      "image/png": "[encoded data removed]",
      "text/plain": [
       "<Figure size 432x288 with 1 Axes>"
      ]
     },
     "metadata": {
      "needs_background": "light"
     },
     "output_type": "display_data"
    }
   ],
   "source": [
    "plt.plot(xVals, losses, linestyle='-', marker='o', color='g')\n",
    "plt.grid(True)\n",
    "plt.title('Training Loss vs Iteration Number k=30')\n",
    "plt.xlabel('Iteration Number (i)')\n",
    "plt.ylabel('Training Loss (L_i)')\n",
    "plt.show()"
   ]
  },
  {
   "cell_type": "code",
   "execution_count": 8,
   "metadata": {},
   "outputs": [
    {
     "data": {
      "text/html": [
       "<div>\n",
       "<style scoped>\n",
       "    .dataframe tbody tr th:only-of-type {\n",
       "        vertical-align: middle;\n",
       "    }\n",
       "\n",
       "    .dataframe tbody tr th {\n",
       "        vertical-align: top;\n",
       "    }\n",
       "\n",
       "    .dataframe thead th {\n",
       "        text-align: right;\n",
       "    }\n",
       "</style>\n",
       "<table border=\"1\" class=\"dataframe\">\n",
       "  <thead>\n",
       "    <tr style=\"text-align: right;\">\n",
       "      <th></th>\n",
       "      <th>Test Error (%)</th>\n",
       "      <th>Training Error (%)</th>\n",
       "    </tr>\n",
       "    <tr>\n",
       "      <th>N Features</th>\n",
       "      <th></th>\n",
       "      <th></th>\n",
       "    </tr>\n",
       "  </thead>\n",
       "  <tbody>\n",
       "    <tr>\n",
       "      <th>10</th>\n",
       "      <td>38.33</td>\n",
       "      <td>38.05</td>\n",
       "    </tr>\n",
       "    <tr>\n",
       "      <th>30</th>\n",
       "      <td>40.00</td>\n",
       "      <td>36.05</td>\n",
       "    </tr>\n",
       "    <tr>\n",
       "      <th>100</th>\n",
       "      <td>42.17</td>\n",
       "      <td>32.60</td>\n",
       "    </tr>\n",
       "    <tr>\n",
       "      <th>300</th>\n",
       "      <td>41.83</td>\n",
       "      <td>26.30</td>\n",
       "    </tr>\n",
       "    <tr>\n",
       "      <th>500</th>\n",
       "      <td>41.00</td>\n",
       "      <td>24.85</td>\n",
       "    </tr>\n",
       "  </tbody>\n",
       "</table>\n",
       "</div>"
      ],
      "text/plain": [
       "            Test Error (%)  Training Error (%)\n",
       "N Features                                    \n",
       "10                   38.33               38.05\n",
       "30                   40.00               36.05\n",
       "100                  42.17               32.60\n",
       "300                  41.83               26.30\n",
       "500                  41.00               24.85"
      ]
     },
     "execution_count": 8,
     "metadata": {},
     "output_type": "execute_result"
    }
   ],
   "source": [
    "errorTableMadelon = pd.DataFrame({\"Training Error (%)\":[0, 0, 0, 0, 0], \"Test Error (%)\":[0, 0, 0, 0, 0]}, index=K)\n",
    "errorTableMadelon.index.name = \"N Features\"\n",
    "for k, trainErr, testErr in zip(K, trainErrors, testErrors):\n",
    "    errorTableMadelon.loc[k, 'Training Error (%)'] = trainErr\n",
    "    errorTableMadelon.loc[k, 'Test Error (%)'] = testErr\n",
    "    \n",
    "errorTableMadelon"
   ]
  },
  {
   "cell_type": "code",
   "execution_count": 9,
   "metadata": {},
   "outputs": [],
   "source": [
    "trainErrors.clear()\n",
    "testErrors.clear()\n",
    "losses = [] "
   ]
  },
  {
   "cell_type": "markdown",
   "metadata": {},
   "source": [
    "# Dexter"
   ]
  },
  {
   "cell_type": "code",
   "execution_count": 10,
   "metadata": {},
   "outputs": [],
   "source": [
    "x_train_file = \"../data/dexter/dexter_train.csv\"\n",
    "y_train_file = \"../data/dexter/dexter_train.labels\"\n",
    "\n",
    "x_valid_file = \"../data/dexter/dexter_valid.csv\"\n",
    "y_valid_file = \"../data/dexter/dexter_valid.labels\""
   ]
  },
  {
   "cell_type": "code",
   "execution_count": null,
   "metadata": {},
   "outputs": [],
   "source": [
    "for k in K:\n",
    "    model = FSA(x_train_file, y_train_file, x_valid_file, y_valid_file)\n",
    "    model.train(k)\n",
    "    if k == 30:\n",
    "        xVals = np.arange(0, model.N_iter)\n",
    "        losses = model.losses\n",
    "    trainAccuracy, testAccuracy = model.predict()\n",
    "    trainErrors.append(round((trainAccuracy) * 100, 2))\n",
    "    testErrors.append(round((testAccuracy) * 100, 2))\n",
    "print(\"Train Errors: \", trainErrors)\n",
    "print(\"Test Errors: \", testErrors)\n",
    "print(np.array(losses).shape)"
   ]
  },
  {
   "cell_type": "code",
   "execution_count": null,
   "metadata": {},
   "outputs": [],
   "source": [
    "plt.plot(xVals, losses, linestyle='-', marker='o', color='g')\n",
    "plt.grid(True)\n",
    "plt.title('Training Loss vs Iteration Number k=30')\n",
    "plt.xlabel('Iteration Number (i)')\n",
    "plt.ylabel('Training Loss (L_i)')\n",
    "plt.show()"
   ]
  },
  {
   "cell_type": "code",
   "execution_count": null,
   "metadata": {},
   "outputs": [],
   "source": [
    "plt.plot(K, trainErrors, linestyle='-', marker='o', color='r', label='Train')\n",
    "plt.plot(K, testErrors, linestyle='-', marker='o', color='b', label='Test')\n",
    "plt.grid(True)\n",
    "plt.xticks(K)\n",
    "plt.title('Misclassification Error vs Number of Features')\n",
    "plt.xlabel('Number of Features (k)')\n",
    "plt.ylabel('Misclassification Error (%)')\n",
    "plt.legend()\n",
    "plt.show()"
   ]
  },
  {
   "cell_type": "code",
   "execution_count": null,
   "metadata": {},
   "outputs": [],
   "source": [
    "errorTableDexter = pd.DataFrame({\"Training Error (%)\":[0, 0, 0, 0, 0], \"Test Error (%)\":[0, 0, 0, 0, 0]}, index=K)\n",
    "errorTableDexter.index.name = \"N Features\"\n",
    "for k, trainErr, testErr in zip(K, trainErrors, testErrors):\n",
    "    errorTableDexter.loc[k, 'Training Error (%)'] = trainErr\n",
    "    errorTableDexter.loc[k, 'Test Error (%)'] = testErr\n",
    "    \n",
    "errorTableDexter"
   ]
  },
  {
   "cell_type": "code",
   "execution_count": null,
   "metadata": {},
   "outputs": [],
   "source": [
    "trainErrors.clear()\n",
    "testErrors.clear()\n",
    "losses = []"
   ]
  },
  {
   "cell_type": "markdown",
   "metadata": {},
   "source": [
    "# Gisette "
   ]
  },
  {
   "cell_type": "code",
   "execution_count": null,
   "metadata": {},
   "outputs": [],
   "source": [
    "x_train_file = \"../data/Gisette/gisette_train.data\"\n",
    "y_train_file = \"../data/Gisette/gisette_train.labels\"\n",
    "\n",
    "x_valid_file = \"../data/Gisette/gisette_valid.data\"\n",
    "y_valid_file = \"../data/Gisette/gisette_valid.labels\""
   ]
  },
  {
   "cell_type": "code",
   "execution_count": null,
   "metadata": {},
   "outputs": [],
   "source": [
    "for k in K:\n",
    "    model = FSA(x_train_file, y_train_file, x_valid_file, y_valid_file)\n",
    "    model.train(k)\n",
    "    if k == 30:\n",
    "        xVals = np.arange(0, model.N_iter)\n",
    "        losses = model.losses\n",
    "    trainAccuracy, testAccuracy = model.predict()\n",
    "    trainErrors.append(round((trainAccuracy) * 100, 2))\n",
    "    testErrors.append(round((testAccuracy) * 100, 2))\n",
    "print(\"Train Errors: \", trainErrors)\n",
    "print(\"Test Errors: \", testErrors)\n",
    "print(np.array(losses).shape)"
   ]
  },
  {
   "cell_type": "code",
   "execution_count": null,
   "metadata": {},
   "outputs": [],
   "source": [
    "plt.plot(xVals, losses, linestyle='-', marker='o', color='g')\n",
    "plt.grid(True)\n",
    "plt.title('Training Loss vs Iteration Number k=30')\n",
    "plt.xlabel('Iteration Number (i)')\n",
    "plt.ylabel('Training Loss (L_i)')\n",
    "plt.show()"
   ]
  },
  {
   "cell_type": "code",
   "execution_count": null,
   "metadata": {},
   "outputs": [],
   "source": [
    "plt.plot(K, trainErrors, linestyle='-', marker='o', color='r', label='Train')\n",
    "plt.plot(K, testErrors, linestyle='-', marker='o', color='b', label='Test')\n",
    "plt.grid(True)\n",
    "plt.xticks(K)\n",
    "plt.title('Misclassification Error vs Number of Features')\n",
    "plt.xlabel('Number of Features (k)')\n",
    "plt.ylabel('Misclassification Error (%)')\n",
    "plt.legend()\n",
    "plt.show()"
   ]
  },
  {
   "cell_type": "code",
   "execution_count": null,
   "metadata": {},
   "outputs": [],
   "source": [
    "errorTableGisette = pd.DataFrame({\"Training Error (%)\":[0, 0, 0, 0, 0], \"Test Error (%)\":[0, 0, 0, 0, 0]}, index=K)\n",
    "errorTableGisette.index.name = \"N Features\"\n",
    "for k, trainErr, testErr in zip(K, trainErrors, testErrors):\n",
    "    errorTableGisette.loc[k, 'Training Error (%)'] = trainErr\n",
    "    errorTableGisette.loc[k, 'Test Error (%)'] = testErr\n",
    "    \n",
    "errorTableGisette"
   ]
  },
  {
   "cell_type": "code",
   "execution_count": null,
   "metadata": {},
   "outputs": [],
   "source": [
    "#u corresponding to the correct class\n",
    "\n",
    "#u_y - u_k\n",
    "#prediction of class - prediction of the other class\n",
    "#pyTorch for gradient\n",
    "'''\n",
    "optim.SGD\n",
    "optimizer.zero_grad()\n",
    "outputs = net(inputs)\n",
    "loss = torch.sum()#\n",
    "loss.backward()\n",
    "optimizer.step()\n",
    "'''\n",
    "\n",
    "class Net(nn.Module):\n",
    "    def __init__(self, ):\n",
    "        self.fc1 = nn.Linear(5000, 1, bias=False)\n",
    "    def forward(self, x):\n",
    "        x = self.fc1(x)\n",
    "        return x\n",
    "    \n",
    "net = Net()\n",
    "net.fc1.weight=nn.Parameter(torch.zeros(1, 5000), requires_grad=)\n",
    "  \n",
    "criterion = nn.MSELoss(reduction='sum')\n",
    "optimizer = optim.SGD(net.parameters(), lr=0.01)   \n",
    "\n",
    "xx = torch.from_numpy(x.astype(np.float32))\n",
    "yy = torch.from_numpy(y.astype(np.int)))\n",
    "\n",
    "for i in range(30):\n",
    "    inputs = xx\n",
    "    labels = yy\n",
    "    \n",
    "    optimizer.zero_grad()\n",
    "    outputs = net(inputs)\n",
    "    u = yy * outputs\n",
    "    loss = torch.mean(torch.log(1+F.relu(1 - u)**2))\n",
    "    loss.backward()\n",
    "    optimizer.step()\n",
    "    \n",
    "    running_loss = loss.item()\n",
    "    \n",
    "    "
   ]
  },
  {
   "cell_type": "code",
   "execution_count": null,
   "metadata": {},
   "outputs": [],
   "source": [
    "  a"
   ]
  }
 ],
 "metadata": {
  "kernelspec": {
   "display_name": "Python 3",
   "language": "python",
   "name": "python3"
  },
  "language_info": {
   "codemirror_mode": {
    "name": "ipython",
    "version": 3
   },
   "file_extension": ".py",
   "mimetype": "text/x-python",
   "name": "python",
   "nbconvert_exporter": "python",
   "pygments_lexer": "ipython3",
   "version": "3.5.3"
  }
 },
 "nbformat": 4,
 "nbformat_minor": 2
}
