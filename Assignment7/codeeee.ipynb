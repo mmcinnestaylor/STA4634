{
 "cells": [
  {
   "cell_type": "code",
   "execution_count": 1,
   "metadata": {},
   "outputs": [
    {
     "name": "stdout",
     "output_type": "stream",
     "text": [
      "(2000, 500)\n"
     ]
    }
   ],
   "source": [
    "import numpy as np\n",
    "import matplotlib.pyplot as plt\n",
    "\n",
    "y = np.loadtxt(\"../data/MADELON/madelon_train.labels\", delimiter=',')\n",
    "x = np.loadtxt(\"../data/MADELON/madelon_train.data\")\n",
    "#y = np.loadtxt(\"d:/datasets/uci/madelon/madelon_train.labels\", delimiter=',')\n",
    "#x = np.loadtxt(\"d:/datasets/uci/madelon/madelon_train.data\")\n",
    "#y = np.loadtxt(\"d:/datasets/uci/dexter/dexter_train.labels\", delimiter=',')\n",
    "#x = np.loadtxt(\"d:/datasets/uci/dexter/dexter_train.csv\", delimiter=',')\n",
    "mx=np.mean(x,axis=0)\n",
    "sx=np.std(x,axis=0)\n",
    "sx[sx==0]=0.00001\n",
    "x=(x-mx)/sx\n",
    "n,d=x.shape\n",
    "y=y[:, np.newaxis]\n",
    "X=x.copy()\n",
    "print(X.shape)"
   ]
  },
  {
   "cell_type": "code",
   "execution_count": 2,
   "metadata": {},
   "outputs": [
    {
     "data": {
      "text/plain": [
       "(600, 1)"
      ]
     },
     "execution_count": 2,
     "metadata": {},
     "output_type": "execute_result"
    }
   ],
   "source": [
    "yt = np.loadtxt(\"../data/MADELON/madelon_valid.labels\", delimiter=',')\n",
    "xt = np.loadtxt(\"../data/MADELON/madelon_valid.data\")\n",
    "#yt = np.loadtxt(\"d:/datasets/uci/madelon/madelon_valid.labels\", delimiter=',')\n",
    "#xt = np.loadtxt(\"d:/datasets/uci/madelon/madelon_valid.data\")\n",
    "#yt = np.loadtxt(\"d:/datasets/uci/dexter/dexter_valid.labels\", delimiter=',')\n",
    "#xt = np.loadtxt(\"d:/datasets/uci/dexter/dexter_valid.csv\", delimiter=',')\n",
    "xt=(xt-mx)/sx\n",
    "#yt[yt<0]=0\n",
    "yt=yt[:, np.newaxis]\n",
    "yt.shape"
   ]
  },
  {
   "cell_type": "code",
   "execution_count": 3,
   "metadata": {},
   "outputs": [
    {
     "data": {
      "text/plain": [
       "(2000, 1)"
      ]
     },
     "execution_count": 3,
     "metadata": {},
     "output_type": "execute_result"
    }
   ],
   "source": [
    "ys=y.copy()\n",
    "y[y<0]=0\n",
    "ys=ys[:, np.newaxis]\n",
    "y.shape"
   ]
  },
  {
   "cell_type": "code",
   "execution_count": 4,
   "metadata": {},
   "outputs": [
    {
     "data": {
      "text/plain": [
       "(2000, 1, 1, 1)"
      ]
     },
     "execution_count": 4,
     "metadata": {},
     "output_type": "execute_result"
    }
   ],
   "source": [
    "ys=ys[:, np.newaxis]\n",
    "ys.shape"
   ]
  },
  {
   "cell_type": "code",
   "execution_count": 5,
   "metadata": {},
   "outputs": [],
   "source": [
    "def err(x,y,w):\n",
    "    xw=np.matmul(x,w)\n",
    "    yxw=y*xw\n",
    "    return np.mean(yxw<=0)\n",
    "def loss(x,y,w,s):\n",
    "    xw=np.matmul(x,w)\n",
    "    yxw=y*xw\n",
    "    l=np.log(1+(yxw-1)**2)\n",
    "    #print(l.shape)\n",
    "    l[yxw>1]=0\n",
    "    lo=np.mean(l)\n",
    "    #print(lo.shape)\n",
    "    return lo+s*np.sum(w**2)\n",
    "def gradloss(x,y,w,s):\n",
    "    xw=np.matmul(x,w)\n",
    "    yxw=y*xw\n",
    "    N,d=x.shape\n",
    "    ly=2*(yxw-1)/(1+(yxw-1)**2)*y\n",
    "    ydx=np.matmul(ly.T,x)\n",
    "    g=ydx.T/N+2*s*w\n",
    "    #print(g.shape)\n",
    "    return g"
   ]
  },
  {
   "cell_type": "code",
   "execution_count": 6,
   "metadata": {
    "scrolled": false
   },
   "outputs": [
    {
     "name": "stdout",
     "output_type": "stream",
     "text": [
      "10 250 1 250\n"
     ]
    },
    {
     "ename": "ValueError",
     "evalue": "matmul: Input operand 1 has a mismatch in its core dimension 0, with gufunc signature (n?,k),(k,m?)->(n?,m?) (size 1 is different from 250)",
     "output_type": "error",
     "traceback": [
      "\u001b[0;31m---------------------------------------------------------------------------\u001b[0m",
      "\u001b[0;31mValueError\u001b[0m                                Traceback (most recent call last)",
      "\u001b[0;32m<ipython-input-6-54e7f1d4c720>\u001b[0m in \u001b[0;36m<module>\u001b[0;34m\u001b[0m\n\u001b[1;32m     10\u001b[0m \u001b[0midx\u001b[0m\u001b[0;34m=\u001b[0m\u001b[0mnp\u001b[0m\u001b[0;34m.\u001b[0m\u001b[0marray\u001b[0m\u001b[0;34m(\u001b[0m\u001b[0mrange\u001b[0m\u001b[0;34m(\u001b[0m\u001b[0;36m0\u001b[0m\u001b[0;34m,\u001b[0m\u001b[0md\u001b[0m\u001b[0;34m)\u001b[0m\u001b[0;34m)\u001b[0m\u001b[0;34m\u001b[0m\u001b[0m\n\u001b[1;32m     11\u001b[0m \u001b[0;32mfor\u001b[0m \u001b[0mi\u001b[0m \u001b[0;32min\u001b[0m \u001b[0mrange\u001b[0m\u001b[0;34m(\u001b[0m\u001b[0;36m0\u001b[0m\u001b[0;34m,\u001b[0m\u001b[0mNiter\u001b[0m\u001b[0;34m)\u001b[0m\u001b[0;34m:\u001b[0m\u001b[0;34m\u001b[0m\u001b[0m\n\u001b[0;32m---> 12\u001b[0;31m     \u001b[0mg\u001b[0m\u001b[0;34m=\u001b[0m\u001b[0mgradloss\u001b[0m\u001b[0;34m(\u001b[0m\u001b[0mx\u001b[0m\u001b[0;34m,\u001b[0m\u001b[0my\u001b[0m\u001b[0;34m,\u001b[0m\u001b[0mw\u001b[0m\u001b[0;34m,\u001b[0m\u001b[0ms\u001b[0m\u001b[0;34m)\u001b[0m\u001b[0;34m\u001b[0m\u001b[0m\n\u001b[0m\u001b[1;32m     13\u001b[0m     \u001b[0mw\u001b[0m\u001b[0;34m=\u001b[0m\u001b[0mw\u001b[0m\u001b[0;34m-\u001b[0m\u001b[0meta\u001b[0m\u001b[0;34m*\u001b[0m\u001b[0mg\u001b[0m\u001b[0;34m;\u001b[0m\u001b[0;34m\u001b[0m\u001b[0m\n\u001b[1;32m     14\u001b[0m     \u001b[0mlg\u001b[0m\u001b[0;34m.\u001b[0m\u001b[0mappend\u001b[0m\u001b[0;34m(\u001b[0m\u001b[0mloss\u001b[0m\u001b[0;34m(\u001b[0m\u001b[0mx\u001b[0m\u001b[0;34m,\u001b[0m\u001b[0my\u001b[0m\u001b[0;34m,\u001b[0m\u001b[0mw\u001b[0m\u001b[0;34m,\u001b[0m\u001b[0ms\u001b[0m\u001b[0;34m)\u001b[0m\u001b[0;34m)\u001b[0m\u001b[0;34m\u001b[0m\u001b[0m\n",
      "\u001b[0;32m<ipython-input-5-62d3f39b854c>\u001b[0m in \u001b[0;36mgradloss\u001b[0;34m(x, y, w, s)\u001b[0m\n\u001b[1;32m     13\u001b[0m     \u001b[0;32mreturn\u001b[0m \u001b[0mlo\u001b[0m\u001b[0;34m+\u001b[0m\u001b[0ms\u001b[0m\u001b[0;34m*\u001b[0m\u001b[0mnp\u001b[0m\u001b[0;34m.\u001b[0m\u001b[0msum\u001b[0m\u001b[0;34m(\u001b[0m\u001b[0mw\u001b[0m\u001b[0;34m**\u001b[0m\u001b[0;36m2\u001b[0m\u001b[0;34m)\u001b[0m\u001b[0;34m\u001b[0m\u001b[0m\n\u001b[1;32m     14\u001b[0m \u001b[0;32mdef\u001b[0m \u001b[0mgradloss\u001b[0m\u001b[0;34m(\u001b[0m\u001b[0mx\u001b[0m\u001b[0;34m,\u001b[0m\u001b[0my\u001b[0m\u001b[0;34m,\u001b[0m\u001b[0mw\u001b[0m\u001b[0;34m,\u001b[0m\u001b[0ms\u001b[0m\u001b[0;34m)\u001b[0m\u001b[0;34m:\u001b[0m\u001b[0;34m\u001b[0m\u001b[0m\n\u001b[0;32m---> 15\u001b[0;31m     \u001b[0mxw\u001b[0m\u001b[0;34m=\u001b[0m\u001b[0mnp\u001b[0m\u001b[0;34m.\u001b[0m\u001b[0mmatmul\u001b[0m\u001b[0;34m(\u001b[0m\u001b[0mx\u001b[0m\u001b[0;34m,\u001b[0m\u001b[0mw\u001b[0m\u001b[0;34m)\u001b[0m\u001b[0;34m\u001b[0m\u001b[0m\n\u001b[0m\u001b[1;32m     16\u001b[0m     \u001b[0myxw\u001b[0m\u001b[0;34m=\u001b[0m\u001b[0my\u001b[0m\u001b[0;34m*\u001b[0m\u001b[0mxw\u001b[0m\u001b[0;34m\u001b[0m\u001b[0m\n\u001b[1;32m     17\u001b[0m     \u001b[0mN\u001b[0m\u001b[0;34m,\u001b[0m\u001b[0md\u001b[0m\u001b[0;34m=\u001b[0m\u001b[0mx\u001b[0m\u001b[0;34m.\u001b[0m\u001b[0mshape\u001b[0m\u001b[0;34m\u001b[0m\u001b[0m\n",
      "\u001b[0;31mValueError\u001b[0m: matmul: Input operand 1 has a mismatch in its core dimension 0, with gufunc signature (n?,k),(k,m?)->(n?,m?) (size 1 is different from 250)"
     ]
    }
   ],
   "source": [
    "x=X.copy()\n",
    "n,d=x.shape\n",
    "w=np.zeros((d,1))\n",
    "s=0.001\n",
    "eta=0.01\n",
    "k=10\n",
    "mu=50\n",
    "Niter=100\n",
    "lg=[loss(x,y,w,s)]\n",
    "idx=np.array(range(0,d))\n",
    "for i in range(0,Niter):\n",
    "    g=gradloss(x,y,w,s)\n",
    "    w=w-eta*g;\n",
    "    lg.append(loss(x,y,w,s)) \n",
    "    Me=int(np.floor(k+(d-k)*max(0.,(Niter-2*i)/(Niter+2.*i*mu))))\n",
    "    if Me>=x.shape[1]:\n",
    "        continue\n",
    "\n",
    "    indc = np.absolute(w)\n",
    "    sort = np.argsort(indc)\n",
    "    sort = sort[-Me:]\n",
    "    w=w[sort]\n",
    "    x=x.T[sort].T\n",
    "    xt=xt.T[sort].T\n",
    "    \n",
    "    print(k,Me,x.shape[1],w.shape[0])\n",
    "print(np.sum(np.abs(w)>0))\n",
    "print(\"train err=%g, test err=%g\\n\"%(err(x,ys,w),err(xt,yt,w)))\n",
    "plt.plot(lg,'k')\n",
    "plt.savefig('c:/tmp/loss.png', dpi = 300)\n",
    "plt.show()\n",
    "plt.close()"
   ]
  },
  {
   "cell_type": "code",
   "execution_count": null,
   "metadata": {},
   "outputs": [],
   "source": [
    "import torch\n",
    "import torch.nn as nn\n",
    "import torch.nn.functional as F\n",
    "    \n",
    "class Net(nn.Module):\n",
    "    def __init__(self):\n",
    "        super(Net, self).__init__()\n",
    "        self.fc1 = nn.Linear(5000, 1, bias=False)\n",
    "\n",
    "    def forward(self, x):\n",
    "        x = self.fc1(x)\n",
    "        return x\n",
    "\n",
    "net = Net()\n",
    "print(net.fc1.weight.shape)\n",
    "net.fc1.weight=nn.Parameter(torch.zeros(1,5000),requires_grad=True)"
   ]
  },
  {
   "cell_type": "code",
   "execution_count": null,
   "metadata": {},
   "outputs": [],
   "source": [
    "import torch.optim as optim\n",
    "\n",
    "optimizer = optim.SGD(net.parameters(), lr=0.01)\n",
    "#optimizer = optim.Adam(net.parameters(), lr=0.03)\n",
    "\n",
    "xx=torch.from_numpy(X.astype(np.float32))\n",
    "yy=torch.from_numpy(y.astype(np.int))\n",
    "\n",
    "for epoch in range(30): \n",
    "    inputs = xx\n",
    "    #print(inputs.shape)\n",
    "    # zero the parameter gradients\n",
    "    optimizer.zero_grad()\n",
    "\n",
    "    # forward + backward + optimize\n",
    "    outputs = net(inputs)\n",
    "    #print(outputs)\n",
    "    #loss = criterion(outputs, labels)\n",
    "    u=yy*outputs\n",
    "    loss = torch.mean(torch.log(1+F.relu(u-1)**2))\n",
    "    loss.backward()\n",
    "    optimizer.step()\n",
    "    #break\n",
    "    # print statistics\n",
    "    running_loss = loss.item()\n",
    "    print('[%d] loss: %.3f' %\n",
    "             (epoch + 1, running_loss ))\n",
    "\n",
    "print('Finished Training')"
   ]
  },
  {
   "cell_type": "code",
   "execution_count": null,
   "metadata": {},
   "outputs": [],
   "source": [
    "xw=np.matmul(xt,w)\n",
    "py=np.sign(xw)\n",
    "py[py<0]=0\n",
    "1-np.mean(py==yt)"
   ]
  },
  {
   "cell_type": "code",
   "execution_count": null,
   "metadata": {},
   "outputs": [],
   "source": [
    "py[0:10]"
   ]
  },
  {
   "cell_type": "code",
   "execution_count": null,
   "metadata": {},
   "outputs": [],
   "source": [
    "yt[0:10]"
   ]
  },
  {
   "cell_type": "code",
   "execution_count": null,
   "metadata": {},
   "outputs": [],
   "source": []
  }
 ],
 "metadata": {
  "kernelspec": {
   "display_name": "Python 3",
   "language": "python",
   "name": "python3"
  },
  "language_info": {
   "codemirror_mode": {
    "name": "ipython",
    "version": 3
   },
   "file_extension": ".py",
   "mimetype": "text/x-python",
   "name": "python",
   "nbconvert_exporter": "python",
   "pygments_lexer": "ipython3",
   "version": "3.5.3"
  }
 },
 "nbformat": 4,
 "nbformat_minor": 1
}
