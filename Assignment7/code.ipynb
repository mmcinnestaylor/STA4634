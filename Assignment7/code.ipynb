{
 "cells": [
  {
   "cell_type": "code",
   "execution_count": 1,
   "metadata": {},
   "outputs": [],
   "source": [
    "import numpy as np\n",
    "import matplotlib.pyplot as plt\n",
    "\n",
    "#y = np.loadtxt(\"d:/datasets/uci/gisette/gisette_train.labels\", delimiter=',')\n",
    "#x = np.loadtxt(\"d:/datasets/uci/gisette/gisette_train.data\")\n",
    "y = np.loadtxt(\"../data/MADELON/madelon_train.labels\", delimiter=',')\n",
    "x = np.loadtxt(\"../data/MADELON/madelon_train.data\")\n",
    "#y = np.loadtxt(\"d:/datasets/uci/dexter/dexter_train.labels\", delimiter=',')\n",
    "#x = np.loadtxt(\"d:/datasets/uci/dexter/dexter_train.csv\", delimiter=',')\n",
    "mx=np.mean(x,axis=0)\n",
    "sx=np.std(x,axis=0)\n",
    "sx[sx==0]=0.00001\n",
    "x=(x-mx)/sx\n",
    "n,d=x.shape"
   ]
  },
  {
   "cell_type": "code",
   "execution_count": 2,
   "metadata": {},
   "outputs": [
    {
     "data": {
      "text/plain": [
       "(600, 1)"
      ]
     },
     "execution_count": 2,
     "metadata": {},
     "output_type": "execute_result"
    }
   ],
   "source": [
    "#yt = np.loadtxt(\"d:/datasets/uci/gisette/gisette_valid.labels\", delimiter=',')\n",
    "#xt = np.loadtxt(\"d:/datasets/uci/gisette/gisette_valid.data\")\n",
    "yt = np.loadtxt(\"../data/MADELON/madelon_valid.labels\", delimiter=',')\n",
    "xt = np.loadtxt(\"../data/MADELON/madelon_valid.data\")\n",
    "#yt = np.loadtxt(\"d:/datasets/uci/dexter/dexter_valid.labels\", delimiter=',')\n",
    "#xt = np.loadtxt(\"d:/datasets/uci/dexter/dexter_valid.csv\", delimiter=',')\n",
    "xt=(xt-mx)/sx\n",
    "#yt[yt<0]=0\n",
    "yt=yt[:, np.newaxis]\n",
    "yt.shape"
   ]
  },
  {
   "cell_type": "code",
   "execution_count": 3,
   "metadata": {},
   "outputs": [
    {
     "data": {
      "text/plain": [
       "(2000, 1)"
      ]
     },
     "execution_count": 3,
     "metadata": {},
     "output_type": "execute_result"
    }
   ],
   "source": [
    "ys=y.copy()\n",
    "y[y<0]=0\n",
    "y=y[:, np.newaxis]\n",
    "ys=ys[:, np.newaxis]\n",
    "y.shape"
   ]
  },
  {
   "cell_type": "code",
   "execution_count": 4,
   "metadata": {},
   "outputs": [
    {
     "data": {
      "text/plain": [
       "(2000, 1, 1)"
      ]
     },
     "execution_count": 4,
     "metadata": {},
     "output_type": "execute_result"
    }
   ],
   "source": [
    "ys=ys[:, np.newaxis]\n",
    "ys.shape"
   ]
  },
  {
   "cell_type": "code",
   "execution_count": 5,
   "metadata": {},
   "outputs": [],
   "source": [
    "def err(x,y,w):\n",
    "    xw=np.matmul(x,w)\n",
    "    yxw=y*xw\n",
    "    return np.mean(yxw<=0)\n",
    "def loss(x,y,w):\n",
    "    xw=np.matmul(x,w)\n",
    "    yxw=y*xw\n",
    "    l=np.log(1+np.exp(-yxw))\n",
    "    #print(l.shape)\n",
    "    l[yxw<0]=-yxw[yxw<0]+np.log(1+np.exp(yxw[yxw<0]))\n",
    "    lo=np.mean(l)\n",
    "    #print(lo.shape)\n",
    "    return lo\n",
    "def gradloss(x,y,w):\n",
    "    xw=np.matmul(x,w)\n",
    "    N,d=x.shape\n",
    "    yd=1/(1+np.exp(-xw))\n",
    "    yd=y-yd\n",
    "    #yd1 = yd[:, np.newaxis]\n",
    "    ydx=np.matmul(yd.T,x)\n",
    "    g=ydx.T/N\n",
    "    #print(g.shape)\n",
    "    return g"
   ]
  },
  {
   "cell_type": "code",
   "execution_count": 7,
   "metadata": {
    "scrolled": false
   },
   "outputs": [
    {
     "ename": "NameError",
     "evalue": "name 'mu' is not defined",
     "output_type": "error",
     "traceback": [
      "\u001b[0;31m---------------------------------------------------------------------------\u001b[0m",
      "\u001b[0;31mNameError\u001b[0m                                 Traceback (most recent call last)",
      "\u001b[0;32m<ipython-input-7-2fa54b3f093c>\u001b[0m in \u001b[0;36m<module>\u001b[0;34m\u001b[0m\n\u001b[1;32m      7\u001b[0m     \u001b[0mg\u001b[0m\u001b[0;34m=\u001b[0m\u001b[0mgradloss\u001b[0m\u001b[0;34m(\u001b[0m\u001b[0mx\u001b[0m\u001b[0;34m,\u001b[0m\u001b[0my\u001b[0m\u001b[0;34m,\u001b[0m\u001b[0mw\u001b[0m\u001b[0;34m)\u001b[0m\u001b[0;34m\u001b[0m\u001b[0m\n\u001b[1;32m      8\u001b[0m     \u001b[0mw\u001b[0m\u001b[0;34m=\u001b[0m\u001b[0mw\u001b[0m\u001b[0;34m+\u001b[0m\u001b[0meta\u001b[0m\u001b[0;34m*\u001b[0m\u001b[0mg\u001b[0m\u001b[0;34m;\u001b[0m\u001b[0;34m\u001b[0m\u001b[0m\n\u001b[0;32m----> 9\u001b[0;31m     \u001b[0mMe\u001b[0m \u001b[0;34m=\u001b[0m \u001b[0mk\u001b[0m \u001b[0;34m+\u001b[0m \u001b[0;34m(\u001b[0m\u001b[0md\u001b[0m\u001b[0;34m-\u001b[0m\u001b[0mk\u001b[0m\u001b[0;34m)\u001b[0m\u001b[0;34m*\u001b[0m\u001b[0mnp\u001b[0m\u001b[0;34m.\u001b[0m\u001b[0mmax\u001b[0m\u001b[0;34m(\u001b[0m\u001b[0;36m0\u001b[0m\u001b[0;34m,\u001b[0m \u001b[0;36m100\u001b[0m\u001b[0;34m-\u001b[0m\u001b[0;36m2\u001b[0m\u001b[0;34m*\u001b[0m\u001b[0mi\u001b[0m\u001b[0;34m/\u001b[0m\u001b[0;36m100\u001b[0m\u001b[0;34m+\u001b[0m\u001b[0;36m2\u001b[0m\u001b[0;34m*\u001b[0m\u001b[0mi\u001b[0m\u001b[0;34m*\u001b[0m\u001b[0mmu\u001b[0m\u001b[0;34m)\u001b[0m\u001b[0;34m\u001b[0m\u001b[0m\n\u001b[0m\u001b[1;32m     10\u001b[0m     \u001b[0;31m#print(w.shape)\u001b[0m\u001b[0;34m\u001b[0m\u001b[0;34m\u001b[0m\u001b[0m\n\u001b[1;32m     11\u001b[0m     \u001b[0mw\u001b[0m\u001b[0;34m[\u001b[0m\u001b[0mnp\u001b[0m\u001b[0;34m.\u001b[0m\u001b[0mabs\u001b[0m\u001b[0;34m(\u001b[0m\u001b[0mw\u001b[0m\u001b[0;34m)\u001b[0m\u001b[0;34m<\u001b[0m\u001b[0mla\u001b[0m\u001b[0;34m]\u001b[0m\u001b[0;34m=\u001b[0m\u001b[0;36m0\u001b[0m\u001b[0;34m\u001b[0m\u001b[0m\n",
      "\u001b[0;31mNameError\u001b[0m: name 'mu' is not defined"
     ]
    }
   ],
   "source": [
    "w=np.zeros((d,1))\n",
    "la=0.0024\n",
    "eta=0.1\n",
    "lg=[loss(x,y,w)];\n",
    "k = 30\n",
    "for i in range(0,300):\n",
    "    g=gradloss(x,y,w)\n",
    "    w=w+eta*g;\n",
    "    Me = k + (d-k)*np.max(0, 100-2*i/100+2*i*mu)\n",
    "    #print(w.shape)\n",
    "    w[np.abs(w)<la]=0\n",
    "    lg.append(loss(x,ys,w)) \n",
    "print(np.sum(np.abs(w)>0))\n",
    "print(\"train err=%g, test err=%g\\n\"%(err(x,ys,w),err(xt,yt,w)))\n",
    "plt.plot(lg,'k')\n",
    "plt.savefig('c:/tmp/loss.png', dpi = 300)\n",
    "plt.show()\n",
    "plt.close()"
   ]
  },
  {
   "cell_type": "code",
   "execution_count": null,
   "metadata": {},
   "outputs": [],
   "source": [
    "xw=np.matmul(x,w)\n",
    "py=np.sign(xw)\n",
    "py[py<0]=0\n",
    "1-np.mean(py==y)"
   ]
  },
  {
   "cell_type": "code",
   "execution_count": null,
   "metadata": {},
   "outputs": [],
   "source": [
    "xw=np.matmul(xt,w)\n",
    "py=np.sign(xw)\n",
    "py[py<0]=0\n",
    "1-np.mean(py==yt)"
   ]
  },
  {
   "cell_type": "code",
   "execution_count": null,
   "metadata": {},
   "outputs": [],
   "source": [
    "py[0:10]"
   ]
  },
  {
   "cell_type": "code",
   "execution_count": null,
   "metadata": {},
   "outputs": [],
   "source": [
    "yt[0:10]"
   ]
  },
  {
   "cell_type": "code",
   "execution_count": null,
   "metadata": {},
   "outputs": [],
   "source": []
  }
 ],
 "metadata": {
  "kernelspec": {
   "display_name": "Python 3",
   "language": "python",
   "name": "python3"
  },
  "language_info": {
   "codemirror_mode": {
    "name": "ipython",
    "version": 3
   },
   "file_extension": ".py",
   "mimetype": "text/x-python",
   "name": "python",
   "nbconvert_exporter": "python",
   "pygments_lexer": "ipython3",
   "version": "3.5.3"
  }
 },
 "nbformat": 4,
 "nbformat_minor": 1
}
