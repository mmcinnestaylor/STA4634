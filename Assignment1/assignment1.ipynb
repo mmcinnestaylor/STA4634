{
 "cells": [
  {
   "cell_type": "code",
   "execution_count": null,
   "metadata": {
    "collapsed": true
   },
   "outputs": [],
   "source": [
    "import pandas as pd\n",
    "import numpy as np\n",
    "import matplotlib.pyplot as plt\n",
    "from sklearn.tree import DecisionTreeClassifier"
   ]
  },
  {
   "cell_type": "code",
   "execution_count": null,
   "metadata": {
    "collapsed": false
   },
   "outputs": [],
   "source": [
    "def calculateError(trainingData, trainingLabels, testData, testLabels, maxDepth):\n",
    "    trainingErrors = []\n",
    "    testErrors = []\n",
    "    minError = 100\n",
    "    minErrorDepth = 0\n",
    "    for i in range(1,maxDepth + 1):\n",
    "        clf = DecisionTreeClassifier(max_depth=i)\n",
    "        clf = clf.fit(trainingData,trainingLabels) \n",
    "        trainingErrors.append(1 - clf.score(trainingData, trainingLabels))\n",
    "        testError = 1 - clf.score(testData, testLabels)\n",
    "        testErrors.append(testError)\n",
    "        testError = round(testError, 3)\n",
    "        \n",
    "        if testError < minError:\n",
    "            minError = testError\n",
    "            minErrorDepth = i\n",
    "            \n",
    "    return trainingErrors, testErrors, minError * 100, minErrorDepth"
   ]
  },
  {
   "cell_type": "code",
   "execution_count": null,
   "metadata": {
    "collapsed": true
   },
   "outputs": [],
   "source": [
    "def graphResults(trainErrors, testErrors, depth):\n",
    "    trainErrors = np.array(trainErrors) * 100\n",
    "    testErrors = np.array(testErrors) * 100\n",
    "    xAxis = np.arange(1, depth + 1)\n",
    "    plt.plot(xAxis, trainErrors, linestyle='-', marker='o', color='r', label='Train')\n",
    "    plt.plot(xAxis, testErrors, linestyle='-', marker='o', color='b', label='Test')\n",
    "    plt.grid(True)\n",
    "    plt.xticks(xAxis)\n",
    "    plt.title('Misclassification Error vs Decision Tree Depth')\n",
    "    plt.xlabel('Decision Tree Depths')\n",
    "    plt.ylabel('Misclassification Error (%)')\n",
    "    plt.legend()\n",
    "    plt.show()"
   ]
  },
  {
   "cell_type": "code",
   "execution_count": null,
   "metadata": {
    "collapsed": false
   },
   "outputs": [],
   "source": [
    "trainingDataMadelon = pd.read_csv('MADELON/madelon_train.data', delim_whitespace=True, header=None)\n",
    "trainingLabelsMadelon = pd.read_csv('MADELON/madelon_train.labels', delim_whitespace=True, header=None)\n",
    "testDataMadelon = pd.read_csv('MADELON/madelon_valid.data', delim_whitespace=True, header=None)\n",
    "testLabelsMadelon = pd.read_csv('MADELON/madelon_valid.labels', delim_whitespace=True, header=None)"
   ]
  },
  {
   "cell_type": "code",
   "execution_count": null,
   "metadata": {
    "collapsed": false
   },
   "outputs": [],
   "source": [
    "trainingDataWilt = pd.read_csv('wilt/wilt_train.csv', header=None)\n",
    "trainingLabelsWilt = pd.read_csv('wilt/wilt_train.labels', header=None)\n",
    "testDataWilt = pd.read_csv('wilt/wilt_test.csv', header=None)\n",
    "testLabelsWilt = pd.read_csv('wilt/wilt_test.labels', header=None)"
   ]
  },
  {
   "cell_type": "code",
   "execution_count": null,
   "metadata": {
    "collapsed": true
   },
   "outputs": [],
   "source": [
    "trainingDataGisette = pd.read_csv('Gisette/gisette_train.data', delim_whitespace=True, header=None)\n",
    "trainingLabelsGisette = pd.read_csv('Gisette/gisette_train.data', delim_whitespace=True, header=None)\n",
    "testDataGisette = pd.read_csv('Gisette/gisette_valid.data', delim_whitespace=True, header=None)\n",
    "testLabelsGisette = pd.read_csv('Gisette/gisette_valid.data', delim_whitespace=True, header=None)"
   ]
  },
  {
   "cell_type": "code",
   "execution_count": null,
   "metadata": {
    "collapsed": true
   },
   "outputs": [],
   "source": [
    "errorTable = pd.DataFrame({\"Min_Error (%)\":[0, 0, 0], \"Depth\":[0, 0, 0]}, index=[\"MADELON\", \"wilt\", \"Gisette\"],)"
   ]
  },
  {
   "cell_type": "code",
   "execution_count": null,
   "metadata": {
    "collapsed": false
   },
   "outputs": [],
   "source": [
    "trainingErrorsMadelon, testErrorsMadelon, minErrorMadelon, errorDepthMadelon = calculateError(trainingDataMadelon, trainingLabelsMadelon, testDataMadelon, testLabelsMadelon, 12)"
   ]
  },
  {
   "cell_type": "code",
   "execution_count": null,
   "metadata": {
    "collapsed": true
   },
   "outputs": [],
   "source": [
    "errorTable.loc['MADELON', 'Min_Error (%)'] = minErrorMadelon\n",
    "errorTable.loc['MADELON', 'Depth'] = errorDepthMadelon"
   ]
  },
  {
   "cell_type": "code",
   "execution_count": null,
   "metadata": {
    "collapsed": false
   },
   "outputs": [],
   "source": [
    "graphResults(trainingErrorsMadelon, testErrorsMadelon, 12)"
   ]
  },
  {
   "cell_type": "code",
   "execution_count": null,
   "metadata": {
    "collapsed": false
   },
   "outputs": [],
   "source": [
    "trainingErrorsWilt, testErrorsWilt, minErrorWilt, errorDepthWilt = calculateError(trainingDataWilt, trainingLabelsWilt, testDataWilt, testLabelsWilt, 10)"
   ]
  },
  {
   "cell_type": "code",
   "execution_count": null,
   "metadata": {
    "collapsed": true
   },
   "outputs": [],
   "source": [
    "errorTable.loc['wilt', 'Min_Error (%)'] = minErrorWilt\n",
    "errorTable.loc['wilt', 'Depth'] = errorDepthWilt"
   ]
  },
  {
   "cell_type": "code",
   "execution_count": null,
   "metadata": {
    "collapsed": false
   },
   "outputs": [],
   "source": [
    "graphResults(trainingErrorsWilt, testErrorsWilt, 10)"
   ]
  },
  {
   "cell_type": "code",
   "execution_count": null,
   "metadata": {
    "collapsed": false
   },
   "outputs": [],
   "source": [
    "trainingErrorsGisette, testErrorsGisette, minErrorGisette, errorDepthGisette = calculateError(trainingDataGisette, trainingLabelsGisette, testDataGisette, testLabelsGisette, 6)"
   ]
  },
  {
   "cell_type": "code",
   "execution_count": null,
   "metadata": {
    "collapsed": true
   },
   "outputs": [],
   "source": [
    "errorTable.loc['Gisette', 'Min_Error (%)'] = minErrorGisette\n",
    "errorTable.loc['Gisette', 'Depth'] = errorDepthGisette"
   ]
  },
  {
   "cell_type": "code",
   "execution_count": null,
   "metadata": {
    "collapsed": true
   },
   "outputs": [],
   "source": [
    "graphResults(trainingErrorsGisette, testErrorsGisette, 6)"
   ]
  },
  {
   "cell_type": "code",
   "execution_count": null,
   "metadata": {
    "collapsed": true
   },
   "outputs": [],
   "source": [
    "errorTable"
   ]
  }
 ],
 "metadata": {
  "kernelspec": {
   "display_name": "Python 3",
   "language": "python",
   "name": "python3"
  },
  "language_info": {
   "codemirror_mode": {
    "name": "ipython",
    "version": 3
   },
   "file_extension": ".py",
   "mimetype": "text/x-python",
   "name": "python",
   "nbconvert_exporter": "python",
   "pygments_lexer": "ipython3",
   "version": "3.6.0"
  }
 },
 "nbformat": 4,
 "nbformat_minor": 2
}
